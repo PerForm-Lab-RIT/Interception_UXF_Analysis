{
 "cells": [
  {
   "cell_type": "code",
   "execution_count": 1,
   "metadata": {},
   "outputs": [],
   "source": [
    "import sys\n",
    "sys.path.append(\"../Modules/\")\n",
    "sys.path.append(\"../\")\n",
    "import os\n",
    "\n",
    "import pandas as pd\n",
    "import numpy as np\n",
    "\n",
    "from configobj import ConfigObj\n",
    "from configobj import flatten_errors\n",
    "from validate import Validator\n",
    "    \n",
    "import logging\n",
    "\n",
    "#fmt = 'logging.Formatter(''%(levelname)s_%(name)s-%(funcName)s(): - %(message)s'\n",
    "fmt = '%(levelname)s_%(name)s-%(funcName)s(): - %(message)s'\n",
    "logging.basicConfig(level=logging.INFO, format=fmt)\n",
    "logger = logging.getLogger(__name__)\n"
   ]
  },
  {
   "cell_type": "code",
   "execution_count": 2,
   "metadata": {},
   "outputs": [],
   "source": [
    "import matplotlib.pyplot as plt\n",
    "%matplotlib notebook"
   ]
  },
  {
   "cell_type": "code",
   "execution_count": 7,
   "metadata": {},
   "outputs": [],
   "source": [
    "allTrialData = pd.read_pickle('../allTrialData.pickle')\n"
   ]
  },
  {
   "cell_type": "code",
   "execution_count": 8,
   "metadata": {},
   "outputs": [
    {
     "name": "stderr",
     "output_type": "stream",
     "text": [
      "INFO_processDataE1-removeOutliers(): - Removed 6 outliers from meanGazeToBallDistDuringWindow\n"
     ]
    }
   ],
   "source": [
    "from processDataE1 import removeOutliers\n",
    "allTrialData = removeOutliers(allTrialData,'meanGazeToBallDistDuringWindow',stdRange=2.5)\n"
   ]
  },
  {
   "cell_type": "code",
   "execution_count": null,
   "metadata": {},
   "outputs": [],
   "source": []
  },
  {
   "cell_type": "code",
   "execution_count": 9,
   "metadata": {},
   "outputs": [],
   "source": [
    "fixDf_ipd_passLoc_bl_sub = allTrialData.groupby(['ipdRatio',\n",
    "                                                  'passingLocX',\n",
    "                                                  'blockNumber',\n",
    "                                                  'fileName'])\n",
    "\n",
    "\n",
    "ipdRatioList = list(np.sort(allTrialData.groupby('ipdRatio').groups.keys()))\n",
    "passingLocXList = list(np.sort(allTrialData.groupby('passingLocX').groups.keys()))\n",
    "blockList = list(allTrialData.groupby('blockNumber').groups.keys())\n",
    "fileNames = list(allTrialData.groupby('fileName').groups.keys())\n",
    "\n",
    "numIpd = len(ipdRatioList)\n",
    "numPassingLoc = len(passingLocXList)\n",
    "numBlock = len(blockList)\n",
    "numSub = len(fileNames)\n",
    "\n",
    "meanGtoBDuringWindow_ipd_pass_bl_sub = np.zeros([numIpd,numPassingLoc,numBlock, numSub])\n",
    "stdGtoBDuringWindow_ipd_pass_bl_sub = np.zeros([numIpd,numPassingLoc,numBlock, numSub])\n",
    "\n",
    "fileNames_sub = []\n",
    "for (ipd,pLoc,bl,sub), data in fixDf_ipd_passLoc_bl_sub:\n",
    "\n",
    "    # Iterate through groups, while keeping track of which group we're in.\n",
    "    # The tuple (,pLoc,bl,sub) contains the group indices\n",
    "    # The variable data is a dataframe containing rows in that group \n",
    "    \n",
    "    # Convert group indices to numeric indices into their value lists\n",
    "    # ...what is the index of a  of 0.5 in the ipdRatioList?\n",
    "    \n",
    "    ipdIdx  = [i for i, s in enumerate(ipdRatioList) if ipd == s]\n",
    "    plocIdx  = [i for i, s in enumerate(passingLocXList) if pLoc == s]  \n",
    "    blIdx  = [i for i, s in enumerate(blockList) if bl == s]\n",
    "    subIdx  = [i for i, s in enumerate(fileNames) if sub == s]\n",
    "\n",
    "\n",
    "    meanGtoBDuringWindow_ipd_pass_bl_sub[ipdIdx,plocIdx,blIdx,subIdx]  = data[('meanGazeToBallDistDuringWindow','')].mean()\n",
    "    stdGtoBDuringWindow_ipd_pass_bl_sub[ipdIdx,plocIdx,blIdx,subIdx]  = data[('meanGazeToBallDistDuringWindow','')].std()\n"
   ]
  },
  {
   "cell_type": "code",
   "execution_count": 10,
   "metadata": {},
   "outputs": [
    {
     "data": {
      "text/plain": [
       "array([[[[0.        , 0.        , 0.        , 0.        ],\n",
       "         [0.87175031, 1.11561027, 0.67851927, 0.8961189 ]],\n",
       "\n",
       "        [[0.        , 0.        , 0.        , 0.        ],\n",
       "         [0.91505765, 1.11230165, 0.87113544, 0.98385074]],\n",
       "\n",
       "        [[0.        , 0.        , 0.        , 0.        ],\n",
       "         [1.05721867, 1.44448862, 1.37595715, 1.19977748]]],\n",
       "\n",
       "\n",
       "       [[[0.        , 0.        , 0.        , 0.        ],\n",
       "         [0.8987009 , 0.89823045, 1.09544155, 0.95541557]],\n",
       "\n",
       "        [[0.        , 0.        , 0.        , 0.        ],\n",
       "         [1.13253376, 1.14562459, 1.28301276, 1.17254772]],\n",
       "\n",
       "        [[0.        , 0.        , 0.        , 0.        ],\n",
       "         [1.04771441, 1.49493881, 1.31650446, 1.19689682]]],\n",
       "\n",
       "\n",
       "       [[[1.09805186, 1.03957193, 1.0571851 , 1.05922395],\n",
       "         [1.11049888, 1.21886221, 1.41176858, 1.25088974]],\n",
       "\n",
       "        [[1.03928208, 1.1627227 , 1.24274521, 1.302557  ],\n",
       "         [1.48622656, 1.40039162, 1.34929681, 1.13931828]],\n",
       "\n",
       "        [[1.27972832, 1.43155123, 1.40348615, 1.20295593],\n",
       "         [1.209437  , 1.35756709, 1.61479589, 1.16644597]]]])"
      ]
     },
     "execution_count": 10,
     "metadata": {},
     "output_type": "execute_result"
    }
   ],
   "source": [
    "meanGtoBDuringWindow_ipd_pass_bl_sub"
   ]
  },
  {
   "cell_type": "markdown",
   "metadata": {},
   "source": [
    "#  Mean G2B distance during window all subs"
   ]
  },
  {
   "cell_type": "code",
   "execution_count": 11,
   "metadata": {},
   "outputs": [
    {
     "data": {
      "image/png": "[encoded data removed]",
      "text/plain": [
       "<Figure size 576x360 with 1 Axes>"
      ]
     },
     "metadata": {},
     "output_type": "display_data"
    }
   ],
   "source": [
    "plotSubData = True\n",
    "\n",
    "##############\n",
    "nSubs = np.shape(meanGtoBDuringWindow_ipd_pass_bl_sub)[3]\n",
    "meanGtoBDuringWindow_ipd_pass_bl  = np.nanmean(meanGtoBDuringWindow_ipd_pass_bl_sub,axis=3)\n",
    "stdGtoBDuringWindow_ipd_pass_bl = np.nanstd(meanGtoBDuringWindow_ipd_pass_bl_sub,axis=3) / np.sqrt(nSubs)\n",
    "\n",
    "#pctCaught_ipd_passLoc_bl_sub\n",
    "\n",
    "p, ax = plt.subplots(1, 1) #sharey=True)\n",
    "\n",
    "cList = ['r','g','b']\n",
    "offsets = np.linspace(-.03,.03,6)\n",
    "\n",
    "# Block 1\n",
    "for pIdx, pVal in enumerate(passingLocXList):\n",
    "\n",
    "    x = ipdRatioList + offsets[pIdx]\n",
    "    y = meanGtoBDuringWindow_ipd_pass_bl[:,pIdx,1]\n",
    "    yerr = stdGtoBDuringWindow_ipd_pass_bl[:,pIdx,1]\n",
    "    h, = ax.plot(x, y,linewidth=2,color = cList[pIdx])\n",
    "    h.set_label(pVal)\n",
    "    ax.errorbar(x=x, y=y,yerr=yerr,elinewidth=2,ecolor = cList[pIdx],fmt=\"none\")\n",
    "    \n",
    "#######\n",
    "\n",
    "bIdx = 0\n",
    "cList = ['r','g','b']\n",
    "\n",
    "ax.scatter(x = [1+.01] * len(meanGtoBDuringWindow_ipd_pass_bl[2,:,bIdx]) , \n",
    "           y = meanGtoBDuringWindow_ipd_pass_bl[2,:,bIdx],\n",
    "          s=100,c=cList)\n",
    "\n",
    "ax.errorbar(x = [1+.01] * len(meanGtoBDuringWindow_ipd_pass_bl[2,:,bIdx]), \n",
    "            y = meanGtoBDuringWindow_ipd_pass_bl[2,:,bIdx],\n",
    "            yerr = stdGtoBDuringWindow_ipd_pass_bl[2,:,bIdx] ,\n",
    "            elinewidth=2,\n",
    "            ecolor = 'k',fmt=\"none\")\n",
    "\n",
    "plt.gcf().set_size_inches(8,5)\n",
    "ax.set_ylabel('mean gaze-to-ball distance in window', fontsize=12)\n",
    "ax.set_xlabel('ipdRatio ', fontsize=12)\n",
    "\n",
    "plt.legend(title='Passing distance\\n(arm lengths)')\n",
    "ax.axes.spines['top'].set_visible(False)\n",
    "ax.axes.spines['right'].set_visible(False)\n",
    "ax.axes.yaxis.grid(True)\n",
    "ax.axes.xaxis.grid(True)\n",
    "ax.axes.set_axisbelow(True)\n",
    "\n",
    "plt.rcParams[\"font.family\"] = \"sans-serif\"\n",
    "ax.set_xticks(ipdRatioList)\n",
    "ax.tick_params(axis='both', which='major', labelsize=14)\n",
    "\n",
    "p.set_facecolor('w')\n",
    "\n",
    "# outDir = '../subFigs/'\n",
    "# if not os.path.exists(outDir):\n",
    "#     os.makedirs(outDir)\n",
    "# fName = outDir + 'meanCatchingRates.png'\n",
    "# plt.savefig(fName, facecolor=p.get_facecolor(), transparent=True)\n"
   ]
  },
  {
   "cell_type": "code",
   "execution_count": null,
   "metadata": {},
   "outputs": [],
   "source": []
  }
 ],
 "metadata": {
  "kernelspec": {
   "display_name": "Python 2",
   "language": "python",
   "name": "python2"
  },
  "language_info": {
   "codemirror_mode": {
    "name": "ipython",
    "version": 2
   },
   "file_extension": ".py",
   "mimetype": "text/x-python",
   "name": "python",
   "nbconvert_exporter": "python",
   "pygments_lexer": "ipython2",
   "version": "2.7.17"
  }
 },
 "nbformat": 4,
 "nbformat_minor": 2
}
