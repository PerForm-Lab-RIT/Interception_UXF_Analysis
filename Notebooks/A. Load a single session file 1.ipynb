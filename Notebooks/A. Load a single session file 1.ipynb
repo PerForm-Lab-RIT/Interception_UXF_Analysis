{
 "cells": [
  {
   "cell_type": "code",
   "execution_count": 1,
   "metadata": {},
   "outputs": [],
   "source": [
    "# This cell sets the CWD to the parent directory.  \n",
    "# If you run this more than once, it will cause problems!\n",
    "\n",
    "import os\n",
    "wd = os.getcwd()\n",
    "os.chdir('/'.join(wd.split('/')[:-1])+'/'  )\n",
    "print(\"CWD:\" + os.getcwd())"
   ]
  },
  {
   "cell_type": "code",
   "execution_count": 2,
   "metadata": {},
   "outputs": [
    {
     "name": "stdout",
     "output_type": "stream",
     "text": [
      "CWD:/Users/gjdpci/Dropbox/Code/Catching - IPD/expansion analysis - UXF 1/Interception_UXF_Analysis\n"
     ]
    }
   ],
   "source": [
    "import sys\n",
    "\n",
    "sys.path.append(\"Modules/\")\n",
    "# sys.path.append(\"../Modules/\")\n",
    "sys.path.append(\"/\")\n",
    "\n",
    "\n",
    "import logging\n",
    "import pickle\n",
    "import numpy as np\n",
    "import pandas as pd\n",
    "\n",
    "\n",
    "fmt = '%(levelname)s_%(name)s-%(funcName)s(): - %(message)s'\n",
    "logging.basicConfig(level=logging.INFO, format=fmt)\n",
    "logger = logging.getLogger(__name__)\n",
    "\n",
    "from loadData import unpackSession\n",
    "\n",
    "sys.path.append(\"pyFiles/\")\n",
    "from processData import *"
   ]
  },
  {
   "cell_type": "markdown",
   "metadata": {},
   "source": [
    "### Import raw subject data (slow), or previously imported data from file (fast).\n",
    "\n",
    "If this is the first time you're running this code, it will take a little bit to processe each trial.\n",
    "However, when it is done, the results are saved to a pickle file.  \n",
    "\n",
    "The \"doNotLoad\" is False by default.\n",
    "When False, the method will always check if this pickle file exists.  If it does, it loads it.  This is a much faster process.\n",
    "\n",
    "If you want to load the raw data (start from scratch), set doNotLoad=True\n"
   ]
  },
  {
   "cell_type": "code",
   "execution_count": 3,
   "metadata": {},
   "outputs": [
    {
     "name": "stderr",
     "output_type": "stream",
     "text": [
      "INFO_loadData-unpackSession(): - Processing session: Data/P_201218121321_sub1\n",
      "INFO_loadData-unpackSession(): - Importing session dict from pickle.\n"
     ]
    },
    {
     "name": "stdout",
     "output_type": "stream",
     "text": [
      "***> 0: P_201218121321_sub1\n",
      "1: P_200917094202\n"
     ]
    }
   ],
   "source": [
    "subNum = 0\n",
    "\n",
    "sessionDict = unpackSession(subNum,doNotLoad=False)"
   ]
  },
  {
   "cell_type": "markdown",
   "metadata": {},
   "source": [
    "### Here are the keys in the dictionary"
   ]
  },
  {
   "cell_type": "code",
   "execution_count": 4,
   "metadata": {},
   "outputs": [
    {
     "data": {
      "text/plain": [
       "dict_keys(['subID', 'trialInfo', 'expConfig', 'rawExpUnity', 'rawExpGaze', 'processedExp', 'rawCalibUnity', 'rawCalibGaze', 'processedCalib', 'analysisParameters'])"
      ]
     },
     "execution_count": 4,
     "metadata": {},
     "output_type": "execute_result"
    }
   ],
   "source": [
    "sessionDict.keys()"
   ]
  },
  {
   "cell_type": "markdown",
   "metadata": {},
   "source": [
    "Each key is linked to a pandas dataframe.  Lets explore the keys in processedCalib..."
   ]
  },
  {
   "cell_type": "code",
   "execution_count": 5,
   "metadata": {},
   "outputs": [
    {
     "data": {
      "text/plain": [
       "MultiIndex([(     'base_data',     ''),\n",
       "            (   'blockNumber',     ''),\n",
       "            (        'camera', 'R0C0'),\n",
       "            (        'camera', 'R0C1'),\n",
       "            (        'camera', 'R0C2'),\n",
       "            (        'camera', 'R0C3'),\n",
       "            (        'camera', 'R1C0'),\n",
       "            (        'camera', 'R1C1'),\n",
       "            (        'camera', 'R1C2'),\n",
       "            (        'camera', 'R1C3'),\n",
       "            (        'camera', 'R2C0'),\n",
       "            (        'camera', 'R2C1'),\n",
       "            (        'camera', 'R2C2'),\n",
       "            (        'camera', 'R2C3'),\n",
       "            (        'camera', 'R3C0'),\n",
       "            (        'camera', 'R3C1'),\n",
       "            (        'camera', 'R3C2'),\n",
       "            (        'camera', 'R3C3'),\n",
       "            (     'cameraPos',    'x'),\n",
       "            (     'cameraPos',    'y'),\n",
       "            (     'cameraPos',    'z'),\n",
       "            (     'cameraRot',    'x'),\n",
       "            (     'cameraRot',    'y'),\n",
       "            (     'cameraRot',    'z'),\n",
       "            (    'confidence',     ''),\n",
       "            ('eye-center0-3d',    'x'),\n",
       "            ('eye-center0-3d',    'y'),\n",
       "            ('eye-center0-3d',    'z'),\n",
       "            ('eye-center1-3d',    'x'),\n",
       "            ('eye-center1-3d',    'y'),\n",
       "            ('eye-center1-3d',    'z'),\n",
       "            (     'frameTime',     ''),\n",
       "            (  'gaze-normal0',    'x'),\n",
       "            (  'gaze-normal0',    'y'),\n",
       "            (  'gaze-normal0',    'z'),\n",
       "            (  'gaze-normal1',    'x'),\n",
       "            (  'gaze-normal1',    'y'),\n",
       "            (  'gaze-normal1',    'z'),\n",
       "            ( 'gaze-point-3d',    'x'),\n",
       "            ( 'gaze-point-3d',    'y'),\n",
       "            ( 'gaze-point-3d',    'z'),\n",
       "            (         'index',     ''),\n",
       "            (      'norm-pos',    'x'),\n",
       "            (      'norm-pos',    'y'),\n",
       "            ('pupilTimestamp',     ''),\n",
       "            (   'trialNumber',     ''),\n",
       "            (   'world_index',     '')],\n",
       "           )"
      ]
     },
     "execution_count": 5,
     "metadata": {},
     "output_type": "execute_result"
    }
   ],
   "source": [
    "sessionDict['processedCalib'].keys()"
   ]
  },
  {
   "cell_type": "markdown",
   "metadata": {},
   "source": []
  },
  {
   "cell_type": "markdown",
   "metadata": {},
   "source": [
    "Lets look at a slice of ['processedCalib']['gaze-normal0']"
   ]
  },
  {
   "cell_type": "markdown",
   "metadata": {},
   "source": [
    "## Want to process many dataframes at once?\n",
    "see processData.py processAllSesssions() for an example of how to automate that process."
   ]
  }
 ],
 "metadata": {
  "kernelspec": {
   "display_name": "Python 3",
   "language": "python",
   "name": "python3"
  },
  "language_info": {
   "codemirror_mode": {
    "name": "ipython",
    "version": 3
   },
   "file_extension": ".py",
   "mimetype": "text/x-python",
   "name": "python",
   "nbconvert_exporter": "python",
   "pygments_lexer": "ipython3",
   "version": "3.7.4"
  }
 },
 "nbformat": 4,
 "nbformat_minor": 2
}
