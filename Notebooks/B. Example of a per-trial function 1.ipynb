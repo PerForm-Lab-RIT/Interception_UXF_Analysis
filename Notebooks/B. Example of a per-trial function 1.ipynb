{
 "cells": [
  {
   "cell_type": "code",
   "execution_count": 1,
   "metadata": {},
   "outputs": [
    {
     "name": "stdout",
     "output_type": "stream",
     "text": [
      "CWD:/Users/gjdpci/Dropbox/Code/Catching - IPD/expansion analysis - UXF 1/Interception_UXF_Analysis\n"
     ]
    }
   ],
   "source": [
    "# This cell sets the CWD to the parent directory.  \n",
    "# If you run this more than once, it will cause problems!\n",
    "\n",
    "import os\n",
    "wd = os.getcwd()\n",
    "os.chdir('/'.join(wd.split('/')[:-1])+'/'  )\n",
    "print(\"CWD:\" + os.getcwd())\n",
    "\n",
    "\n"
   ]
  },
  {
   "cell_type": "code",
   "execution_count": 2,
   "metadata": {},
   "outputs": [
    {
     "name": "stdout",
     "output_type": "stream",
     "text": [
      "CWD:/Users/gjdpci/Dropbox/Code/Catching - IPD/expansion analysis - UXF 1/Interception_UXF_Analysis\n"
     ]
    }
   ],
   "source": [
    "import sys\n",
    "\n",
    "sys.path.append(\"Modules/\")\n",
    "# sys.path.append(\"../Modules/\")\n",
    "sys.path.append(\"/\")\n",
    "\n",
    "\n",
    "import logging\n",
    "import pickle\n",
    "import numpy as np\n",
    "import pandas as pd\n",
    "\n",
    "\n",
    "fmt = '%(levelname)s_%(name)s-%(funcName)s(): - %(message)s'\n",
    "logging.basicConfig(level=logging.INFO, format=fmt)\n",
    "logger = logging.getLogger(__name__)\n",
    "\n",
    "from loadData import unpackSession\n",
    "\n",
    "sys.path.append(\"pyFiles/\")\n",
    "from processData import *"
   ]
  },
  {
   "cell_type": "markdown",
   "metadata": {},
   "source": [
    "### Import raw subject data (slow), or previously imported data from file (fast).\n",
    "\n",
    "If this is the first time you're running this code, it will take a little bit to processe each trial.\n",
    "However, when it is done, the results are saved to a pickle file.  \n",
    "\n",
    "The \"doNotLoad\" is False by default.\n",
    "When False, the method will always check if this pickle file exists.  If it does, it loads it.  This is a much faster process.\n",
    "\n",
    "If you want to load the raw data (start from scratch), set doNotLoad=True\n"
   ]
  },
  {
   "cell_type": "code",
   "execution_count": 3,
   "metadata": {},
   "outputs": [
    {
     "name": "stderr",
     "output_type": "stream",
     "text": [
      "INFO_loadData-unpackSession(): - Processing session: Data/P_200917094202\n",
      "INFO_loadData-unpackSession(): - Importing session dict from pickle.\n"
     ]
    },
    {
     "name": "stdout",
     "output_type": "stream",
     "text": [
      "0: P_201218121321_sub1\n",
      "1: P_201218121321_sub1c\n",
      "2: P_201218121321_sub1.zip\n",
      "3: P_201218121321_sub1b\n",
      "***> 4: P_200917094202\n",
      "5: P_201219105516\n"
     ]
    }
   ],
   "source": [
    "subNum = 4\n",
    "\n",
    "sessionDict = unpackSession(subNum,doNotLoad=False)"
   ]
  },
  {
   "cell_type": "markdown",
   "metadata": {},
   "source": [
    "### Let's inspect the sessiondict and see how the data is organized."
   ]
  },
  {
   "cell_type": "code",
   "execution_count": 4,
   "metadata": {},
   "outputs": [
    {
     "data": {
      "text/plain": [
       "['subID',\n",
       " 'trialInfo',\n",
       " 'expConfig',\n",
       " 'rawExpUnity',\n",
       " 'rawExpGaze',\n",
       " 'processedExp',\n",
       " 'rawCalibUnity',\n",
       " 'rawCalibGaze',\n",
       " 'processedCalib',\n",
       " 'analysisParameters']"
      ]
     },
     "execution_count": 4,
     "metadata": {},
     "output_type": "execute_result"
    }
   ],
   "source": [
    "list(sessionDict.keys())"
   ]
  },
  {
   "cell_type": "markdown",
   "metadata": {},
   "source": [
    "### A description of what's in the session file:\n",
    "\n",
    "* subID: self explanatory\n",
    "* trialInfo: metadata for the trial\n",
    "* expConfig: metadata for the experiment\n",
    "\n",
    "* rawExpUnity: raw data recorded at each Unity call ot Update() - 90 Hz on the Vive.  Data is for catching experiment trials only.\n",
    "\n",
    "* rawExpGaze: raw data recorded at each sample of a Pupil eye camera - [two interleaved 120 hz streams, so approx 240 hz] Data is for catching experiment trials only.\n",
    "\n",
    "* processedExp: Formed by upsampling rawExpUnity to match the frequency of rawExpGaze, and merging. Data is for catching experiment trials only.\n",
    "\n",
    "* rawCalibUnity: Same as rawExpUnity but for calibraiton assessment trials only.\n",
    "* rawCalibGaze: Same as rawExpGaze but for calibraiton assessment trials only.\n",
    "* processedCalib: Same as processedExp but for calibraiton assessment trials only."
   ]
  },
  {
   "cell_type": "markdown",
   "metadata": {},
   "source": [
    "### Let's poke around the trialInfo metadata"
   ]
  },
  {
   "cell_type": "code",
   "execution_count": 5,
   "metadata": {},
   "outputs": [
    {
     "data": {
      "text/plain": [
       "MultiIndex([(                 'ballFinalPos', 'x'),\n",
       "            (                 'ballFinalPos', 'y'),\n",
       "            (                 'ballFinalPos', 'z'),\n",
       "            (               'ballInitialPos', 'x'),\n",
       "            (               'ballInitialPos', 'y'),\n",
       "            (               'ballInitialPos', 'z'),\n",
       "            (               'ballInitialVel', 'x'),\n",
       "            (               'ballInitialVel', 'y'),\n",
       "            (               'ballInitialVel', 'z'),\n",
       "            (       'ball_movement_filename',  ''),\n",
       "            (                  'blockNumber',  ''),\n",
       "            (     'camera_movement_filename',  ''),\n",
       "            (           'contactLocOnPaddle', 'x'),\n",
       "            (           'contactLocOnPaddle', 'y'),\n",
       "            (           'contactLocOnPaddle', 'z'),\n",
       "            (            'contactLocinWorld', 'x'),\n",
       "            (            'contactLocinWorld', 'y'),\n",
       "            (            'contactLocinWorld', 'z'),\n",
       "            (                    'directory',  ''),\n",
       "            (                      'endTime',  ''),\n",
       "            (                   'experiment',  ''),\n",
       "            (                    'eyeHeight',  ''),\n",
       "            (     'gazeTargetPositionInHead', 'x'),\n",
       "            (     'gazeTargetPositionInHead', 'y'),\n",
       "            (     'gazeTargetPositionInHead', 'z'),\n",
       "            (                    'isCaughtQ',  ''),\n",
       "            (                 'isLeftHanded',  ''),\n",
       "            (                     'maxReach',  ''),\n",
       "            (      'noExpansionLastXSeconds',  ''),\n",
       "            (     'paddle_movement_filename',  ''),\n",
       "            (                         'ppid',  ''),\n",
       "            ('pupil_pupilTimeStamp_filename',  ''),\n",
       "            (                'sessionNumber',  ''),\n",
       "            (                    'startTime',  ''),\n",
       "            (                'timeOfContact',  ''),\n",
       "            (                  'trialNumber',  ''),\n",
       "            (           'trialNumberInBlock',  ''),\n",
       "            (                    'trialType',  '')],\n",
       "           )"
      ]
     },
     "execution_count": 5,
     "metadata": {},
     "output_type": "execute_result"
    }
   ],
   "source": [
    "sessionDict['trialInfo'].keys()"
   ]
  },
  {
   "cell_type": "markdown",
   "metadata": {},
   "source": [
    "Let's get some values from the metadata for a single trial:"
   ]
  },
  {
   "cell_type": "code",
   "execution_count": 6,
   "metadata": {},
   "outputs": [
    {
     "name": "stdout",
     "output_type": "stream",
     "text": [
      "Trial number: 11 \n",
      "Trial type: ['interception']\n"
     ]
    }
   ],
   "source": [
    "trialRowIdx = 10\n",
    "\n",
    "aTrialsInfo = sessionDict['trialInfo'].loc[trialRowIdx]\n",
    "\n",
    "print('Trial number: {tNum} \\nTrial type: {tType}'.format(tNum = int(aTrialsInfo['trialNumber']),\n",
    "                                                   tType = str(aTrialsInfo['trialType'].values)))\n"
   ]
  },
  {
   "cell_type": "markdown",
   "metadata": {},
   "source": [
    "Now, let's have a look at what kind of per-frame data in associated with this trial.  You have access to the raw data in rawUnity and rawGaze ['processedExp'] associated with this trial."
   ]
  },
  {
   "cell_type": "code",
   "execution_count": 7,
   "metadata": {},
   "outputs": [
    {
     "data": {
      "text/plain": [
       "Index(['base_data', 'confidence', 'eye_center0_3d_x', 'eye_center0_3d_y',\n",
       "       'eye_center0_3d_z', 'eye_center1_3d_x', 'eye_center1_3d_y',\n",
       "       'eye_center1_3d_z', 'gaze_normal0_x', 'gaze_normal0_y',\n",
       "       'gaze_normal0_z', 'gaze_normal1_x', 'gaze_normal1_y', 'gaze_normal1_z',\n",
       "       'gaze_point_3d_x', 'gaze_point_3d_y', 'gaze_point_3d_z', 'norm_pos_x',\n",
       "       'norm_pos_y', 'pupilTimestamp', 'world_index'],\n",
       "      dtype='object')"
      ]
     },
     "execution_count": 7,
     "metadata": {},
     "output_type": "execute_result"
    }
   ],
   "source": [
    "sessionDict['rawCalibGaze'].keys()"
   ]
  },
  {
   "cell_type": "code",
   "execution_count": 8,
   "metadata": {},
   "outputs": [
    {
     "data": {
      "text/plain": [
       "MultiIndex([('ballColliderRadius',     ''),\n",
       "            (    'ballMeshRadius',     ''),\n",
       "            (           'ballPos',    'x'),\n",
       "            (           'ballPos',    'y'),\n",
       "            (           'ballPos',    'z'),\n",
       "            (           'ballRot',    'x'),\n",
       "            (           'ballRot',    'y'),\n",
       "            (           'ballRot',    'z'),\n",
       "            (           'ballVel',    'x'),\n",
       "            (           'ballVel',    'y'),\n",
       "            (           'ballVel',    'z'),\n",
       "            (         'base_data',     ''),\n",
       "            (       'blockNumber',     ''),\n",
       "            (            'camera', 'R0C0'),\n",
       "            (            'camera', 'R0C1'),\n",
       "            (            'camera', 'R0C2'),\n",
       "            (            'camera', 'R0C3'),\n",
       "            (            'camera', 'R1C0'),\n",
       "            (            'camera', 'R1C1'),\n",
       "            (            'camera', 'R1C2'),\n",
       "            (            'camera', 'R1C3'),\n",
       "            (            'camera', 'R2C0'),\n",
       "            (            'camera', 'R2C1'),\n",
       "            (            'camera', 'R2C2'),\n",
       "            (            'camera', 'R2C3'),\n",
       "            (            'camera', 'R3C0'),\n",
       "            (            'camera', 'R3C1'),\n",
       "            (            'camera', 'R3C2'),\n",
       "            (            'camera', 'R3C3'),\n",
       "            (         'cameraPos',    'x'),\n",
       "            (         'cameraPos',    'y'),\n",
       "            (         'cameraPos',    'z'),\n",
       "            (         'cameraRot',    'x'),\n",
       "            (         'cameraRot',    'y'),\n",
       "            (         'cameraRot',    'z'),\n",
       "            (        'confidence',     ''),\n",
       "            (    'eye-center0-3d',    'x'),\n",
       "            (    'eye-center0-3d',    'y'),\n",
       "            (    'eye-center0-3d',    'z'),\n",
       "            (    'eye-center1-3d',    'x'),\n",
       "            (    'eye-center1-3d',    'y'),\n",
       "            (    'eye-center1-3d',    'z'),\n",
       "            (         'frameTime',     ''),\n",
       "            (      'gaze-normal0',    'x'),\n",
       "            (      'gaze-normal0',    'y'),\n",
       "            (      'gaze-normal0',    'z'),\n",
       "            (      'gaze-normal1',    'x'),\n",
       "            (      'gaze-normal1',    'y'),\n",
       "            (      'gaze-normal1',    'z'),\n",
       "            (     'gaze-point-3d',    'x'),\n",
       "            (     'gaze-point-3d',    'y'),\n",
       "            (     'gaze-point-3d',    'z'),\n",
       "            (             'index',     ''),\n",
       "            (          'norm-pos',    'x'),\n",
       "            (          'norm-pos',    'y'),\n",
       "            (            'paddle', 'R0C0'),\n",
       "            (            'paddle', 'R0C1'),\n",
       "            (            'paddle', 'R0C2'),\n",
       "            (            'paddle', 'R0C3'),\n",
       "            (            'paddle', 'R1C0'),\n",
       "            (            'paddle', 'R1C1'),\n",
       "            (            'paddle', 'R1C2'),\n",
       "            (            'paddle', 'R1C3'),\n",
       "            (            'paddle', 'R2C0'),\n",
       "            (            'paddle', 'R2C1'),\n",
       "            (            'paddle', 'R2C2'),\n",
       "            (            'paddle', 'R2C3'),\n",
       "            (            'paddle', 'R3C0'),\n",
       "            (            'paddle', 'R3C1'),\n",
       "            (            'paddle', 'R3C2'),\n",
       "            (            'paddle', 'R3C3'),\n",
       "            (         'paddlePos',    'x'),\n",
       "            (         'paddlePos',    'y'),\n",
       "            (         'paddlePos',    'z'),\n",
       "            (         'paddleRot',    'x'),\n",
       "            (         'paddleRot',    'y'),\n",
       "            (         'paddleRot',    'z'),\n",
       "            (    'pupilTimestamp',     ''),\n",
       "            (       'trialNumber',     ''),\n",
       "            (       'world_index',     '')],\n",
       "           )"
      ]
     },
     "execution_count": 8,
     "metadata": {},
     "output_type": "execute_result"
    }
   ],
   "source": [
    "sessionDict['processedCalib'].keys()\n",
    "sessionDict['processedCalib']['camera']"
   ]
  },
  {
   "cell_type": "markdown",
   "metadata": {},
   "source": [
    "Note that the column indices (listed above) are 'multiIndex'.  \n",
    "They complicate things and can cause issues sometimes, but are generally helpful for data organization. \n",
    "\n",
    "Using the first-level column index will also pull up all subindices:"
   ]
  },
  {
   "cell_type": "code",
   "execution_count": 9,
   "metadata": {},
   "outputs": [
    {
     "data": {
      "text/html": [
       "<div>\n",
       "<style scoped>\n",
       "    .dataframe tbody tr th:only-of-type {\n",
       "        vertical-align: middle;\n",
       "    }\n",
       "\n",
       "    .dataframe tbody tr th {\n",
       "        vertical-align: top;\n",
       "    }\n",
       "\n",
       "    .dataframe thead tr th {\n",
       "        text-align: left;\n",
       "    }\n",
       "</style>\n",
       "<table border=\"1\" class=\"dataframe\">\n",
       "  <thead>\n",
       "    <tr>\n",
       "      <th></th>\n",
       "      <th>ballColliderRadius</th>\n",
       "      <th>ballMeshRadius</th>\n",
       "      <th colspan=\"3\" halign=\"left\">ballPos</th>\n",
       "      <th colspan=\"3\" halign=\"left\">ballRot</th>\n",
       "      <th colspan=\"2\" halign=\"left\">ballVel</th>\n",
       "      <th>...</th>\n",
       "      <th>paddle</th>\n",
       "      <th colspan=\"3\" halign=\"left\">paddlePos</th>\n",
       "      <th colspan=\"3\" halign=\"left\">paddleRot</th>\n",
       "      <th>pupilTimestamp</th>\n",
       "      <th>trialNumber</th>\n",
       "      <th>world_index</th>\n",
       "    </tr>\n",
       "    <tr>\n",
       "      <th></th>\n",
       "      <th></th>\n",
       "      <th></th>\n",
       "      <th>x</th>\n",
       "      <th>y</th>\n",
       "      <th>z</th>\n",
       "      <th>x</th>\n",
       "      <th>y</th>\n",
       "      <th>z</th>\n",
       "      <th>x</th>\n",
       "      <th>y</th>\n",
       "      <th>...</th>\n",
       "      <th>R3C3</th>\n",
       "      <th>x</th>\n",
       "      <th>y</th>\n",
       "      <th>z</th>\n",
       "      <th>x</th>\n",
       "      <th>y</th>\n",
       "      <th>z</th>\n",
       "      <th></th>\n",
       "      <th></th>\n",
       "      <th></th>\n",
       "    </tr>\n",
       "  </thead>\n",
       "  <tbody>\n",
       "    <tr>\n",
       "      <th>0</th>\n",
       "      <td>NaN</td>\n",
       "      <td>NaN</td>\n",
       "      <td>NaN</td>\n",
       "      <td>NaN</td>\n",
       "      <td>NaN</td>\n",
       "      <td>NaN</td>\n",
       "      <td>NaN</td>\n",
       "      <td>NaN</td>\n",
       "      <td>NaN</td>\n",
       "      <td>NaN</td>\n",
       "      <td>...</td>\n",
       "      <td>1</td>\n",
       "      <td>0</td>\n",
       "      <td>0</td>\n",
       "      <td>0</td>\n",
       "      <td>0</td>\n",
       "      <td>0</td>\n",
       "      <td>90</td>\n",
       "      <td>483821.611892</td>\n",
       "      <td>1</td>\n",
       "      <td>NaN</td>\n",
       "    </tr>\n",
       "    <tr>\n",
       "      <th>1</th>\n",
       "      <td>NaN</td>\n",
       "      <td>NaN</td>\n",
       "      <td>NaN</td>\n",
       "      <td>NaN</td>\n",
       "      <td>NaN</td>\n",
       "      <td>NaN</td>\n",
       "      <td>NaN</td>\n",
       "      <td>NaN</td>\n",
       "      <td>NaN</td>\n",
       "      <td>NaN</td>\n",
       "      <td>...</td>\n",
       "      <td>1</td>\n",
       "      <td>0</td>\n",
       "      <td>0</td>\n",
       "      <td>0</td>\n",
       "      <td>0</td>\n",
       "      <td>0</td>\n",
       "      <td>90</td>\n",
       "      <td>483821.614828</td>\n",
       "      <td>1</td>\n",
       "      <td>1393.0</td>\n",
       "    </tr>\n",
       "    <tr>\n",
       "      <th>2</th>\n",
       "      <td>NaN</td>\n",
       "      <td>NaN</td>\n",
       "      <td>NaN</td>\n",
       "      <td>NaN</td>\n",
       "      <td>NaN</td>\n",
       "      <td>NaN</td>\n",
       "      <td>NaN</td>\n",
       "      <td>NaN</td>\n",
       "      <td>NaN</td>\n",
       "      <td>NaN</td>\n",
       "      <td>...</td>\n",
       "      <td>1</td>\n",
       "      <td>0</td>\n",
       "      <td>0</td>\n",
       "      <td>0</td>\n",
       "      <td>0</td>\n",
       "      <td>0</td>\n",
       "      <td>90</td>\n",
       "      <td>483821.618226</td>\n",
       "      <td>1</td>\n",
       "      <td>1393.0</td>\n",
       "    </tr>\n",
       "    <tr>\n",
       "      <th>3</th>\n",
       "      <td>NaN</td>\n",
       "      <td>NaN</td>\n",
       "      <td>NaN</td>\n",
       "      <td>NaN</td>\n",
       "      <td>NaN</td>\n",
       "      <td>NaN</td>\n",
       "      <td>NaN</td>\n",
       "      <td>NaN</td>\n",
       "      <td>NaN</td>\n",
       "      <td>NaN</td>\n",
       "      <td>...</td>\n",
       "      <td>1</td>\n",
       "      <td>0</td>\n",
       "      <td>0</td>\n",
       "      <td>0</td>\n",
       "      <td>0</td>\n",
       "      <td>0</td>\n",
       "      <td>90</td>\n",
       "      <td>483821.621605</td>\n",
       "      <td>1</td>\n",
       "      <td>1393.0</td>\n",
       "    </tr>\n",
       "    <tr>\n",
       "      <th>4</th>\n",
       "      <td>NaN</td>\n",
       "      <td>NaN</td>\n",
       "      <td>NaN</td>\n",
       "      <td>NaN</td>\n",
       "      <td>NaN</td>\n",
       "      <td>NaN</td>\n",
       "      <td>NaN</td>\n",
       "      <td>NaN</td>\n",
       "      <td>NaN</td>\n",
       "      <td>NaN</td>\n",
       "      <td>...</td>\n",
       "      <td>1</td>\n",
       "      <td>0</td>\n",
       "      <td>0</td>\n",
       "      <td>0</td>\n",
       "      <td>0</td>\n",
       "      <td>0</td>\n",
       "      <td>90</td>\n",
       "      <td>483821.625638</td>\n",
       "      <td>1</td>\n",
       "      <td>1394.0</td>\n",
       "    </tr>\n",
       "    <tr>\n",
       "      <th>...</th>\n",
       "      <td>...</td>\n",
       "      <td>...</td>\n",
       "      <td>...</td>\n",
       "      <td>...</td>\n",
       "      <td>...</td>\n",
       "      <td>...</td>\n",
       "      <td>...</td>\n",
       "      <td>...</td>\n",
       "      <td>...</td>\n",
       "      <td>...</td>\n",
       "      <td>...</td>\n",
       "      <td>...</td>\n",
       "      <td>...</td>\n",
       "      <td>...</td>\n",
       "      <td>...</td>\n",
       "      <td>...</td>\n",
       "      <td>...</td>\n",
       "      <td>...</td>\n",
       "      <td>...</td>\n",
       "      <td>...</td>\n",
       "      <td>...</td>\n",
       "    </tr>\n",
       "    <tr>\n",
       "      <th>2934</th>\n",
       "      <td>NaN</td>\n",
       "      <td>NaN</td>\n",
       "      <td>NaN</td>\n",
       "      <td>NaN</td>\n",
       "      <td>NaN</td>\n",
       "      <td>NaN</td>\n",
       "      <td>NaN</td>\n",
       "      <td>NaN</td>\n",
       "      <td>NaN</td>\n",
       "      <td>NaN</td>\n",
       "      <td>...</td>\n",
       "      <td>1</td>\n",
       "      <td>0</td>\n",
       "      <td>0</td>\n",
       "      <td>0</td>\n",
       "      <td>0</td>\n",
       "      <td>0</td>\n",
       "      <td>90</td>\n",
       "      <td>483838.934642</td>\n",
       "      <td>9</td>\n",
       "      <td>1912.0</td>\n",
       "    </tr>\n",
       "    <tr>\n",
       "      <th>2935</th>\n",
       "      <td>NaN</td>\n",
       "      <td>NaN</td>\n",
       "      <td>NaN</td>\n",
       "      <td>NaN</td>\n",
       "      <td>NaN</td>\n",
       "      <td>NaN</td>\n",
       "      <td>NaN</td>\n",
       "      <td>NaN</td>\n",
       "      <td>NaN</td>\n",
       "      <td>NaN</td>\n",
       "      <td>...</td>\n",
       "      <td>1</td>\n",
       "      <td>0</td>\n",
       "      <td>0</td>\n",
       "      <td>0</td>\n",
       "      <td>0</td>\n",
       "      <td>0</td>\n",
       "      <td>90</td>\n",
       "      <td>483838.937650</td>\n",
       "      <td>9</td>\n",
       "      <td>1912.0</td>\n",
       "    </tr>\n",
       "    <tr>\n",
       "      <th>2936</th>\n",
       "      <td>NaN</td>\n",
       "      <td>NaN</td>\n",
       "      <td>NaN</td>\n",
       "      <td>NaN</td>\n",
       "      <td>NaN</td>\n",
       "      <td>NaN</td>\n",
       "      <td>NaN</td>\n",
       "      <td>NaN</td>\n",
       "      <td>NaN</td>\n",
       "      <td>NaN</td>\n",
       "      <td>...</td>\n",
       "      <td>1</td>\n",
       "      <td>0</td>\n",
       "      <td>0</td>\n",
       "      <td>0</td>\n",
       "      <td>0</td>\n",
       "      <td>0</td>\n",
       "      <td>90</td>\n",
       "      <td>483838.941609</td>\n",
       "      <td>9</td>\n",
       "      <td>1912.0</td>\n",
       "    </tr>\n",
       "    <tr>\n",
       "      <th>2937</th>\n",
       "      <td>NaN</td>\n",
       "      <td>NaN</td>\n",
       "      <td>NaN</td>\n",
       "      <td>NaN</td>\n",
       "      <td>NaN</td>\n",
       "      <td>NaN</td>\n",
       "      <td>NaN</td>\n",
       "      <td>NaN</td>\n",
       "      <td>NaN</td>\n",
       "      <td>NaN</td>\n",
       "      <td>...</td>\n",
       "      <td>1</td>\n",
       "      <td>0</td>\n",
       "      <td>0</td>\n",
       "      <td>0</td>\n",
       "      <td>0</td>\n",
       "      <td>0</td>\n",
       "      <td>90</td>\n",
       "      <td>483838.945445</td>\n",
       "      <td>9</td>\n",
       "      <td>1912.0</td>\n",
       "    </tr>\n",
       "    <tr>\n",
       "      <th>2938</th>\n",
       "      <td>NaN</td>\n",
       "      <td>NaN</td>\n",
       "      <td>NaN</td>\n",
       "      <td>NaN</td>\n",
       "      <td>NaN</td>\n",
       "      <td>NaN</td>\n",
       "      <td>NaN</td>\n",
       "      <td>NaN</td>\n",
       "      <td>NaN</td>\n",
       "      <td>NaN</td>\n",
       "      <td>...</td>\n",
       "      <td>1</td>\n",
       "      <td>0</td>\n",
       "      <td>0</td>\n",
       "      <td>0</td>\n",
       "      <td>0</td>\n",
       "      <td>0</td>\n",
       "      <td>90</td>\n",
       "      <td>483838.945897</td>\n",
       "      <td>9</td>\n",
       "      <td>1912.0</td>\n",
       "    </tr>\n",
       "  </tbody>\n",
       "</table>\n",
       "<p>2939 rows × 80 columns</p>\n",
       "</div>"
      ],
      "text/plain": [
       "     ballColliderRadius ballMeshRadius ballPos         ballRot          \\\n",
       "                                             x   y   z       x   y   z   \n",
       "0                   NaN            NaN     NaN NaN NaN     NaN NaN NaN   \n",
       "1                   NaN            NaN     NaN NaN NaN     NaN NaN NaN   \n",
       "2                   NaN            NaN     NaN NaN NaN     NaN NaN NaN   \n",
       "3                   NaN            NaN     NaN NaN NaN     NaN NaN NaN   \n",
       "4                   NaN            NaN     NaN NaN NaN     NaN NaN NaN   \n",
       "...                 ...            ...     ...  ..  ..     ...  ..  ..   \n",
       "2934                NaN            NaN     NaN NaN NaN     NaN NaN NaN   \n",
       "2935                NaN            NaN     NaN NaN NaN     NaN NaN NaN   \n",
       "2936                NaN            NaN     NaN NaN NaN     NaN NaN NaN   \n",
       "2937                NaN            NaN     NaN NaN NaN     NaN NaN NaN   \n",
       "2938                NaN            NaN     NaN NaN NaN     NaN NaN NaN   \n",
       "\n",
       "     ballVel      ... paddle paddlePos       paddleRot        pupilTimestamp  \\\n",
       "           x   y  ...   R3C3         x  y  z         x  y   z                  \n",
       "0        NaN NaN  ...      1         0  0  0         0  0  90  483821.611892   \n",
       "1        NaN NaN  ...      1         0  0  0         0  0  90  483821.614828   \n",
       "2        NaN NaN  ...      1         0  0  0         0  0  90  483821.618226   \n",
       "3        NaN NaN  ...      1         0  0  0         0  0  90  483821.621605   \n",
       "4        NaN NaN  ...      1         0  0  0         0  0  90  483821.625638   \n",
       "...      ...  ..  ...    ...       ... .. ..       ... ..  ..            ...   \n",
       "2934     NaN NaN  ...      1         0  0  0         0  0  90  483838.934642   \n",
       "2935     NaN NaN  ...      1         0  0  0         0  0  90  483838.937650   \n",
       "2936     NaN NaN  ...      1         0  0  0         0  0  90  483838.941609   \n",
       "2937     NaN NaN  ...      1         0  0  0         0  0  90  483838.945445   \n",
       "2938     NaN NaN  ...      1         0  0  0         0  0  90  483838.945897   \n",
       "\n",
       "     trialNumber world_index  \n",
       "                              \n",
       "0              1         NaN  \n",
       "1              1      1393.0  \n",
       "2              1      1393.0  \n",
       "3              1      1393.0  \n",
       "4              1      1394.0  \n",
       "...          ...         ...  \n",
       "2934           9      1912.0  \n",
       "2935           9      1912.0  \n",
       "2936           9      1912.0  \n",
       "2937           9      1912.0  \n",
       "2938           9      1912.0  \n",
       "\n",
       "[2939 rows x 80 columns]"
      ]
     },
     "execution_count": 9,
     "metadata": {},
     "output_type": "execute_result"
    }
   ],
   "source": [
    "sessionDict['processedCalib']"
   ]
  },
  {
   "cell_type": "code",
   "execution_count": 10,
   "metadata": {},
   "outputs": [
    {
     "data": {
      "text/html": [
       "<div>\n",
       "<style scoped>\n",
       "    .dataframe tbody tr th:only-of-type {\n",
       "        vertical-align: middle;\n",
       "    }\n",
       "\n",
       "    .dataframe tbody tr th {\n",
       "        vertical-align: top;\n",
       "    }\n",
       "\n",
       "    .dataframe thead th {\n",
       "        text-align: right;\n",
       "    }\n",
       "</style>\n",
       "<table border=\"1\" class=\"dataframe\">\n",
       "  <thead>\n",
       "    <tr style=\"text-align: right;\">\n",
       "      <th></th>\n",
       "      <th>x</th>\n",
       "      <th>y</th>\n",
       "      <th>z</th>\n",
       "    </tr>\n",
       "  </thead>\n",
       "  <tbody>\n",
       "    <tr>\n",
       "      <th>0</th>\n",
       "      <td>NaN</td>\n",
       "      <td>NaN</td>\n",
       "      <td>NaN</td>\n",
       "    </tr>\n",
       "    <tr>\n",
       "      <th>1</th>\n",
       "      <td>-0.168069</td>\n",
       "      <td>-0.205025</td>\n",
       "      <td>0.964219</td>\n",
       "    </tr>\n",
       "    <tr>\n",
       "      <th>2</th>\n",
       "      <td>-0.168069</td>\n",
       "      <td>-0.205025</td>\n",
       "      <td>0.964219</td>\n",
       "    </tr>\n",
       "    <tr>\n",
       "      <th>3</th>\n",
       "      <td>-0.167594</td>\n",
       "      <td>-0.203713</td>\n",
       "      <td>0.964579</td>\n",
       "    </tr>\n",
       "    <tr>\n",
       "      <th>4</th>\n",
       "      <td>-0.167594</td>\n",
       "      <td>-0.203713</td>\n",
       "      <td>0.964579</td>\n",
       "    </tr>\n",
       "    <tr>\n",
       "      <th>5</th>\n",
       "      <td>-0.168906</td>\n",
       "      <td>-0.203879</td>\n",
       "      <td>0.964314</td>\n",
       "    </tr>\n",
       "    <tr>\n",
       "      <th>6</th>\n",
       "      <td>-0.170218</td>\n",
       "      <td>-0.204046</td>\n",
       "      <td>0.964049</td>\n",
       "    </tr>\n",
       "    <tr>\n",
       "      <th>7</th>\n",
       "      <td>-0.168410</td>\n",
       "      <td>-0.205108</td>\n",
       "      <td>0.964142</td>\n",
       "    </tr>\n",
       "    <tr>\n",
       "      <th>8</th>\n",
       "      <td>-0.168410</td>\n",
       "      <td>-0.205108</td>\n",
       "      <td>0.964142</td>\n",
       "    </tr>\n",
       "    <tr>\n",
       "      <th>9</th>\n",
       "      <td>-0.168410</td>\n",
       "      <td>-0.205108</td>\n",
       "      <td>0.964142</td>\n",
       "    </tr>\n",
       "  </tbody>\n",
       "</table>\n",
       "</div>"
      ],
      "text/plain": [
       "          x         y         z\n",
       "0       NaN       NaN       NaN\n",
       "1 -0.168069 -0.205025  0.964219\n",
       "2 -0.168069 -0.205025  0.964219\n",
       "3 -0.167594 -0.203713  0.964579\n",
       "4 -0.167594 -0.203713  0.964579\n",
       "5 -0.168906 -0.203879  0.964314\n",
       "6 -0.170218 -0.204046  0.964049\n",
       "7 -0.168410 -0.205108  0.964142\n",
       "8 -0.168410 -0.205108  0.964142\n",
       "9 -0.168410 -0.205108  0.964142"
      ]
     },
     "execution_count": 10,
     "metadata": {},
     "output_type": "execute_result"
    }
   ],
   "source": [
    "sessionDict['processedCalib']['gaze-normal0'].head(10) # head(10) shows only teh first ten values"
   ]
  },
  {
   "cell_type": "markdown",
   "metadata": {},
   "source": [
    "Use a tuple to take advantage of multiindices:"
   ]
  },
  {
   "cell_type": "code",
   "execution_count": 11,
   "metadata": {},
   "outputs": [
    {
     "data": {
      "text/plain": [
       "0         NaN\n",
       "1   -0.168069\n",
       "2   -0.168069\n",
       "3   -0.167594\n",
       "4   -0.167594\n",
       "5   -0.168906\n",
       "6   -0.170218\n",
       "7   -0.168410\n",
       "8   -0.168410\n",
       "9   -0.168410\n",
       "Name: (gaze-normal0, x), dtype: float64"
      ]
     },
     "execution_count": 11,
     "metadata": {},
     "output_type": "execute_result"
    }
   ],
   "source": [
    "sessionDict['processedCalib'][('gaze-normal0','x')].head(10) # head(10) shows only teh first ten values"
   ]
  },
  {
   "cell_type": "code",
   "execution_count": 12,
   "metadata": {},
   "outputs": [
    {
     "data": {
      "text/plain": [
       "0         NaN\n",
       "1   -0.168069\n",
       "2   -0.168069\n",
       "3   -0.167594\n",
       "4   -0.167594\n",
       "5   -0.168906\n",
       "6   -0.170218\n",
       "7   -0.168410\n",
       "8   -0.168410\n",
       "9   -0.168410\n",
       "Name: (gaze-normal0, x), dtype: float64"
      ]
     },
     "execution_count": 12,
     "metadata": {},
     "output_type": "execute_result"
    }
   ],
   "source": [
    "sessionDict['processedCalib'][('gaze-normal0','x')].head(10)"
   ]
  },
  {
   "cell_type": "markdown",
   "metadata": {},
   "source": [
    "# Some approaches to computation..."
   ]
  },
  {
   "cell_type": "markdown",
   "metadata": {},
   "source": [
    "Summary statistics are easy!"
   ]
  },
  {
   "cell_type": "code",
   "execution_count": 13,
   "metadata": {},
   "outputs": [
    {
     "data": {
      "text/plain": [
       "0.0570288521705389"
      ]
     },
     "execution_count": 13,
     "metadata": {},
     "output_type": "execute_result"
    }
   ],
   "source": [
    "sessionDict['processedCalib'][('gaze-normal0','x')].mean()"
   ]
  },
  {
   "cell_type": "markdown",
   "metadata": {},
   "source": [
    "### Want to compute a new measurement or metric per frame?   \n",
    "\n",
    "You probably want to iterate through each frame/row of processedExp or processedCalib and use the existing data to calculate a new measure. \n",
    "\n",
    "Below, I apply \"anonymous\" function to each row of [('gaze-normal0','x')] to multiply it by two."
   ]
  },
  {
   "cell_type": "code",
   "execution_count": 14,
   "metadata": {},
   "outputs": [
    {
     "data": {
      "text/plain": [
       "0            NaN\n",
       "1      -0.336139\n",
       "2      -0.336139\n",
       "3      -0.335188\n",
       "4      -0.335188\n",
       "          ...   \n",
       "2934    0.572848\n",
       "2935    0.572848\n",
       "2936    0.572848\n",
       "2937    0.572879\n",
       "2938    0.572911\n",
       "Name: (gaze-normal0, x), Length: 2939, dtype: float64"
      ]
     },
     "execution_count": 14,
     "metadata": {},
     "output_type": "execute_result"
    }
   ],
   "source": [
    "sessionDict['processedCalib'][('gaze-normal0','x')].apply(lambda row: row*2)"
   ]
  },
  {
   "cell_type": "markdown",
   "metadata": {},
   "source": [
    "### We can get a bit more tricky here, too.  \n",
    "For example, we can apply a custom function to normalize the gaze-normal0 vector.\n",
    "Note the axis argin, which makes sure that we're applying this function to each ROW (and not column, where axis=0)\n",
    "\n",
    "You may get the error: \"RuntimeWarning: invalid value encountered in true_divide\"\n",
    "This is caused by a divide by zero."
   ]
  },
  {
   "cell_type": "code",
   "execution_count": 15,
   "metadata": {},
   "outputs": [
    {
     "data": {
      "text/plain": [
       "0                                         [nan, nan, nan]\n",
       "1       [-0.16806947930037447, -0.2050245670152353, 0....\n",
       "2       [-0.16806947930037447, -0.2050245670152353, 0....\n",
       "3       [-0.16759414157050426, -0.20371301766216995, 0...\n",
       "4       [-0.16759414157050426, -0.20371301766216995, 0...\n",
       "                              ...                        \n",
       "2934    [0.28642385184979485, 0.11325367216106358, 0.9...\n",
       "2935    [0.28642385184979485, 0.11325367216106358, 0.9...\n",
       "2936    [0.28642385184979485, 0.11325367216106358, 0.9...\n",
       "2937    [0.2864396384906077, 0.11359014237079905, 0.95...\n",
       "2938    [0.286455392054954, 0.1139265994637726, 0.9512...\n",
       "Length: 2939, dtype: object"
      ]
     },
     "execution_count": 15,
     "metadata": {},
     "output_type": "execute_result"
    }
   ],
   "source": [
    "def normalizeVector(xyz):\n",
    "    '''\n",
    "    Input be a 3 element array of containing the x,y,and z data of a 3D vector.\n",
    "    Returns a normalized 3 element array\n",
    "    '''\n",
    "    \n",
    "    # Sometimes necessary.\n",
    "    xyz = np.array(xyz)\n",
    "    xyz = xyz / np.linalg.norm(xyz)\n",
    "    return xyz \n",
    "\n",
    "sessionDict['processedCalib']['gaze-normal0'].apply(lambda row: normalizeVector(row),axis=1)\n"
   ]
  },
  {
   "cell_type": "markdown",
   "metadata": {},
   "source": [
    "### It's a very good idea to assume your \"normals\" are not actually normalized.  After all, the time-series data was merged, upsampled, and interpolated!"
   ]
  },
  {
   "cell_type": "markdown",
   "metadata": {},
   "source": [
    "# What if we cant to calculate something per trial?\n",
    "\n",
    "You can also compute by applying a method to each \"trial\" processedCalib, mwhere each trial is a single fixation, or a sequence of fixations and saccades, or a VOR ( every time the black dot turned yellow, that was a single trial). \n",
    "\n",
    "In the case of the ball catching task, a single trial was one throw of the ball. That data is stored in processedExp, and we won't worry about it now.."
   ]
  },
  {
   "cell_type": "markdown",
   "metadata": {},
   "source": [
    "### The processed dataframes can be sliced into trials using the groupby function."
   ]
  },
  {
   "cell_type": "markdown",
   "metadata": {},
   "source": [
    "Lets first create the groupby object.  "
   ]
  },
  {
   "cell_type": "code",
   "execution_count": 16,
   "metadata": {},
   "outputs": [],
   "source": [
    "gbProcessedCalib_trial = sessionDict['processedCalib'].groupby(['trialNumber'])"
   ]
  },
  {
   "cell_type": "markdown",
   "metadata": {},
   "source": [
    "Group keys refer to the trial number"
   ]
  },
  {
   "cell_type": "code",
   "execution_count": 17,
   "metadata": {},
   "outputs": [
    {
     "data": {
      "text/plain": [
       "dict_keys([1, 2, 3, 4, 5, 6, 7, 8, 9])"
      ]
     },
     "execution_count": 17,
     "metadata": {},
     "output_type": "execute_result"
    }
   ],
   "source": [
    "gbProcessedCalib_trial.groups.keys()"
   ]
  },
  {
   "cell_type": "markdown",
   "metadata": {},
   "source": [
    "Each group (in this case, each trial) is actually a dataframe \"slice\" of the rows of processedCalib that match that trial number."
   ]
  },
  {
   "cell_type": "code",
   "execution_count": 18,
   "metadata": {},
   "outputs": [
    {
     "ename": "KeyError",
     "evalue": "10",
     "output_type": "error",
     "traceback": [
      "\u001b[0;31m---------------------------------------------------------------------------\u001b[0m",
      "\u001b[0;31mKeyError\u001b[0m                                  Traceback (most recent call last)",
      "\u001b[0;32m<ipython-input-18-6d867536d9f7>\u001b[0m in \u001b[0;36m<module>\u001b[0;34m\u001b[0m\n\u001b[0;32m----> 1\u001b[0;31m \u001b[0mgbProcessedCalib_trial\u001b[0m\u001b[0;34m.\u001b[0m\u001b[0mget_group\u001b[0m\u001b[0;34m(\u001b[0m\u001b[0;36m10\u001b[0m\u001b[0;34m)\u001b[0m\u001b[0;34m\u001b[0m\u001b[0;34m\u001b[0m\u001b[0m\n\u001b[0m",
      "\u001b[0;32m/opt/anaconda3/lib/python3.7/site-packages/pandas/core/groupby/groupby.py\u001b[0m in \u001b[0;36mget_group\u001b[0;34m(self, name, obj)\u001b[0m\n\u001b[1;32m    808\u001b[0m         \u001b[0minds\u001b[0m \u001b[0;34m=\u001b[0m \u001b[0mself\u001b[0m\u001b[0;34m.\u001b[0m\u001b[0m_get_index\u001b[0m\u001b[0;34m(\u001b[0m\u001b[0mname\u001b[0m\u001b[0;34m)\u001b[0m\u001b[0;34m\u001b[0m\u001b[0;34m\u001b[0m\u001b[0m\n\u001b[1;32m    809\u001b[0m         \u001b[0;32mif\u001b[0m \u001b[0;32mnot\u001b[0m \u001b[0mlen\u001b[0m\u001b[0;34m(\u001b[0m\u001b[0minds\u001b[0m\u001b[0;34m)\u001b[0m\u001b[0;34m:\u001b[0m\u001b[0;34m\u001b[0m\u001b[0;34m\u001b[0m\u001b[0m\n\u001b[0;32m--> 810\u001b[0;31m             \u001b[0;32mraise\u001b[0m \u001b[0mKeyError\u001b[0m\u001b[0;34m(\u001b[0m\u001b[0mname\u001b[0m\u001b[0;34m)\u001b[0m\u001b[0;34m\u001b[0m\u001b[0;34m\u001b[0m\u001b[0m\n\u001b[0m\u001b[1;32m    811\u001b[0m \u001b[0;34m\u001b[0m\u001b[0m\n\u001b[1;32m    812\u001b[0m         \u001b[0;32mreturn\u001b[0m \u001b[0mobj\u001b[0m\u001b[0;34m.\u001b[0m\u001b[0m_take_with_is_copy\u001b[0m\u001b[0;34m(\u001b[0m\u001b[0minds\u001b[0m\u001b[0;34m,\u001b[0m \u001b[0maxis\u001b[0m\u001b[0;34m=\u001b[0m\u001b[0mself\u001b[0m\u001b[0;34m.\u001b[0m\u001b[0maxis\u001b[0m\u001b[0;34m)\u001b[0m\u001b[0;34m\u001b[0m\u001b[0;34m\u001b[0m\u001b[0m\n",
      "\u001b[0;31mKeyError\u001b[0m: 10"
     ]
    }
   ],
   "source": [
    "gbProcessedCalib_trial.get_group(10)"
   ]
  },
  {
   "cell_type": "markdown",
   "metadata": {},
   "source": [
    "\n",
    "### Trials / groups are useful because they are iterable.\n",
    "\n",
    "You can iterate through rows of trialInfoDF in a number of ways, but I will demonstrate one way that makes it easy to get both trial metadata and per-frame data from the processed dataframe"
   ]
  },
  {
   "cell_type": "markdown",
   "metadata": {},
   "source": [
    "Here's the method done manually."
   ]
  },
  {
   "cell_type": "code",
   "execution_count": null,
   "metadata": {},
   "outputs": [],
   "source": [
    "trialRowIdx = 10\n",
    "\n",
    "trMetaData =  sessionDict['trialInfo'].iloc[10]\n",
    "\n",
    "# Note that trial numbers start at 1, not 0. \n",
    "# Trial number and trialRowIdx index are not the same thing!\n",
    "print('Trial number: {tNum}'.format(tNum = int(trMetaData['trialNumber'])))\n",
    "\n",
    "# This dataframe contains the per-frame processed data associated with this trial\n",
    "procDF = gbProcessedCalib_trial.get_group(int(trMetaData['trialNumber']))\n",
    "\n",
    "# Is the target on trial head fixed the entire time?\n",
    "# len(procDF['isHeadFixed'].drop_duplicates()) # If all values are true, then yes!\n",
    "if ( sum(procDF['isHeadFixed'] == True) == len(procDF) ):\n",
    "    print('This trial is a fixation or fixation+saccade trial.')\n"
   ]
  },
  {
   "cell_type": "markdown",
   "metadata": {},
   "source": [
    "Now, let's take the same general approach using iteration"
   ]
  },
  {
   "cell_type": "code",
   "execution_count": null,
   "metadata": {},
   "outputs": [],
   "source": [
    "for trialRowIdx, trMetaData in sessionDict['trialInfo'].iterrows():\n",
    "    \n",
    "    # This dataframe contains the per-frame processed data associated with this trial\n",
    "    procDF = gbProcessedCalib_trial.get_group(int(trMetaData['trialNumber']))\n",
    "    \n",
    "    targetType = []\n",
    "\n",
    "    \n",
    "    if ( sum(procDF['isHeadFixed'] == False) ==  len(procDF) ):\n",
    "        \n",
    "        targetType = 'VOR'\n",
    "    \n",
    "    elif( sum(procDF['isHeadFixed'] == True) == len(procDF) ):\n",
    "        \n",
    "        # Count the number of target positions within the local space (head-centered space)\n",
    "        if( len(procDF['targeLocalPos'].drop_duplicates()) == 1 ):\n",
    "            # Only one target, so it's a fixation trial\n",
    "            targetType = 'fixation'\n",
    "        else:\n",
    "            # multiple targets, so it's a saccade trial\n",
    "            targetType = 'fixation+saccade'\n",
    "            \n",
    "    else:\n",
    "        # The trial has both head fixed and world fixed targets.  \n",
    "        # We did not plan for that, so let's label it as \"unknown.\"\n",
    "        \n",
    "        targetType = 'unknown'\n",
    "        \n",
    "    print('Trial number: {tNum}, type: {tType}'.format(tNum = int(trMetaData['trialNumber']),\n",
    "                                                   tType = targetType))\n"
   ]
  },
  {
   "cell_type": "markdown",
   "metadata": {},
   "source": []
  },
  {
   "cell_type": "markdown",
   "metadata": {},
   "source": [
    "### Nice!  Now, how about a more modular approach?"
   ]
  },
  {
   "cell_type": "code",
   "execution_count": null,
   "metadata": {},
   "outputs": [],
   "source": [
    "def findCalibrationTargetType(sessionIn):\n",
    "    '''\n",
    "    Input: Session dictionary\n",
    "    Output:  Session dictionary with new column sessionDict['trialInfo']['targetType']\n",
    "    '''\n",
    "    \n",
    "    gbProcessedCalib_trial = sessionIn['processedCalib'].groupby(['trialNumber'])\n",
    "    \n",
    "    targetTypes = []\n",
    "    for trialRowIdx, trMetaData in sessionIn['trialInfo'].iterrows():\n",
    "\n",
    "        # This dataframe contains the per-frame processed data associated with this trial\n",
    "        procDF = gbProcessedCalib_trial.get_group(int(trMetaData['trialNumber']))\n",
    "\n",
    "        targetType = []\n",
    "\n",
    "\n",
    "        if ( sum(procDF['isHeadFixed'] == False) ==  len(procDF) ):\n",
    "\n",
    "            targetType = 'VOR'\n",
    "\n",
    "        elif( sum(procDF['isHeadFixed'] == True) == len(procDF) ):\n",
    "\n",
    "            # Count the number of target positions within the local space (head-centered space)\n",
    "            if( len(procDF['targeLocalPos'].drop_duplicates()) == 1 ):\n",
    "                # Only one target, so it's a fixation trial\n",
    "                targetType = 'fixation'\n",
    "            else:\n",
    "                # multiple targets, so it's a saccade trial\n",
    "                targetType = 'fixation+saccade'\n",
    "\n",
    "        else:\n",
    "            # The trial has both head fixed and world fixed targets.  \n",
    "            # We did not plan for that, so let's label it as \"unknown.\"\n",
    "\n",
    "            targetType = 'unknown'\n",
    "\n",
    "        print('Trial number: {tNum}, type: {tType}'.format(tNum = int(trMetaData['trialNumber']),\n",
    "                                                       tType = targetType))\n",
    "        targetTypes.append(targetType)\n",
    "        \n",
    "    \n",
    "    sessionIn['trialInfo']['targetType'] = targetTypes\n",
    "    \n",
    "    logger.info('Added sessionDict[\\'trialInfo\\'][\\'targetType\\']')\n",
    "    \n",
    "    return sessionDict\n"
   ]
  },
  {
   "cell_type": "code",
   "execution_count": null,
   "metadata": {
    "scrolled": false
   },
   "outputs": [],
   "source": [
    "sessionDict = findCalibrationTargetType(sessionDict)"
   ]
  },
  {
   "cell_type": "markdown",
   "metadata": {},
   "source": [
    "Wonderful.  \n",
    "The idea here is to build up a bunch of methods that can be called in a linear fashion.  \n",
    "Most will perform number crunching and add new columns, or modify old ones (athough, never change the raw data!)\n",
    "Eventually, some will be plotting functions.\n",
    "\n",
    "I've taken this approach to processing ball catching data.  To see this approach in practice, open up processDataE1,py, and see processData().  "
   ]
  },
  {
   "cell_type": "markdown",
   "metadata": {},
   "source": [
    "# Upwards and onwards!"
   ]
  },
  {
   "cell_type": "code",
   "execution_count": null,
   "metadata": {},
   "outputs": [],
   "source": [
    "sessionDict['processedCalib'].keys()"
   ]
  },
  {
   "cell_type": "code",
   "execution_count": null,
   "metadata": {},
   "outputs": [],
   "source": [
    "# sessionDict['trialInfo'].keys()"
   ]
  },
  {
   "cell_type": "code",
   "execution_count": null,
   "metadata": {
    "scrolled": false
   },
   "outputs": [],
   "source": [
    "gbProcessedCalib_trial = sessionDict['processedCalib'].groupby(['trialNumber'])\n",
    "perFrameTrialData = gbProcessedCalib_trial.get_group(14)\n",
    "np.unique(perFrameTrialData['targeLocalPos'],axis=0)"
   ]
  },
  {
   "cell_type": "code",
   "execution_count": null,
   "metadata": {
    "scrolled": false
   },
   "outputs": [],
   "source": [
    "perFrameTrialData['gaze-normal1'].values\n",
    "perFrameTrialData['gaze-normal1'].plot()\n",
    "\n",
    "# np.array([np.divide(XYZ,np.linalg.norm(XYZ)) for XYZ in perFrameTrialData['gaze-normal0'].values],dtype=np.float)"
   ]
  },
  {
   "cell_type": "code",
   "execution_count": null,
   "metadata": {},
   "outputs": [],
   "source": [
    "# np.array([np.divide(XYZ,np.linalg.norm(XYZ)) for XYZ in paddleToBallVec_fr_XYZ],dtype=np.float)"
   ]
  },
  {
   "cell_type": "code",
   "execution_count": null,
   "metadata": {},
   "outputs": [],
   "source": [
    "# ['trialInfo']['targetType']"
   ]
  },
  {
   "cell_type": "code",
   "execution_count": null,
   "metadata": {},
   "outputs": [],
   "source": [
    "paddleToBallDir_fr_XYZ = np.array([np.divide(XYZ,np.linalg.norm(XYZ)) for XYZ in paddleToBallVec_fr_XYZ],dtype=np.float)"
   ]
  }
 ],
 "metadata": {
  "kernelspec": {
   "display_name": "Python 3",
   "language": "python",
   "name": "python3"
  },
  "language_info": {
   "codemirror_mode": {
    "name": "ipython",
    "version": 3
   },
   "file_extension": ".py",
   "mimetype": "text/x-python",
   "name": "python",
   "nbconvert_exporter": "python",
   "pygments_lexer": "ipython3",
   "version": "3.7.4"
  }
 },
 "nbformat": 4,
 "nbformat_minor": 2
}
