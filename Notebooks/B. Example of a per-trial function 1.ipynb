{
 "cells": [
  {
   "cell_type": "code",
   "execution_count": 1,
   "metadata": {},
   "outputs": [
    {
     "name": "stdout",
     "output_type": "stream",
     "text": [
      "CWD:/Users/gjdpci/Dropbox/Code/Catching - IPD/expansion analysis - UXF 1/Interception_UXF_Analysis\n"
     ]
    }
   ],
   "source": [
    "# This cell sets the CWD to the parent directory.  \n",
    "# If you run this more than once, it will cause problems!\n",
    "\n",
    "import os\n",
    "wd = os.getcwd()\n",
    "os.chdir('/'.join(wd.split('/')[:-1])+'/'  )\n",
    "print(\"CWD:\" + os.getcwd())"
   ]
  },
  {
   "cell_type": "code",
   "execution_count": 2,
   "metadata": {},
   "outputs": [
    {
     "name": "stdout",
     "output_type": "stream",
     "text": [
      "CWD:/Users/gjdpci/Dropbox/Code/Catching - IPD/expansion analysis - UXF 1/Interception_UXF_Analysis\n"
     ]
    }
   ],
   "source": [
    "import sys\n",
    "\n",
    "sys.path.append(\"Modules/\")\n",
    "# sys.path.append(\"../Modules/\")\n",
    "sys.path.append(\"/\")\n",
    "\n",
    "\n",
    "import logging\n",
    "import pickle\n",
    "import numpy as np\n",
    "import pandas as pd\n",
    "\n",
    "\n",
    "fmt = '%(levelname)s_%(name)s-%(funcName)s(): - %(message)s'\n",
    "logging.basicConfig(level=logging.INFO, format=fmt)\n",
    "logger = logging.getLogger(__name__)\n",
    "\n",
    "from loadData import unpackSession\n",
    "\n",
    "sys.path.append(\"pyFiles/\")\n",
    "from processData import *"
   ]
  },
  {
   "cell_type": "markdown",
   "metadata": {},
   "source": [
    "### Import raw subject data (slow), or previously imported data from file (fast).\n",
    "\n",
    "If this is the first time you're running this code, it will take a little bit to processe each trial.\n",
    "However, when it is done, the results are saved to a pickle file.  \n",
    "\n",
    "The \"doNotLoad\" is False by default.\n",
    "When False, the method will always check if this pickle file exists.  If it does, it loads it.  This is a much faster process.\n",
    "\n",
    "If you want to load the raw data (start from scratch), set doNotLoad=True\n"
   ]
  },
  {
   "cell_type": "code",
   "execution_count": null,
   "metadata": {},
   "outputs": [
    {
     "name": "stderr",
     "output_type": "stream",
     "text": [
      "INFO_loadData-unpackSession(): - Processing session: Data/P_201218121321_sub1\n",
      "INFO_loadData-unpackSession(): - Compiling session dict from *.csv.\n",
      "INFO_loadData-processTrial(): - Processing subject: P_201218121321 t = 1 of 86\n"
     ]
    },
    {
     "name": "stdout",
     "output_type": "stream",
     "text": [
      "***> 0: P_201218121321_sub1\n",
      "1: P_200917094202\n"
     ]
    },
    {
     "name": "stderr",
     "output_type": "stream",
     "text": [
      "INFO_loadData-processTrial(): - Processing subject: P_201218121321 t = 2 of 86\n",
      "INFO_loadData-processTrial(): - Processing subject: P_201218121321 t = 3 of 86\n",
      "INFO_loadData-processTrial(): - Processing subject: P_201218121321 t = 4 of 86\n",
      "INFO_loadData-processTrial(): - Processing subject: P_201218121321 t = 5 of 86\n",
      "INFO_loadData-processTrial(): - Processing subject: P_201218121321 t = 6 of 86\n",
      "INFO_loadData-processTrial(): - Processing subject: P_201218121321 t = 7 of 86\n",
      "INFO_loadData-processTrial(): - Processing subject: P_201218121321 t = 8 of 86\n",
      "INFO_loadData-processTrial(): - Processing subject: P_201218121321 t = 9 of 86\n",
      "INFO_loadData-processTrial(): - Processing subject: P_201218121321 t = 10 of 86\n",
      "INFO_loadData-processTrial(): - Processing subject: P_201218121321 t = 11 of 86\n",
      "INFO_loadData-processTrial(): - Processing subject: P_201218121321 t = 12 of 86\n",
      "INFO_loadData-processTrial(): - Processing subject: P_201218121321 t = 13 of 86\n",
      "INFO_loadData-processTrial(): - Processing subject: P_201218121321 t = 14 of 86\n",
      "INFO_loadData-processTrial(): - Processing subject: P_201218121321 t = 15 of 86\n",
      "INFO_loadData-processTrial(): - Processing subject: P_201218121321 t = 16 of 86\n",
      "INFO_loadData-processTrial(): - Processing subject: P_201218121321 t = 17 of 86\n",
      "INFO_loadData-processTrial(): - Processing subject: P_201218121321 t = 18 of 86\n",
      "INFO_loadData-processTrial(): - Processing subject: P_201218121321 t = 19 of 86\n",
      "INFO_loadData-processTrial(): - Processing subject: P_201218121321 t = 20 of 86\n",
      "INFO_loadData-processTrial(): - Processing subject: P_201218121321 t = 21 of 86\n",
      "INFO_loadData-processTrial(): - Processing subject: P_201218121321 t = 22 of 86\n",
      "INFO_loadData-processTrial(): - Processing subject: P_201218121321 t = 23 of 86\n",
      "INFO_loadData-processTrial(): - Processing subject: P_201218121321 t = 24 of 86\n",
      "INFO_loadData-processTrial(): - Processing subject: P_201218121321 t = 25 of 86\n",
      "INFO_loadData-processTrial(): - Processing subject: P_201218121321 t = 26 of 86\n",
      "INFO_loadData-processTrial(): - Processing subject: P_201218121321 t = 27 of 86\n",
      "INFO_loadData-processTrial(): - Processing subject: P_201218121321 t = 28 of 86\n",
      "INFO_loadData-processTrial(): - Processing subject: P_201218121321 t = 29 of 86\n",
      "INFO_loadData-processTrial(): - Processing subject: P_201218121321 t = 30 of 86\n",
      "INFO_loadData-processTrial(): - Processing subject: P_201218121321 t = 31 of 86\n",
      "INFO_loadData-processTrial(): - Processing subject: P_201218121321 t = 32 of 86\n",
      "INFO_loadData-processTrial(): - Processing subject: P_201218121321 t = 33 of 86\n",
      "INFO_loadData-processTrial(): - Processing subject: P_201218121321 t = 34 of 86\n",
      "INFO_loadData-processTrial(): - Processing subject: P_201218121321 t = 35 of 86\n",
      "INFO_loadData-processTrial(): - Processing subject: P_201218121321 t = 36 of 86\n",
      "INFO_loadData-processTrial(): - Processing subject: P_201218121321 t = 37 of 86\n",
      "INFO_loadData-processTrial(): - Processing subject: P_201218121321 t = 38 of 86\n",
      "INFO_loadData-processTrial(): - Processing subject: P_201218121321 t = 39 of 86\n",
      "INFO_loadData-processTrial(): - Processing subject: P_201218121321 t = 40 of 86\n",
      "INFO_loadData-processTrial(): - Processing subject: P_201218121321 t = 41 of 86\n",
      "INFO_loadData-processTrial(): - Processing subject: P_201218121321 t = 42 of 86\n",
      "INFO_loadData-processTrial(): - Processing subject: P_201218121321 t = 43 of 86\n",
      "INFO_loadData-processTrial(): - Processing subject: P_201218121321 t = 44 of 86\n",
      "INFO_loadData-processTrial(): - Processing subject: P_201218121321 t = 45 of 86\n",
      "INFO_loadData-processTrial(): - Processing subject: P_201218121321 t = 46 of 86\n",
      "INFO_loadData-processTrial(): - Processing subject: P_201218121321 t = 47 of 86\n",
      "INFO_loadData-processTrial(): - Processing subject: P_201218121321 t = 48 of 86\n",
      "INFO_loadData-processTrial(): - Processing subject: P_201218121321 t = 49 of 86\n",
      "INFO_loadData-processTrial(): - Processing subject: P_201218121321 t = 50 of 86\n",
      "INFO_loadData-processTrial(): - Processing subject: P_201218121321 t = 51 of 86\n",
      "INFO_loadData-processTrial(): - Processing subject: P_201218121321 t = 52 of 86\n",
      "INFO_loadData-processTrial(): - Processing subject: P_201218121321 t = 53 of 86\n",
      "INFO_loadData-processTrial(): - Processing subject: P_201218121321 t = 54 of 86\n",
      "INFO_loadData-processTrial(): - Processing subject: P_201218121321 t = 55 of 86\n",
      "INFO_loadData-processTrial(): - Processing subject: P_201218121321 t = 56 of 86\n",
      "INFO_loadData-processTrial(): - Processing subject: P_201218121321 t = 57 of 86\n",
      "INFO_loadData-processTrial(): - Processing subject: P_201218121321 t = 58 of 86\n",
      "INFO_loadData-processTrial(): - Processing subject: P_201218121321 t = 59 of 86\n",
      "INFO_loadData-processTrial(): - Processing subject: P_201218121321 t = 60 of 86\n",
      "INFO_loadData-processTrial(): - Processing subject: P_201218121321 t = 61 of 86\n",
      "INFO_loadData-processTrial(): - Processing subject: P_201218121321 t = 62 of 86\n",
      "INFO_loadData-processTrial(): - Processing subject: P_201218121321 t = 63 of 86\n",
      "INFO_loadData-processTrial(): - Processing subject: P_201218121321 t = 64 of 86\n",
      "INFO_loadData-processTrial(): - Processing subject: P_201218121321 t = 65 of 86\n",
      "INFO_loadData-processTrial(): - Processing subject: P_201218121321 t = 66 of 86\n",
      "INFO_loadData-processTrial(): - Processing subject: P_201218121321 t = 67 of 86\n",
      "INFO_loadData-processTrial(): - Processing subject: P_201218121321 t = 68 of 86\n",
      "INFO_loadData-processTrial(): - Processing subject: P_201218121321 t = 69 of 86\n",
      "INFO_loadData-processTrial(): - Processing subject: P_201218121321 t = 70 of 86\n",
      "INFO_loadData-processTrial(): - Processing subject: P_201218121321 t = 71 of 86\n",
      "INFO_loadData-processTrial(): - Processing subject: P_201218121321 t = 72 of 86\n",
      "INFO_loadData-processTrial(): - Processing subject: P_201218121321 t = 73 of 86\n",
      "INFO_loadData-processTrial(): - Processing subject: P_201218121321 t = 74 of 86\n",
      "INFO_loadData-processTrial(): - Processing subject: P_201218121321 t = 75 of 86\n",
      "INFO_loadData-processTrial(): - Processing subject: P_201218121321 t = 76 of 86\n",
      "INFO_loadData-processTrial(): - Processing subject: P_201218121321 t = 77 of 86\n",
      "INFO_loadData-processTrial(): - Processing subject: P_201218121321 t = 78 of 86\n",
      "INFO_loadData-processTrial(): - Processing subject: P_201218121321 t = 79 of 86\n",
      "INFO_loadData-processTrial(): - Processing subject: P_201218121321 t = 80 of 86\n",
      "INFO_loadData-processTrial(): - Processing subject: P_201218121321 t = 81 of 86\n",
      "INFO_loadData-processTrial(): - Processing subject: P_201218121321 t = 82 of 86\n"
     ]
    }
   ],
   "source": [
    "subNum = 0\n",
    "\n",
    "sessionDict = unpackSession(subNum,doNotLoad=True)"
   ]
  },
  {
   "cell_type": "markdown",
   "metadata": {},
   "source": [
    "### Let's inspect the sessiondict and see how the data is organized."
   ]
  },
  {
   "cell_type": "code",
   "execution_count": null,
   "metadata": {},
   "outputs": [],
   "source": [
    "list(sessionDict.keys())"
   ]
  },
  {
   "cell_type": "markdown",
   "metadata": {},
   "source": [
    "### A description of what's in the session file:\n",
    "\n",
    "* subID: self explanatory\n",
    "* trialInfo: metadata for the trial\n",
    "* expConfig: metadata for the experiment\n",
    "\n",
    "* rawExpUnity: raw data recorded at each Unity call ot Update() - 90 Hz on the Vive.  Data is for catching experiment trials only.\n",
    "\n",
    "* rawExpGaze: raw data recorded at each sample of a Pupil eye camera - [two interleaved 120 hz streams, so approx 240 hz] Data is for catching experiment trials only.\n",
    "\n",
    "* processedExp: Formed by upsampling rawExpUnity to match the frequency of rawExpGaze, and merging. Data is for catching experiment trials only.\n",
    "\n",
    "* rawCalibUnity: Same as rawExpUnity but for calibraiton assessment trials only.\n",
    "* rawCalibGaze: Same as rawExpGaze but for calibraiton assessment trials only.\n",
    "* processedCalib: Same as processedExp but for calibraiton assessment trials only."
   ]
  },
  {
   "cell_type": "markdown",
   "metadata": {},
   "source": [
    "### Let's poke around the trialInfo metadata"
   ]
  },
  {
   "cell_type": "code",
   "execution_count": null,
   "metadata": {},
   "outputs": [],
   "source": [
    "sessionDict['trialInfo'].keys()"
   ]
  },
  {
   "cell_type": "markdown",
   "metadata": {},
   "source": [
    "Let's get some values from the metadata for a single trial:"
   ]
  },
  {
   "cell_type": "code",
   "execution_count": null,
   "metadata": {},
   "outputs": [],
   "source": [
    "trialRowIdx = 10\n",
    "\n",
    "aTrialsInfo = sessionDict['trialInfo'].loc[trialRowIdx]\n",
    "\n",
    "print('Trial number: {tNum} \\nTrial type: {tType}'.format(tNum = int(aTrialsInfo['trialNumber']),\n",
    "                                                   tType = str(aTrialsInfo['trialType'].values)))\n"
   ]
  },
  {
   "cell_type": "markdown",
   "metadata": {},
   "source": [
    "Now, let's have a look at what kind of per-frame data in associated with this trial.  You have access to the raw data in rawUnity and rawGaze ['processedExp'] associated with this trial."
   ]
  },
  {
   "cell_type": "code",
   "execution_count": null,
   "metadata": {},
   "outputs": [],
   "source": [
    "sessionDict['rawCalibGaze'].keys()"
   ]
  },
  {
   "cell_type": "code",
   "execution_count": null,
   "metadata": {},
   "outputs": [],
   "source": [
    "sessionDict['processedCalib'].keys()"
   ]
  },
  {
   "cell_type": "markdown",
   "metadata": {},
   "source": [
    "Note that the column indices (listed above) are 'multiIndex'.  \n",
    "They complicate things and can cause issues sometimes, but are generally helpful for data organization. \n",
    "\n",
    "Using the first-level column index will also pull up all subindices:"
   ]
  },
  {
   "cell_type": "code",
   "execution_count": null,
   "metadata": {},
   "outputs": [],
   "source": [
    "sessionDict['processedCalib']"
   ]
  },
  {
   "cell_type": "code",
   "execution_count": null,
   "metadata": {},
   "outputs": [],
   "source": [
    "sessionDict['processedCalib']['gaze-normal0'].head(10) # head(10) shows only teh first ten values"
   ]
  },
  {
   "cell_type": "markdown",
   "metadata": {},
   "source": [
    "Use a tuple to take advantage of multiindices:"
   ]
  },
  {
   "cell_type": "code",
   "execution_count": null,
   "metadata": {},
   "outputs": [],
   "source": [
    "sessionDict['processedCalib'][('gaze-normal0','x')].head(10) # head(10) shows only teh first ten values"
   ]
  },
  {
   "cell_type": "code",
   "execution_count": null,
   "metadata": {},
   "outputs": [],
   "source": [
    "sessionDict['processedCalib'][('gaze-normal0','x')].head(10)"
   ]
  },
  {
   "cell_type": "markdown",
   "metadata": {},
   "source": [
    "# Some approaches to computation..."
   ]
  },
  {
   "cell_type": "markdown",
   "metadata": {},
   "source": [
    "Summary statistics are easy!"
   ]
  },
  {
   "cell_type": "code",
   "execution_count": null,
   "metadata": {},
   "outputs": [],
   "source": [
    "sessionDict['processedCalib'][('gaze-normal0','x')].mean()"
   ]
  },
  {
   "cell_type": "markdown",
   "metadata": {},
   "source": [
    "### Want to compute a new measurement or metric per frame?   \n",
    "\n",
    "You probably want to iterate through each frame/row of processedExp or processedCalib and use the existing data to calculate a new measure. \n",
    "\n",
    "Below, I apply \"anonymous\" function to each row of [('gaze-normal0','x')] to multiply it by two."
   ]
  },
  {
   "cell_type": "code",
   "execution_count": null,
   "metadata": {},
   "outputs": [],
   "source": [
    "sessionDict['processedCalib'][('gaze-normal0','x')].apply(lambda row: row*2)"
   ]
  },
  {
   "cell_type": "markdown",
   "metadata": {},
   "source": [
    "### We can get a bit more tricky here, too.  \n",
    "For example, we can apply a custom function to normalize the gaze-normal0 vector.\n",
    "Note the axis argin, which makes sure that we're applying this function to each ROW (and not column, where axis=0)\n",
    "\n",
    "You may get the error: \"RuntimeWarning: invalid value encountered in true_divide\"\n",
    "This is caused by a divide by zero."
   ]
  },
  {
   "cell_type": "code",
   "execution_count": null,
   "metadata": {},
   "outputs": [],
   "source": [
    "def normalizeVector(xyz):\n",
    "    '''\n",
    "    Input be a 3 element array of containing the x,y,and z data of a 3D vector.\n",
    "    Returns a normalized 3 element array\n",
    "    '''\n",
    "    \n",
    "    # Sometimes necessary.\n",
    "    xyz = np.array(xyz)\n",
    "    xyz = xyz / np.linalg.norm(xyz)\n",
    "    return xyz \n",
    "\n",
    "sessionDict['processedCalib']['gaze-normal0'].apply(lambda row: normalizeVector(row),axis=1)\n"
   ]
  },
  {
   "cell_type": "markdown",
   "metadata": {},
   "source": [
    "### It's a very good idea to assume your \"normals\" are not actually normalized.  After all, the time-series data was merged, upsampled, and interpolated!"
   ]
  },
  {
   "cell_type": "markdown",
   "metadata": {},
   "source": [
    "# What if we cant to calculate something per trial?\n",
    "\n",
    "You can also compute by applying a method to each \"trial\" processedCalib, mwhere each trial is a single fixation, or a sequence of fixations and saccades, or a VOR ( every time the black dot turned yellow, that was a single trial). \n",
    "\n",
    "In the case of the ball catching task, a single trial was one throw of the ball. That data is stored in processedExp, and we won't worry about it now.."
   ]
  },
  {
   "cell_type": "markdown",
   "metadata": {},
   "source": [
    "### The processed dataframes can be sliced into trials using the groupby function."
   ]
  },
  {
   "cell_type": "markdown",
   "metadata": {},
   "source": [
    "Lets first create the groupby object.  "
   ]
  },
  {
   "cell_type": "code",
   "execution_count": null,
   "metadata": {},
   "outputs": [],
   "source": [
    "gbProcessedCalib_trial = sessionDict['processedCalib'].groupby(['trialNumber'])"
   ]
  },
  {
   "cell_type": "markdown",
   "metadata": {},
   "source": [
    "Group keys refer to the trial number"
   ]
  },
  {
   "cell_type": "code",
   "execution_count": null,
   "metadata": {},
   "outputs": [],
   "source": [
    "gbProcessedCalib_trial.groups.keys()"
   ]
  },
  {
   "cell_type": "markdown",
   "metadata": {},
   "source": [
    "Each group (in this case, each trial) is actually a dataframe \"slice\" of the rows of processedCalib that match that trial number."
   ]
  },
  {
   "cell_type": "code",
   "execution_count": null,
   "metadata": {},
   "outputs": [],
   "source": [
    "gbProcessedCalib_trial.get_group(10)"
   ]
  },
  {
   "cell_type": "markdown",
   "metadata": {},
   "source": [
    "\n",
    "### Trials / groups are useful because they are iterable.\n",
    "\n",
    "You can iterate through rows of trialInfoDF in a number of ways, but I will demonstrate one way that makes it easy to get both trial metadata and per-frame data from the processed dataframe"
   ]
  },
  {
   "cell_type": "markdown",
   "metadata": {},
   "source": [
    "Here's the method done manually."
   ]
  },
  {
   "cell_type": "code",
   "execution_count": null,
   "metadata": {},
   "outputs": [],
   "source": [
    "trialRowIdx = 10\n",
    "\n",
    "trMetaData =  sessionDict['trialInfo'].iloc[10]\n",
    "\n",
    "# Note that trial numbers start at 1, not 0. \n",
    "# Trial number and trialRowIdx index are not the same thing!\n",
    "print('Trial number: {tNum}'.format(tNum = int(trMetaData['trialNumber'])))\n",
    "\n",
    "# This dataframe contains the per-frame processed data associated with this trial\n",
    "procDF = gbProcessedCalib_trial.get_group(int(trMetaData['trialNumber']))\n",
    "\n",
    "# Is the target on trial head fixed the entire time?\n",
    "# len(procDF['isHeadFixed'].drop_duplicates()) # If all values are true, then yes!\n",
    "if ( sum(procDF['isHeadFixed'] == True) == len(procDF) ):\n",
    "    print('This trial is a fixation or fixation+saccade trial.')\n"
   ]
  },
  {
   "cell_type": "markdown",
   "metadata": {},
   "source": [
    "Now, let's take the same general approach using iteration"
   ]
  },
  {
   "cell_type": "code",
   "execution_count": null,
   "metadata": {},
   "outputs": [],
   "source": [
    "for trialRowIdx, trMetaData in sessionDict['trialInfo'].iterrows():\n",
    "    \n",
    "    # This dataframe contains the per-frame processed data associated with this trial\n",
    "    procDF = gbProcessedCalib_trial.get_group(int(trMetaData['trialNumber']))\n",
    "    \n",
    "    targetType = []\n",
    "\n",
    "    \n",
    "    if ( sum(procDF['isHeadFixed'] == False) ==  len(procDF) ):\n",
    "        \n",
    "        targetType = 'VOR'\n",
    "    \n",
    "    elif( sum(procDF['isHeadFixed'] == True) == len(procDF) ):\n",
    "        \n",
    "        # Count the number of target positions within the local space (head-centered space)\n",
    "        if( len(procDF['targeLocalPos'].drop_duplicates()) == 1 ):\n",
    "            # Only one target, so it's a fixation trial\n",
    "            targetType = 'fixation'\n",
    "        else:\n",
    "            # multiple targets, so it's a saccade trial\n",
    "            targetType = 'fixation+saccade'\n",
    "            \n",
    "    else:\n",
    "        # The trial has both head fixed and world fixed targets.  \n",
    "        # We did not plan for that, so let's label it as \"unknown.\"\n",
    "        \n",
    "        targetType = 'unknown'\n",
    "        \n",
    "    print('Trial number: {tNum}, type: {tType}'.format(tNum = int(trMetaData['trialNumber']),\n",
    "                                                   tType = targetType))\n"
   ]
  },
  {
   "cell_type": "markdown",
   "metadata": {},
   "source": []
  },
  {
   "cell_type": "markdown",
   "metadata": {},
   "source": [
    "### Nice!  Now, how about a more modular approach?"
   ]
  },
  {
   "cell_type": "code",
   "execution_count": null,
   "metadata": {},
   "outputs": [],
   "source": [
    "def findCalibrationTargetType(sessionIn):\n",
    "    '''\n",
    "    Input: Session dictionary\n",
    "    Output:  Session dictionary with new column sessionDict['trialInfo']['targetType']\n",
    "    '''\n",
    "    \n",
    "    gbProcessedCalib_trial = sessionIn['processedCalib'].groupby(['trialNumber'])\n",
    "    \n",
    "    targetTypes = []\n",
    "    for trialRowIdx, trMetaData in sessionIn['trialInfo'].iterrows():\n",
    "\n",
    "        # This dataframe contains the per-frame processed data associated with this trial\n",
    "        procDF = gbProcessedCalib_trial.get_group(int(trMetaData['trialNumber']))\n",
    "\n",
    "        targetType = []\n",
    "\n",
    "\n",
    "        if ( sum(procDF['isHeadFixed'] == False) ==  len(procDF) ):\n",
    "\n",
    "            targetType = 'VOR'\n",
    "\n",
    "        elif( sum(procDF['isHeadFixed'] == True) == len(procDF) ):\n",
    "\n",
    "            # Count the number of target positions within the local space (head-centered space)\n",
    "            if( len(procDF['targeLocalPos'].drop_duplicates()) == 1 ):\n",
    "                # Only one target, so it's a fixation trial\n",
    "                targetType = 'fixation'\n",
    "            else:\n",
    "                # multiple targets, so it's a saccade trial\n",
    "                targetType = 'fixation+saccade'\n",
    "\n",
    "        else:\n",
    "            # The trial has both head fixed and world fixed targets.  \n",
    "            # We did not plan for that, so let's label it as \"unknown.\"\n",
    "\n",
    "            targetType = 'unknown'\n",
    "\n",
    "        print('Trial number: {tNum}, type: {tType}'.format(tNum = int(trMetaData['trialNumber']),\n",
    "                                                       tType = targetType))\n",
    "        targetTypes.append(targetType)\n",
    "        \n",
    "    \n",
    "    sessionIn['trialInfo']['targetType'] = targetTypes\n",
    "    \n",
    "    logger.info('Added sessionDict[\\'trialInfo\\'][\\'targetType\\']')\n",
    "    \n",
    "    return sessionDict\n"
   ]
  },
  {
   "cell_type": "code",
   "execution_count": null,
   "metadata": {
    "scrolled": false
   },
   "outputs": [],
   "source": [
    "sessionDict = findCalibrationTargetType(sessionDict)"
   ]
  },
  {
   "cell_type": "markdown",
   "metadata": {},
   "source": [
    "Wonderful.  \n",
    "The idea here is to build up a bunch of methods that can be called in a linear fashion.  \n",
    "Most will perform number crunching and add new columns, or modify old ones (athough, never change the raw data!)\n",
    "Eventually, some will be plotting functions.\n",
    "\n",
    "I've taken this approach to processing ball catching data.  To see this approach in practice, open up processDataE1,py, and see processData().  "
   ]
  },
  {
   "cell_type": "markdown",
   "metadata": {},
   "source": [
    "# Upwards and onwards!"
   ]
  },
  {
   "cell_type": "code",
   "execution_count": null,
   "metadata": {},
   "outputs": [],
   "source": []
  }
 ],
 "metadata": {
  "kernelspec": {
   "display_name": "Python 3",
   "language": "python",
   "name": "python3"
  },
  "language_info": {
   "codemirror_mode": {
    "name": "ipython",
    "version": 3
   },
   "file_extension": ".py",
   "mimetype": "text/x-python",
   "name": "python",
   "nbconvert_exporter": "python",
   "pygments_lexer": "ipython3",
   "version": "3.7.4"
  }
 },
 "nbformat": 4,
 "nbformat_minor": 2
}
