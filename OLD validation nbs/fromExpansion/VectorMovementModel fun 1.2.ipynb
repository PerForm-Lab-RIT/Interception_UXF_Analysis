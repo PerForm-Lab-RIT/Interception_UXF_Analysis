{
 "cells": [
  {
   "cell_type": "code",
   "execution_count": 1,
   "metadata": {},
   "outputs": [],
   "source": [
    "import sys\n",
    "sys.path.append(\"../Modules/\")\n",
    "sys.path.append(\"../\")\n",
    "import os\n",
    "\n",
    "import pandas as pd\n",
    "import numpy as np\n",
    "\n",
    "from configobj import ConfigObj\n",
    "from configobj import flatten_errors\n",
    "from validate import Validator\n",
    "    \n",
    "import logging\n",
    "\n",
    "from analysisParameters import loadParameters\n",
    "from loadDataE1 import loadSessionDict\n",
    "import processDataE1 as pF\n",
    "\n",
    "#fmt = 'logging.Formatter(''%(levelname)s_%(name)s-%(funcName)s(): - %(message)s'\n",
    "fmt = '%(levelname)s_%(name)s-%(funcName)s(): - %(message)s'\n",
    "logging.basicConfig(level=logging.INFO, format=fmt)\n",
    "logger = logging.getLogger(__name__)\n",
    "\n"
   ]
  },
  {
   "cell_type": "code",
   "execution_count": 2,
   "metadata": {},
   "outputs": [
    {
     "name": "stderr",
     "output_type": "stream",
     "text": [
      "INFO_loadDataE1-loadSessionDict(): - Loading preprocessed data for exp_data-2018-4-26-11-31 ***\n"
     ]
    }
   ],
   "source": [
    "#fileTime = '2018-4-27-13-41'\n",
    "# fileTime = '2018-4-30-13-49'\n",
    "fileTime = '2018-4-26-11-31'\n",
    "analysisParameters = loadParameters(fileTime)\n",
    "sessionDict = loadSessionDict(analysisParameters,\n",
    "                              loadParsedData = False,\n",
    "                              loadProcessedData = True)\n"
   ]
  },
  {
   "cell_type": "code",
   "execution_count": 3,
   "metadata": {},
   "outputs": [],
   "source": [
    "# sessionDict = projectTrajectories(sessionDict)\n",
    "import matplotlib.pyplot as plt\n",
    "%matplotlib notebook"
   ]
  },
  {
   "cell_type": "code",
   "execution_count": 4,
   "metadata": {},
   "outputs": [],
   "source": [
    "subNum = 2\n",
    "bNum = 2\n",
    "tNum = 127\n",
    "\n",
    "\n",
    "# subNum = 2\n",
    "# bNum = 2\n",
    "# tNum = 141\n"
   ]
  },
  {
   "cell_type": "code",
   "execution_count": 5,
   "metadata": {},
   "outputs": [
    {
     "name": "stderr",
     "output_type": "stream",
     "text": [
      "INFO_loadDataE1-loadSessionDict(): - Loading preprocessed data for exp_data-2018-4-27-12-32 ***\n"
     ]
    }
   ],
   "source": [
    "fileTimeList = [];\n",
    "[fileTimeList.append(name) for name in os.listdir(\"../Data/\") if name[0] is not '.'];\n",
    "fileTimeList\n",
    "\n",
    "from analysisParameters import loadParameters\n",
    "from loadDataE1 import loadSessionDict\n",
    "from processDataE1 import projectTrajectories\n",
    "\n",
    "fileName = fileTimeList[subNum]\n",
    "analysisParameters = loadParameters(fileName)\n",
    "\n",
    "# set loadProcessedData to True if you want to reprocess the file.  \n",
    "sessionDict = loadSessionDict(analysisParameters,\n",
    "                                  loadParsedData = True,\n",
    "                                  loadProcessedData = True)\n",
    "\n",
    "sessionDict['processed']['subjectNumber'] = subNum\n",
    "sessionDict['processed']['fileName'] = fileName\n",
    "\n",
    "\n"
   ]
  },
  {
   "cell_type": "code",
   "execution_count": 6,
   "metadata": {},
   "outputs": [
    {
     "name": "stderr",
     "output_type": "stream",
     "text": [
      "INFO_processDataE1-gazeAnalysisWindow(): - Added sessionDict['trialInfo']['analysisStartFr']\n",
      "INFO_processDataE1-gazeAnalysisWindow(): - Added sessionDict['trialInfo']['analysisEndFr']\n"
     ]
    }
   ],
   "source": [
    "from processDataE1 import gazeAnalysisWindow\n",
    "sessionDict = gazeAnalysisWindow(sessionDict, analyzeUntilXSToArrival =  .3, \n",
    "                                 stopAtXSToArrival = 0.1)\n",
    "# sessionDict = gazeAnalysisWindow(sessionDict, analyzeUntilXSToArrival =  .2, \n",
    "#                                  stopAtXSToArrival = 0.075):"
   ]
  },
  {
   "cell_type": "code",
   "execution_count": 7,
   "metadata": {},
   "outputs": [],
   "source": [
    "tr = sessionDict['processed'].groupby(('blockNumber','trialNumber')).get_group((bNum,tNum))\n",
    "trInfo = sessionDict['trialInfo'].groupby(('blockNumber','trialNumber')).get_group((bNum,tNum))"
   ]
  },
  {
   "cell_type": "markdown",
   "metadata": {},
   "source": [
    "### Parameters"
   ]
  },
  {
   "cell_type": "code",
   "execution_count": 8,
   "metadata": {},
   "outputs": [],
   "source": [
    "winSize = 7\n",
    "polyorder = 3\n",
    "interpResMs = 1. / 1000"
   ]
  },
  {
   "cell_type": "markdown",
   "metadata": {},
   "source": [
    "### Vector movement model"
   ]
  },
  {
   "cell_type": "code",
   "execution_count": 9,
   "metadata": {},
   "outputs": [],
   "source": [
    "from scipy.signal import savgol_filter\n",
    "sampleTime = sessionDict['raw']['frameTime'].diff().mode()\n",
    "if len(sampleTime) > 1: sampleTime=sampleTime[0]\n",
    "    \n",
    "# trInfo = sessionDict['trialInfo'].groupby(('blockNumber','trialNumber')).get_group((bNum,tNum))\n",
    "\n",
    "# Calculate velocity\n",
    "cycToBallVel_az = savgol_filter(tr['ball_az'], winSize, polyorder, deriv=1, \n",
    "                                      delta= sampleTime, axis=0, mode='constant', cval=1.0)\n",
    "\n",
    "cycToBallVel_el = savgol_filter(tr['ball_el'], winSize, polyorder, deriv=1, \n",
    "                                      delta= sampleTime, axis=0, mode='constant', cval=1.0)\n",
    "\n",
    "startIdx = int(trInfo['analysisStartFr'])\n",
    "endIdx = int(trInfo['analysisEndFr']) \n",
    "\n",
    "windowFr = tr.index[startIdx:endIdx]\n",
    "wStartFr = windowFr[0]\n",
    "wEndFr = windowFr[-1]\n",
    "\n",
    "###  Interpolate\n",
    "time_fr = np.array(tr['frameTime'][windowFr]- tr['frameTime'][windowFr[0]],np.float)\n",
    "interpTime_fr = np.arange(0,time_fr[-1],interpResMs)\n",
    "\n",
    "distTrav_fr = np.cumsum(np.sqrt( np.diff(np.array(tr['ball_az'][windowFr]))**2 + \n",
    "                             np.diff(np.array(tr['ball_el'][windowFr]))**2))\n",
    " \n",
    "distTrav_fr = np.hstack([0, distTrav_fr])\n",
    "interpDist_fr = np.interp(interpTime_fr, time_fr, distTrav_fr)\n",
    "interpAz_fr = np.interp(interpTime_fr, time_fr, np.array(tr['ball_az'][windowFr]))\n",
    "interpEl_fr = np.interp(interpTime_fr, time_fr, np.array(tr['ball_el'][windowFr]))\n",
    "\n",
    "# Find where the ball / gaze actually ended up\n",
    "ballWinStart_AzEl = [tr['ball_az'][wStartFr], tr['ball_el'][wStartFr]]\n",
    "ballWinEnd_AzEl = [tr['ball_az'][wEndFr], tr['ball_el'][wEndFr]]\n",
    "\n",
    "gazeWinStart_AzEl  = [tr['cycGIW_az'][wStartFr], tr['cycGIW_el'][wStartFr]]\n",
    "gazeWinEnd_AzEl  = [tr['cycGIW_az'][wEndFr], tr['cycGIW_el'][wEndFr]]\n",
    "\n",
    "## Fixed path, constant speed model\n",
    "winDurSeconds = tr['frameTime'][wEndFr] - tr['frameTime'][wStartFr]\n",
    "ballVel = np.sqrt(np.sum(np.power([cycToBallVel_az[startIdx], cycToBallVel_el[startIdx]],2)))\n",
    "ballDegsMovement = winDurSeconds * ballVel\n",
    "constVelCurvFrame =  np.where(interpDist_fr > ballDegsMovement)[0][0]\n",
    "\n",
    "ballAtWinEndVelPred_AzEl = [interpAz_fr[constVelCurvFrame], interpEl_fr[constVelCurvFrame]]\n",
    "\n",
    "## Cast gaze onto trajectory (min gaze-to-sample distance)\n",
    "gaze_samp_AzEl = np.array([interpAz_fr, interpEl_fr]).T\n",
    "interpGazeMin_samp = [np.sqrt(np.sum(np.power(gazeWinEnd_AzEl - azEl,2))) for azEl in gaze_samp_AzEl]\n",
    "minGazeToWinSamp = np.argmin(interpGazeMin_samp)\n",
    "\n",
    "gazeMinDistLoc_AzEl = np.array([interpAz_fr[minGazeToWinSamp], interpEl_fr[minGazeToWinSamp]])\n",
    "gazeToConstantVelDist = np.sqrt(np.sum(np.power(ballAtWinEndVelPred_AzEl - gazeMinDistLoc_AzEl,2)))\n",
    "\n",
    "# Halfway between the constant / changing speed waypoints\n",
    "modelToModelDist = interpDist_fr[-1]-interpDist_fr[constVelCurvFrame]\n",
    "normDistBetweenModels_samp = (interpDist_fr[constVelCurvFrame:]-interpDist_fr[constVelCurvFrame] ) / modelToModelDist\n",
    "winHalfwaySamp = constVelCurvFrame + np.where( normDistBetweenModels_samp  >= 0.5)[0][0]\n",
    "halfWayLocAzEl = np.array([interpAz_fr[winHalfwaySamp], interpEl_fr[winHalfwaySamp]])\n",
    "\n",
    "# normLocInWindow = (interpDist_fr[minGazeToWinSamp] - interpDist_fr[winHalfwaySamp] ) / (modelToModelDist/2)\n",
    "normLocInWindow = (interpDist_fr[minGazeToWinSamp] - interpDist_fr[constVelCurvFrame] ) / (modelToModelDist)\n",
    "\n"
   ]
  },
  {
   "cell_type": "code",
   "execution_count": null,
   "metadata": {},
   "outputs": [],
   "source": []
  },
  {
   "cell_type": "code",
   "execution_count": 10,
   "metadata": {},
   "outputs": [
    {
     "data": {
      "text/plain": [
       "12.45171239761317"
      ]
     },
     "execution_count": 10,
     "metadata": {},
     "output_type": "execute_result"
    }
   ],
   "source": [
    "interpDist_fr[minGazeToWinSamp]"
   ]
  },
  {
   "cell_type": "code",
   "execution_count": 11,
   "metadata": {},
   "outputs": [
    {
     "data": {
      "text/plain": [
       "4.022770964590857"
      ]
     },
     "execution_count": 11,
     "metadata": {},
     "output_type": "execute_result"
    }
   ],
   "source": [
    "ballDegsMovement"
   ]
  },
  {
   "cell_type": "code",
   "execution_count": 12,
   "metadata": {},
   "outputs": [
    {
     "data": {
      "text/plain": [
       "6.2040665568356985"
      ]
     },
     "execution_count": 12,
     "metadata": {},
     "output_type": "execute_result"
    }
   ],
   "source": [
    "(modelToModelDist/2)"
   ]
  },
  {
   "cell_type": "markdown",
   "metadata": {},
   "source": [
    "# Plot interpolation"
   ]
  },
  {
   "cell_type": "code",
   "execution_count": 13,
   "metadata": {},
   "outputs": [
    {
     "data": {
      "image/png": "[encoded data removed]",
      "text/plain": [
       "<matplotlib.figure.Figure at 0x10a73a490>"
      ]
     },
     "metadata": {},
     "output_type": "display_data"
    }
   ],
   "source": [
    "interpResMs = 1. / 1000\n",
    "distTrav_fr\n",
    "time_fr = np.array(tr['frameTime'][windowFr]- tr['frameTime'][windowFr[0]],np.float)\n",
    "newTime_fr = np.arange(0,time_fr[-1],interpResMs)\n",
    "newDist_fr = np.interp(newTime_fr, time_fr, distTrav_fr)\n",
    "\n",
    "p, ax = plt.subplots(1, 1,figsize=(10,10)) #sharey=True)\n",
    "cList = ['r','g','b']\n",
    "lineHandles = []\n",
    "\n",
    "newDistH = ax.scatter(newTime_fr,newDist_fr,color='r',linewidth=3,alpha = 0.4)\n",
    "distH    = ax.scatter(time_fr,distTrav_fr,color='b',linewidth=3,alpha = 0.4)\n",
    "\n"
   ]
  },
  {
   "cell_type": "markdown",
   "metadata": {},
   "source": [
    "# Plot constant vel model & observed"
   ]
  },
  {
   "cell_type": "code",
   "execution_count": 14,
   "metadata": {},
   "outputs": [
    {
     "data": {
      "text/plain": [
       "<matplotlib.legend.Legend at 0x11145ded0>"
      ]
     },
     "execution_count": 14,
     "metadata": {},
     "output_type": "execute_result"
    },
    {
     "data": {
      "image/png": "[encoded data removed]",
      "text/plain": [
       "<matplotlib.figure.Figure at 0x110d7dad0>"
      ]
     },
     "metadata": {},
     "output_type": "display_data"
    }
   ],
   "source": [
    "halfHFOVDegs = 80\n",
    "analyzeUntilXSToArrival =  .2\n",
    "stopAtXSToArrival = 0.075\n",
    "\n",
    "endFr = int(trInfo['passVertPlaneAtPaddleFr'])\n",
    "plotFr = tr.index[:endFr]\n",
    "\n",
    "halfVFOVDegs = halfHFOVDegs / 1.77\n",
    "\n",
    "p, ax = plt.subplots(1, 1,figsize=(10,10)) #sharey=True)\n",
    "cList = ['r','g','b']\n",
    "lineHandles = []\n",
    "\n",
    "ballH = ax.plot(tr['ball_az'][plotFr],tr['ball_el'][plotFr],color='b',linewidth=3,alpha = 0.4)\n",
    "gazeH = ax.plot(tr['cycGIW_az'][plotFr],tr['cycGIW_el'][plotFr],color='r',linewidth=3,alpha = 0.4)\n",
    "\n",
    "startFr = int(trInfo['analysisStartFr'])\n",
    "endFr = int(trInfo['analysisEndFr'])\n",
    "\n",
    "windowFr = tr.index[startFr:endFr]\n",
    "wStartFr = windowFr[0]\n",
    "wEndFr = windowFr[-1]\n",
    "\n",
    "ax.plot(tr['ball_az'][windowFr],tr['ball_el'][windowFr],color='b',linewidth=5, alpha = 0.6)\n",
    "ax.plot(tr['cycGIW_az'][windowFr],tr['cycGIW_el'][windowFr],color='r',linewidth=5,alpha = 0.6)\n",
    "\n",
    "for pf in windowFr:\n",
    "    xs = [tr['ball_az'][pf], tr['cycGIW_az'][pf]]\n",
    "    ys = [tr['ball_el'][pf], tr['cycGIW_el'][pf]]\n",
    "    ax.plot(xs,ys,color='k',linewidth=1,alpha = 0.3)\n",
    "\n",
    "ax.axis('equal')\n",
    "ax.axes.spines['top'].set_visible(False)\n",
    "ax.axes.spines['right'].set_visible(False)\n",
    "ax.axes.yaxis.grid(True)\n",
    "ax.axes.xaxis.grid(True)\n",
    "p.set_facecolor('w')\n",
    "\n",
    "plt.xlim([-30,30])\n",
    "plt.ylim([-15,35])\n",
    "\n",
    "\n",
    "observedH = ax.scatter(ballWinEnd_AzEl[0],ballWinEnd_AzEl[1],c='k',s=150,marker='8')\n",
    "constantVelH = ax.scatter(ballAtWinEndVelPred_AzEl[0],ballAtWinEndVelPred_AzEl[1],c='k',s=150,marker='v')\n",
    "gazeLoc = ax.scatter(gazeMinDistLoc_AzEl[0],gazeMinDistLoc_AzEl[1],c='m',s=150,marker='x',lw=6)\n",
    "halfWayH = ax.scatter(halfWayLocAzEl[0],halfWayLocAzEl[1],c='k',s=150,marker='x')\n",
    "\n",
    "ax.text(.01,.01,str('NormLoc: {0:.2f}').format(normLocInWindow),transform=ax.transAxes)\n",
    "\n",
    "ax.legend([gazeLoc,\n",
    "           constantVelH,\n",
    "           observedH,\n",
    "            halfWayH], \n",
    "          \n",
    "          ['point nearest to gaze',\n",
    "           'constant speed model',\n",
    "           'actual displacement',\n",
    "           'halfway along contiuum'])\n",
    "\n",
    "# ax.text(.01,.01,str('VelModel: {0:.2f}').format(float(trInfo['velPredError'])),transform=ax.transAxes)\n",
    "# ax.text(.01,.04,str('Observed: {0:.2f}').format(float(trInfo['observedError'])),transform=ax.transAxes)\n",
    "\n",
    "# az = trInfo['ballWinEnd_AzEl'].values[0][0]\n",
    "# el = trInfo['ballWinEnd_AzEl'].values[0][1]\n",
    "# ax.text(.01,.07,str('BallWinEnd: {0:.2f} {1:.2f}').format(az,el),transform=ax.transAxes)\n",
    "\n",
    "# az = trInfo['gazeWinEnd_AzEl'].values[0][0]\n",
    "# el = trInfo['gazeWinEnd_AzEl'].values[0][1]\n",
    "# ax.text(.01,.1,str('GazeWinEnd: {0:.2f} {1:.2f}').format(az,el),transform=ax.transAxes)"
   ]
  },
  {
   "cell_type": "code",
   "execution_count": null,
   "metadata": {},
   "outputs": [],
   "source": []
  },
  {
   "cell_type": "code",
   "execution_count": null,
   "metadata": {},
   "outputs": [],
   "source": []
  },
  {
   "cell_type": "code",
   "execution_count": null,
   "metadata": {},
   "outputs": [],
   "source": []
  }
 ],
 "metadata": {
  "kernelspec": {
   "display_name": "Python 2",
   "language": "python",
   "name": "python2"
  },
  "language_info": {
   "codemirror_mode": {
    "name": "ipython",
    "version": 2
   },
   "file_extension": ".py",
   "mimetype": "text/x-python",
   "name": "python",
   "nbconvert_exporter": "python",
   "pygments_lexer": "ipython2",
   "version": "2.7.14"
  }
 },
 "nbformat": 4,
 "nbformat_minor": 2
}
