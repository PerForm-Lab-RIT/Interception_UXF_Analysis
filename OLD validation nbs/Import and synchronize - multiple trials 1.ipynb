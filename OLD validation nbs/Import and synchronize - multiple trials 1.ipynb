{
 "cells": [
  {
   "cell_type": "code",
   "execution_count": 1,
   "metadata": {},
   "outputs": [],
   "source": [
    "# This cell sets the CWD to the parent directory.  \n",
    "# If you run this more than once, it will cause problems!\n",
    "\n",
    "import os\n",
    "wd = os.getcwd()\n",
    "os.chdir('/'.join(wd.split('/')[:-1])+'/'  )\n",
    "print(\"CWD:\" + os.getcwd())"
   ]
  },
  {
   "cell_type": "code",
   "execution_count": 2,
   "metadata": {},
   "outputs": [
    {
     "name": "stdout",
     "output_type": "stream",
     "text": [
      "CWD:/Users/gjdpci/Dropbox/Code/Catching - IPD/expansion analysis - UXF 1/Interception_UXF_Analysis\n"
     ]
    }
   ],
   "source": [
    "import sys\n",
    "\n",
    "sys.path.append(\"Modules/\")\n",
    "# sys.path.append(\"../Modules/\")\n",
    "sys.path.append(\"/\")\n",
    "\n",
    "\n",
    "import logging\n",
    "import pickle\n",
    "import numpy as np\n",
    "import pandas as pd\n",
    "\n",
    "\n",
    "fmt = '%(levelname)s_%(name)s-%(funcName)s(): - %(message)s'\n",
    "logging.basicConfig(level=logging.INFO, format=fmt)\n",
    "logger = logging.getLogger(__name__)\n",
    "\n",
    "from loadData import unpackSession\n",
    "\n",
    "sys.path.append(\"pyFiles/\")\n",
    "from processData import *"
   ]
  },
  {
   "cell_type": "code",
   "execution_count": 3,
   "metadata": {},
   "outputs": [],
   "source": [
    "subNum = 0"
   ]
  },
  {
   "cell_type": "markdown",
   "metadata": {},
   "source": [
    "Create paths to raw data files"
   ]
  },
  {
   "cell_type": "code",
   "execution_count": 4,
   "metadata": {},
   "outputs": [
    {
     "name": "stderr",
     "output_type": "stream",
     "text": [
      "INFO_processData-<module>(): - Processing session: Data/P_201218121321_sub1\n"
     ]
    },
    {
     "name": "stdout",
     "output_type": "stream",
     "text": [
      "***> 0: P_201218121321_sub1\n",
      "1: P_200917094202\n"
     ]
    }
   ],
   "source": [
    "# Get folder/filenames\n",
    "dataFolderList = []\n",
    "[dataFolderList.append(name) for name in os.listdir(\"Data/\") if name[0] is not '.']\n",
    "\n",
    "for i, name in enumerate(dataFolderList):\n",
    "        if i == subNum:\n",
    "            print('***> ' + str(i) + ': ' + name )\n",
    "        else:\n",
    "            print(str(i) + ': ' + name )\n",
    "\n",
    "\n",
    "dataParentFolder = \"Data/\" + dataFolderList[subNum]\n",
    "dataSubFolderList = []\n",
    "[dataSubFolderList.append(name) for name in os.listdir(dataParentFolder) if name[0] is not '.']\n",
    "dataFolder = dataParentFolder + '/' + dataSubFolderList[0] + '/'\n",
    "\n",
    "logger.info('Processing session: ' + dataParentFolder)\n"
   ]
  },
  {
   "cell_type": "code",
   "execution_count": 5,
   "metadata": {},
   "outputs": [],
   "source": [
    "# # Try to load pickle if doNotLoad == False\n",
    "# picklePath = dataFolder + dataSubFolderList[0] + '.pickle'\n",
    "# from os import path\n",
    "# if( doNotLoad == False and path.exists(picklePath)):\n",
    "\n",
    "#     file = open(picklePath, 'rb')\n",
    "#     sessionData = pickle.load(file)\n",
    "#     file.close()\n",
    "\n",
    "#     logger.info('Importing session dict from pickle.')\n",
    "\n",
    "#     return sessionData\n",
    "\n",
    "# logger.info('Compiling session dict from *.csv.')"
   ]
  },
  {
   "cell_type": "markdown",
   "metadata": {},
   "source": [
    "Create empty dataframes.  Load trial results."
   ]
  },
  {
   "cell_type": "code",
   "execution_count": 6,
   "metadata": {},
   "outputs": [],
   "source": [
    "rawExpUnityDataDf = pd.DataFrame()\n",
    "rawExpGazeDataDf = pd.DataFrame()\n",
    "processedExpDataDf = pd.DataFrame()\n",
    "\n",
    "rawCalibUnityDataDf = pd.DataFrame()\n",
    "rawCalibGazeDataDf = pd.DataFrame()\n",
    "processedCalibDataDf = pd.DataFrame()\n",
    "\n",
    "trialData = pd.read_csv( dataFolder + 'trial_results.csv')"
   ]
  },
  {
   "cell_type": "markdown",
   "metadata": {},
   "source": [
    "Normally, I would use the line of code below to iterate through every trial and extract its raw Unity data, raw Pupil data, and the temporally synchronized \"processed\" data, which is meant for additional manipulation and computation.  However, here, we're going to process one trial at a time, for additional transparency.\n",
    "```python\n",
    "    for trIdx, trialResults in trialData.iterrows():\n",
    "```"
   ]
  },
  {
   "cell_type": "code",
   "execution_count": 7,
   "metadata": {},
   "outputs": [],
   "source": [
    "trIdx = 0\n",
    "trialResults = trialData.iloc[trIdx]"
   ]
  },
  {
   "cell_type": "code",
   "execution_count": 8,
   "metadata": {},
   "outputs": [
    {
     "data": {
      "text/plain": [
       "directory                                       interception_expansion/P_201218121321/S001\n",
       "experiment                                                          interception_expansion\n",
       "ppid                                                                        P_201218121321\n",
       "session_num                                                                              1\n",
       "trial_num                                                                                1\n",
       "block_num                                                                                1\n",
       "trial_num_in_block                                                                       1\n",
       "start_time                                                                         107.007\n",
       "end_time                                                                           108.019\n",
       "isCaughtQ                                                                              NaN\n",
       "contactLocOnPaddle_x                                                                   NaN\n",
       "contactLocOnPaddle_y                                                                   NaN\n",
       "contactLocOnPaddle_z                                                                   NaN\n",
       "gazeTargetPositionInHead_x                                                             NaN\n",
       "gazeTargetPositionInHead_y                                                             NaN\n",
       "gazeTargetPositionInHead_z                                                             NaN\n",
       "trialType                                                            CalibrationAssessment\n",
       "ballInitialPos_x                                                                       NaN\n",
       "ballInitialPos_y                                                                       NaN\n",
       "ballInitialPos_z                                                                       NaN\n",
       "ballInitialVel_x                                                                       NaN\n",
       "ballInitialVel_y                                                                       NaN\n",
       "ballInitialVel_z                                                                       NaN\n",
       "ballFinalPos_x                                                                         NaN\n",
       "ballFinalPos_y                                                                         NaN\n",
       "ballFinalPos_z                                                                         NaN\n",
       "maxReach                                                                               NaN\n",
       "noExpansionLastXSeconds                                                                NaN\n",
       "eyeHeight                                                                              NaN\n",
       "isLeftHanded                                                                           NaN\n",
       "timeOfContact                                                                          NaN\n",
       "contactLocinWorld_x                                                                    NaN\n",
       "contactLocinWorld_y                                                                    NaN\n",
       "contactLocinWorld_z                                                                    NaN\n",
       "camera_movement_filename                                          camera_movement_T001.csv\n",
       "pupil_pupilTimeStamp_filename                                pupil_pupilTimeStamp_T001.csv\n",
       "paddle_movement_filename                                          paddle_movement_T001.csv\n",
       "etassessment_calibrationAssessment_filename    etassessment_calibrationAssessment_T001.csv\n",
       "Name: 0, dtype: object"
      ]
     },
     "execution_count": 8,
     "metadata": {},
     "output_type": "execute_result"
    }
   ],
   "source": [
    "trialResults"
   ]
  },
  {
   "cell_type": "code",
   "execution_count": 16,
   "metadata": {},
   "outputs": [
    {
     "ename": "NameError",
     "evalue": "name 'trialDict' is not defined",
     "output_type": "error",
     "traceback": [
      "\u001b[0;31m---------------------------------------------------------------------------\u001b[0m",
      "\u001b[0;31mNameError\u001b[0m                                 Traceback (most recent call last)",
      "\u001b[0;32m<ipython-input-16-6a5e918298be>\u001b[0m in \u001b[0;36m<module>\u001b[0;34m\u001b[0m\n\u001b[1;32m     19\u001b[0m \u001b[0;32melif\u001b[0m\u001b[0;34m(\u001b[0m\u001b[0mtrialResults\u001b[0m\u001b[0;34m[\u001b[0m\u001b[0;34m'trialType'\u001b[0m\u001b[0;34m]\u001b[0m \u001b[0;34m==\u001b[0m \u001b[0;34m'CalibrationAssessment'\u001b[0m\u001b[0;34m)\u001b[0m\u001b[0;34m:\u001b[0m\u001b[0;34m\u001b[0m\u001b[0;34m\u001b[0m\u001b[0m\n\u001b[1;32m     20\u001b[0m \u001b[0;34m\u001b[0m\u001b[0m\n\u001b[0;32m---> 21\u001b[0;31m     \u001b[0mprocessedCalibDataDf\u001b[0m \u001b[0;34m=\u001b[0m \u001b[0maddToDF\u001b[0m\u001b[0;34m(\u001b[0m\u001b[0mprocessedCalibDataDf\u001b[0m\u001b[0;34m,\u001b[0m\u001b[0mtrialDict\u001b[0m\u001b[0;34m[\u001b[0m\u001b[0;34m'interpolatedData'\u001b[0m\u001b[0;34m]\u001b[0m\u001b[0;34m)\u001b[0m\u001b[0;34m\u001b[0m\u001b[0;34m\u001b[0m\u001b[0m\n\u001b[0m\u001b[1;32m     22\u001b[0m     \u001b[0mrawCalibUnityDataDf\u001b[0m \u001b[0;34m=\u001b[0m \u001b[0maddToDF\u001b[0m\u001b[0;34m(\u001b[0m\u001b[0mrawCalibUnityDataDf\u001b[0m\u001b[0;34m,\u001b[0m\u001b[0mtrialDict\u001b[0m\u001b[0;34m[\u001b[0m\u001b[0;34m'rawUnityData'\u001b[0m\u001b[0;34m]\u001b[0m\u001b[0;34m)\u001b[0m\u001b[0;34m\u001b[0m\u001b[0;34m\u001b[0m\u001b[0m\n\u001b[1;32m     23\u001b[0m     \u001b[0mrawCalibGazeDataDf\u001b[0m \u001b[0;34m=\u001b[0m \u001b[0maddToDF\u001b[0m\u001b[0;34m(\u001b[0m\u001b[0mrawCalibGazeDataDf\u001b[0m\u001b[0;34m,\u001b[0m\u001b[0mtrialDict\u001b[0m\u001b[0;34m[\u001b[0m\u001b[0;34m'rawGazeData'\u001b[0m\u001b[0;34m]\u001b[0m\u001b[0;34m)\u001b[0m\u001b[0;34m\u001b[0m\u001b[0;34m\u001b[0m\u001b[0m\n",
      "\u001b[0;31mNameError\u001b[0m: name 'trialDict' is not defined"
     ]
    }
   ],
   "source": [
    "# from loadData import processTrial\n",
    "# trialDict = processTrial(dataFolder, trialResults,len(trialData))\n",
    "\n",
    "def addToDF(targetDF,dfIn):\n",
    "\n",
    "    if( targetDF.empty ):\n",
    "        targetDF = dfIn\n",
    "    else:\n",
    "        targetDF = targetDF.append(dfIn)\n",
    "\n",
    "    return targetDF\n",
    "\n",
    "if (trialResults['trialType'] == 'interception'):\n",
    "\n",
    "    processedExpDataDf = addToDF(processedExpDataDf,trialDict['interpolatedData'])\n",
    "    rawExpUnityDataDf = addToDF(rawExpUnityDataDf,trialDict['rawUnityData'])\n",
    "    rawExpGazeDataDf = addToDF(rawExpGazeDataDf,trialDict['rawGazeData'])\n",
    "\n",
    "elif(trialResults['trialType'] == 'CalibrationAssessment'):\n",
    "\n",
    "    processedCalibDataDf = addToDF(processedCalibDataDf,trialDict['interpolatedData'])\n",
    "    rawCalibUnityDataDf = addToDF(rawCalibUnityDataDf,trialDict['rawUnityData'])\n",
    "    rawCalibGazeDataDf = addToDF(rawCalibGazeDataDf,trialDict['rawGazeData'])"
   ]
  },
  {
   "cell_type": "code",
   "execution_count": 15,
   "metadata": {},
   "outputs": [
    {
     "data": {
      "text/html": [
       "<div>\n",
       "<style scoped>\n",
       "    .dataframe tbody tr th:only-of-type {\n",
       "        vertical-align: middle;\n",
       "    }\n",
       "\n",
       "    .dataframe tbody tr th {\n",
       "        vertical-align: top;\n",
       "    }\n",
       "\n",
       "    .dataframe thead th {\n",
       "        text-align: right;\n",
       "    }\n",
       "</style>\n",
       "<table border=\"1\" class=\"dataframe\">\n",
       "  <thead>\n",
       "    <tr style=\"text-align: right;\">\n",
       "      <th></th>\n",
       "    </tr>\n",
       "  </thead>\n",
       "  <tbody>\n",
       "  </tbody>\n",
       "</table>\n",
       "</div>"
      ],
      "text/plain": [
       "Empty DataFrame\n",
       "Columns: []\n",
       "Index: []"
      ]
     },
     "execution_count": 15,
     "metadata": {},
     "output_type": "execute_result"
    }
   ],
   "source": [
    "rawCalibUnityDataDf"
   ]
  },
  {
   "cell_type": "code",
   "execution_count": 12,
   "metadata": {},
   "outputs": [
    {
     "data": {
      "text/plain": [
       "'CalibrationAssessment'"
      ]
     },
     "execution_count": 12,
     "metadata": {},
     "output_type": "execute_result"
    }
   ],
   "source": [
    "trialResults['trialType']"
   ]
  },
  {
   "cell_type": "code",
   "execution_count": null,
   "metadata": {},
   "outputs": [],
   "source": []
  }
 ],
 "metadata": {
  "kernelspec": {
   "display_name": "Python 3",
   "language": "python",
   "name": "python3"
  },
  "language_info": {
   "codemirror_mode": {
    "name": "ipython",
    "version": 3
   },
   "file_extension": ".py",
   "mimetype": "text/x-python",
   "name": "python",
   "nbconvert_exporter": "python",
   "pygments_lexer": "ipython3",
   "version": "3.7.4"
  }
 },
 "nbformat": 4,
 "nbformat_minor": 2
}
