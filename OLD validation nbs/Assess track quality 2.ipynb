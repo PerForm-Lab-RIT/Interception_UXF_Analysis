{
 "cells": [
  {
   "cell_type": "code",
   "execution_count": 1,
   "metadata": {},
   "outputs": [],
   "source": [
    "import sys\n",
    "sys.path.append(\"../Modules/\")\n",
    "sys.path.append(\"../\")\n",
    "import os\n",
    "\n",
    "import pandas as pd\n",
    "import numpy as np\n",
    "import matplotlib.pyplot as plt\n",
    "%matplotlib notebook\n",
    "\n",
    "from configobj import ConfigObj\n",
    "from configobj import flatten_errors\n",
    "from validate import Validator\n",
    "    \n",
    "import logging\n",
    "\n",
    "#fmt = 'logging.Formatter(''%(levelname)s_%(name)s-%(funcName)s(): - %(message)s'\n",
    "fmt = '%(levelname)s_%(name)s-%(funcName)s(): - %(message)s'\n",
    "logging.basicConfig(level=logging.INFO, format=fmt)\n",
    "logger = logging.getLogger(__name__)\n",
    "\n",
    "np.set_printoptions(precision=2)"
   ]
  },
  {
   "cell_type": "code",
   "execution_count": 2,
   "metadata": {},
   "outputs": [],
   "source": [
    "\n",
    "def plotTrackQuality(sessionDictIn, saveFig = True):\n",
    "\n",
    "    calibData = sessionDictIn['calibrationData']\n",
    "    p, ax = plt.subplots(1, 1) #sharey=True)\n",
    "\n",
    "    cList = ['r','g','b']\n",
    "    lineHandles = []\n",
    "\n",
    "    offsets = np.linspace(-.01,.01,3)\n",
    "\n",
    "    # Targets\n",
    "    xx = calibData['targetPos_az']\n",
    "    yy = calibData['targetPos_el']\n",
    "    hT = ax.scatter(xx, yy,s=100)\n",
    "    hT.set_label('target')\n",
    "\n",
    "    x = calibData['gazePos_az']\n",
    "    y = calibData['gazePos_el']\n",
    "    hG = ax.scatter(x, y,s=20,c='r')\n",
    "    hG.set_label('gaze')\n",
    "\n",
    "    #text(x, y, s, fontdict=None, withdash=False, **kwargs)¶\n",
    "    for idx in range(len(calibData)):\n",
    "        xxx = calibData['targetPos_az'].iloc[idx]\n",
    "        yyy = calibData['targetPos_el'].iloc[idx]+1\n",
    "        textStr = '   %1.2f$^\\circ$' %calibData['meanCalibError'][idx]\n",
    "        hErr = ax.text(xxx, yyy, textStr,horizontalalignment='center',size=20)\n",
    "\n",
    "\n",
    "    plt.gcf().set_size_inches(4,4)\n",
    "    ax.axes.set_title('Calibration quality', fontsize=15)\n",
    "    ax.set_ylabel('elevation (degrees)', fontsize=12)\n",
    "    ax.set_xlabel('azimuth (degrees)', fontsize=12)\n",
    "    ax.tick_params(axis='both', which='major', labelsize=12)\n",
    "\n",
    "    ax.set_ylim([-20,20])\n",
    "    ax.set_xlim([-20,20])\n",
    "    ax.axes.yaxis.grid(True)\n",
    "    ax.axes.xaxis.grid(True)\n",
    "    ax.axes.set_axisbelow(True)\n",
    "\n",
    "    plt.rcParams[\"font.family\"] = \"sans-serif\"\n",
    "    p.set_facecolor('w')\n",
    "    \n",
    "    fileName = analysisParameters['fileName']\n",
    "    plt.legend()\n",
    "    if(saveFig == True):\n",
    "        plt.savefig('../calibrationFigs/' + str(fileName) + '.png', facecolor=p.get_facecolor(), transparent=True)\n",
    "\n",
    "    return"
   ]
  },
  {
   "cell_type": "code",
   "execution_count": 12,
   "metadata": {
    "scrolled": false
   },
   "outputs": [
    {
     "name": "stderr",
     "output_type": "stream",
     "text": [
      "INFO_loadDataE1-loadSessionDict(): - Loading preprocessed data for exp_data-2019-4-26-13-4 ***\n"
     ]
    }
   ],
   "source": [
    "from analysisParameters import loadParameters\n",
    "from loadDataE1 import loadSessionDict\n",
    "from processDataE1 import calcCalibrationQuality\n",
    "\n",
    "fileTimeList = [];\n",
    "[fileTimeList.append(name) for name in os.listdir(\"../Data/\") if name[0] is not '.'];\n",
    "\n",
    "subNum = 3\n",
    "\n",
    "analysisParameters = loadParameters(fileTimeList[subNum])\n",
    "sessionDict = loadSessionDict(analysisParameters,\n",
    "                                      loadParsedData = True,\n",
    "                                      loadProcessedData = True)\n",
    "\n",
    "\n"
   ]
  },
  {
   "cell_type": "code",
   "execution_count": 13,
   "metadata": {},
   "outputs": [
    {
     "name": "stderr",
     "output_type": "stream",
     "text": [
      "INFO_loadDataE1-loadSessionDict(): - Loading preprocessed data for exp_data-2019-4-26-13-4 ***\n"
     ]
    }
   ],
   "source": [
    "sessionDict = loadSessionDict(analysisParameters,\n",
    "                              loadParsedData = True,\n",
    "                              loadProcessedData = True,\n",
    "                              doNotProcess=True)"
   ]
  },
  {
   "cell_type": "code",
   "execution_count": 14,
   "metadata": {
    "scrolled": false
   },
   "outputs": [
    {
     "ename": "TypeError",
     "evalue": "Cannot infer number of levels from empty list",
     "output_type": "error",
     "traceback": [
      "\u001b[0;31m---------------------------------------------------------------------------\u001b[0m",
      "\u001b[0;31mTypeError\u001b[0m                                 Traceback (most recent call last)",
      "\u001b[0;32m<ipython-input-14-23751c6b4479>\u001b[0m in \u001b[0;36m<module>\u001b[0;34m()\u001b[0m\n\u001b[0;32m----> 1\u001b[0;31m \u001b[0msessionDict\u001b[0m \u001b[0;34m=\u001b[0m \u001b[0mcalcCalibrationQuality\u001b[0m\u001b[0;34m(\u001b[0m\u001b[0msessionDict\u001b[0m\u001b[0;34m)\u001b[0m\u001b[0;34m\u001b[0m\u001b[0m\n\u001b[0m\u001b[1;32m      2\u001b[0m \u001b[0mplotTrackQuality\u001b[0m\u001b[0;34m(\u001b[0m\u001b[0msessionDict\u001b[0m\u001b[0;34m,\u001b[0m \u001b[0msaveFig\u001b[0m \u001b[0;34m=\u001b[0m \u001b[0mTrue\u001b[0m\u001b[0;34m)\u001b[0m\u001b[0;34m\u001b[0m\u001b[0m\n\u001b[1;32m      3\u001b[0m \u001b[0;34m\u001b[0m\u001b[0m\n\u001b[1;32m      4\u001b[0m \u001b[0;34m\u001b[0m\u001b[0m\n\u001b[1;32m      5\u001b[0m \u001b[0;31m# list(sessionDict['raw'])\u001b[0m\u001b[0;34m\u001b[0m\u001b[0;34m\u001b[0m\u001b[0m\n",
      "\u001b[0;32m/Users/gjdpci/Dropbox/Code/Cathing - IPD/ipd anlaysis-master/Modules/processDataE1.pyc\u001b[0m in \u001b[0;36mcalcCalibrationQuality\u001b[0;34m(sessionDictIn)\u001b[0m\n\u001b[1;32m   1094\u001b[0m \u001b[0;32mdef\u001b[0m \u001b[0mcalcCalibrationQuality\u001b[0m\u001b[0;34m(\u001b[0m\u001b[0msessionDictIn\u001b[0m\u001b[0;34m)\u001b[0m\u001b[0;34m:\u001b[0m\u001b[0;34m\u001b[0m\u001b[0m\n\u001b[1;32m   1095\u001b[0m \u001b[0;34m\u001b[0m\u001b[0m\n\u001b[0;32m-> 1096\u001b[0;31m         \u001b[0msessionDictIn\u001b[0m \u001b[0;34m=\u001b[0m \u001b[0mcalcCalibrationVectors\u001b[0m\u001b[0;34m(\u001b[0m\u001b[0msessionDictIn\u001b[0m\u001b[0;34m)\u001b[0m\u001b[0;34m\u001b[0m\u001b[0m\n\u001b[0m\u001b[1;32m   1097\u001b[0m \u001b[0;34m\u001b[0m\u001b[0m\n\u001b[1;32m   1098\u001b[0m         \u001b[0mcalibDf\u001b[0m \u001b[0;34m=\u001b[0m \u001b[0msessionDictIn\u001b[0m\u001b[0;34m[\u001b[0m\u001b[0;34m'calibration'\u001b[0m\u001b[0;34m]\u001b[0m\u001b[0;34m\u001b[0m\u001b[0m\n",
      "\u001b[0;32m/Users/gjdpci/Dropbox/Code/Cathing - IPD/ipd anlaysis-master/Modules/processDataE1.pyc\u001b[0m in \u001b[0;36mcalcCalibrationVectors\u001b[0;34m(sessionDictIn)\u001b[0m\n\u001b[1;32m   1064\u001b[0m \u001b[0;32mdef\u001b[0m \u001b[0mcalcCalibrationVectors\u001b[0m\u001b[0;34m(\u001b[0m\u001b[0msessionDictIn\u001b[0m\u001b[0;34m)\u001b[0m\u001b[0;34m:\u001b[0m\u001b[0;34m\u001b[0m\u001b[0m\n\u001b[1;32m   1065\u001b[0m \u001b[0;34m\u001b[0m\u001b[0m\n\u001b[0;32m-> 1066\u001b[0;31m         \u001b[0msessionDictIn\u001b[0m \u001b[0;34m=\u001b[0m \u001b[0mcalcTargetDir\u001b[0m\u001b[0;34m(\u001b[0m\u001b[0msessionDictIn\u001b[0m\u001b[0;34m)\u001b[0m\u001b[0;34m\u001b[0m\u001b[0m\n\u001b[0m\u001b[1;32m   1067\u001b[0m         \u001b[0;31m# sessionDictIn = calcCycEIH(sessionDictIn)\u001b[0m\u001b[0;34m\u001b[0m\u001b[0;34m\u001b[0m\u001b[0m\n\u001b[1;32m   1068\u001b[0m         \u001b[0mcalibDf\u001b[0m \u001b[0;34m=\u001b[0m \u001b[0msessionDictIn\u001b[0m\u001b[0;34m[\u001b[0m\u001b[0;34m'calibration'\u001b[0m\u001b[0;34m]\u001b[0m\u001b[0;34m\u001b[0m\u001b[0m\n",
      "\u001b[0;32m/Users/gjdpci/Dropbox/Code/Cathing - IPD/ipd anlaysis-master/Modules/processDataE1.pyc\u001b[0m in \u001b[0;36mcalcTargetDir\u001b[0;34m(sessionDictIn)\u001b[0m\n\u001b[1;32m   1037\u001b[0m         \u001b[0mtargetDir_fr\u001b[0m \u001b[0;34m=\u001b[0m \u001b[0mcalibDf\u001b[0m\u001b[0;34m.\u001b[0m\u001b[0mapply\u001b[0m\u001b[0;34m(\u001b[0m\u001b[0;32mlambda\u001b[0m \u001b[0mrow\u001b[0m\u001b[0;34m:\u001b[0m \u001b[0mcalcTargetDirByRow\u001b[0m\u001b[0;34m(\u001b[0m\u001b[0mrow\u001b[0m\u001b[0;34m)\u001b[0m\u001b[0;34m,\u001b[0m\u001b[0maxis\u001b[0m\u001b[0;34m=\u001b[0m\u001b[0;36m1\u001b[0m\u001b[0;34m)\u001b[0m\u001b[0;34m.\u001b[0m\u001b[0mvalues\u001b[0m\u001b[0;34m\u001b[0m\u001b[0m\n\u001b[1;32m   1038\u001b[0m         \u001b[0mtargetDirDf\u001b[0m \u001b[0;34m=\u001b[0m \u001b[0mpd\u001b[0m\u001b[0;34m.\u001b[0m\u001b[0mDataFrame\u001b[0m\u001b[0;34m.\u001b[0m\u001b[0mfrom_records\u001b[0m\u001b[0;34m(\u001b[0m\u001b[0mtargetDir_fr\u001b[0m\u001b[0;34m)\u001b[0m\u001b[0;34m\u001b[0m\u001b[0m\n\u001b[0;32m-> 1039\u001b[0;31m         \u001b[0mtargetDirDf\u001b[0m\u001b[0;34m.\u001b[0m\u001b[0mcolumns\u001b[0m \u001b[0;34m=\u001b[0m \u001b[0mpd\u001b[0m\u001b[0;34m.\u001b[0m\u001b[0mMultiIndex\u001b[0m\u001b[0;34m.\u001b[0m\u001b[0mfrom_tuples\u001b[0m\u001b[0;34m(\u001b[0m\u001b[0mtargetDirDf\u001b[0m\u001b[0;34m.\u001b[0m\u001b[0mcolumns\u001b[0m\u001b[0;34m)\u001b[0m\u001b[0;34m\u001b[0m\u001b[0m\n\u001b[0m\u001b[1;32m   1040\u001b[0m         \u001b[0;31m#subDataDf = calibDf.combine_first(targetDirDf)\u001b[0m\u001b[0;34m\u001b[0m\u001b[0;34m\u001b[0m\u001b[0m\n\u001b[1;32m   1041\u001b[0m         \u001b[0msessionDictIn\u001b[0m\u001b[0;34m[\u001b[0m\u001b[0;34m'calibration'\u001b[0m\u001b[0;34m]\u001b[0m \u001b[0;34m=\u001b[0m \u001b[0mcalibDf\u001b[0m\u001b[0;34m.\u001b[0m\u001b[0mcombine_first\u001b[0m\u001b[0;34m(\u001b[0m\u001b[0mtargetDirDf\u001b[0m\u001b[0;34m)\u001b[0m\u001b[0;34m\u001b[0m\u001b[0m\n",
      "\u001b[0;32m/opt/anaconda3/envs/Python2/lib/python2.7/site-packages/pandas/core/indexes/multi.pyc\u001b[0m in \u001b[0;36mfrom_tuples\u001b[0;34m(cls, tuples, sortorder, names)\u001b[0m\n\u001b[1;32m    388\u001b[0m             \u001b[0;32mif\u001b[0m \u001b[0mnames\u001b[0m \u001b[0;32mis\u001b[0m \u001b[0mNone\u001b[0m\u001b[0;34m:\u001b[0m\u001b[0;34m\u001b[0m\u001b[0m\n\u001b[1;32m    389\u001b[0m                 \u001b[0mmsg\u001b[0m \u001b[0;34m=\u001b[0m \u001b[0;34m'Cannot infer number of levels from empty list'\u001b[0m\u001b[0;34m\u001b[0m\u001b[0m\n\u001b[0;32m--> 390\u001b[0;31m                 \u001b[0;32mraise\u001b[0m \u001b[0mTypeError\u001b[0m\u001b[0;34m(\u001b[0m\u001b[0mmsg\u001b[0m\u001b[0;34m)\u001b[0m\u001b[0;34m\u001b[0m\u001b[0m\n\u001b[0m\u001b[1;32m    391\u001b[0m             \u001b[0marrays\u001b[0m \u001b[0;34m=\u001b[0m \u001b[0;34m[\u001b[0m\u001b[0;34m[\u001b[0m\u001b[0;34m]\u001b[0m\u001b[0;34m]\u001b[0m \u001b[0;34m*\u001b[0m \u001b[0mlen\u001b[0m\u001b[0;34m(\u001b[0m\u001b[0mnames\u001b[0m\u001b[0;34m)\u001b[0m\u001b[0;34m\u001b[0m\u001b[0m\n\u001b[1;32m    392\u001b[0m         \u001b[0;32melif\u001b[0m \u001b[0misinstance\u001b[0m\u001b[0;34m(\u001b[0m\u001b[0mtuples\u001b[0m\u001b[0;34m,\u001b[0m \u001b[0;34m(\u001b[0m\u001b[0mnp\u001b[0m\u001b[0;34m.\u001b[0m\u001b[0mndarray\u001b[0m\u001b[0;34m,\u001b[0m \u001b[0mIndex\u001b[0m\u001b[0;34m)\u001b[0m\u001b[0;34m)\u001b[0m\u001b[0;34m:\u001b[0m\u001b[0;34m\u001b[0m\u001b[0m\n",
      "\u001b[0;31mTypeError\u001b[0m: Cannot infer number of levels from empty list"
     ]
    }
   ],
   "source": [
    "sessionDict = calcCalibrationQuality(sessionDict)\n",
    "plotTrackQuality(sessionDict, saveFig = True)\n",
    "\n",
    "\n",
    "# list(sessionDict['raw'])"
   ]
  },
  {
   "cell_type": "code",
   "execution_count": null,
   "metadata": {},
   "outputs": [],
   "source": []
  }
 ],
 "metadata": {
  "kernelspec": {
   "display_name": "Python 2",
   "language": "python",
   "name": "python2"
  },
  "language_info": {
   "codemirror_mode": {
    "name": "ipython",
    "version": 2
   },
   "file_extension": ".py",
   "mimetype": "text/x-python",
   "name": "python",
   "nbconvert_exporter": "python",
   "pygments_lexer": "ipython2",
   "version": "2.7.17"
  }
 },
 "nbformat": 4,
 "nbformat_minor": 2
}
