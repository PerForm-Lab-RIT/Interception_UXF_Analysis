{
 "cells": [
  {
   "cell_type": "code",
   "execution_count": 1,
   "metadata": {},
   "outputs": [
    {
     "name": "stdout",
     "output_type": "stream",
     "text": [
      "CWD:/Users/gjdpci/Dropbox/Code/Catching - IPD/expansion analysis - UXF 1/Interception_UXF_Analysis\n"
     ]
    }
   ],
   "source": [
    "# This cell sets the CWD to the parent directory.  \n",
    "# If you run this more than once, it will cause problems!\n",
    "\n",
    "import os\n",
    "wd = os.getcwd()\n",
    "os.chdir('/'.join(wd.split('/')[:-1])+'/'  )\n",
    "print(\"CWD:\" + os.getcwd())"
   ]
  },
  {
   "cell_type": "code",
   "execution_count": 2,
   "metadata": {},
   "outputs": [
    {
     "name": "stdout",
     "output_type": "stream",
     "text": [
      "CWD:/Users/gjdpci/Dropbox/Code/Catching - IPD/expansion analysis - UXF 1/Interception_UXF_Analysis\n"
     ]
    }
   ],
   "source": [
    "import sys\n",
    "\n",
    "sys.path.append(\"Modules/\")\n",
    "sys.path.append(\"/\")\n",
    "\n",
    "import logging\n",
    "import pickle\n",
    "import numpy as np\n",
    "import pandas as pd\n",
    "\n",
    "fmt = '%(levelname)s_%(name)s-%(funcName)s(): - %(message)s'\n",
    "logging.basicConfig(level=logging.INFO, format=fmt)\n",
    "logger = logging.getLogger(__name__)\n",
    "\n",
    "from loadData import unpackSession\n",
    "\n",
    "sys.path.append(\"pyFiles/\")\n",
    "from processData import *"
   ]
  },
  {
   "cell_type": "markdown",
   "metadata": {},
   "source": [
    "Parse subject data into sessionDict\n",
    "Note that no additional processing has been done (doNotProcess = True)"
   ]
  },
  {
   "cell_type": "code",
   "execution_count": 3,
   "metadata": {},
   "outputs": [],
   "source": [
    "subNum = 0"
   ]
  },
  {
   "cell_type": "code",
   "execution_count": 4,
   "metadata": {},
   "outputs": [
    {
     "name": "stderr",
     "output_type": "stream",
     "text": [
      "INFO_loadData-unpackSession(): - Processing session: Data/P_201218121321_sub1\n",
      "INFO_loadData-unpackSession(): - Importing session dict from pickle.\n"
     ]
    },
    {
     "name": "stdout",
     "output_type": "stream",
     "text": [
      "***> 0: P_201218121321_sub1\n",
      "1: P_200917094202\n"
     ]
    }
   ],
   "source": [
    "# rawDataDF = False\n",
    "# calibDF = False\n",
    "\n",
    "# ### Load dataframes\n",
    "# Remember to set loadParsedData, loadProcessedData.\n",
    "\n",
    "dataFolderList = [];\n",
    "[dataFolderList.append(name) for name in os.listdir(\"Data/\") if name[0] is not '.']\n",
    "dataFolderList\n",
    "\n",
    "sessionDict = unpackSession(subNum)\n",
    "\n",
    "\n",
    "# sessionDict = unpackSession(subNum, doNotLoad = False)"
   ]
  },
  {
   "cell_type": "markdown",
   "metadata": {},
   "source": [
    "### Process the data"
   ]
  },
  {
   "cell_type": "code",
   "execution_count": 5,
   "metadata": {},
   "outputs": [
    {
     "ename": "ModuleNotFoundError",
     "evalue": "No module named 'processDataE1'",
     "output_type": "error",
     "traceback": [
      "\u001b[0;31m---------------------------------------------------------------------------\u001b[0m",
      "\u001b[0;31mModuleNotFoundError\u001b[0m                       Traceback (most recent call last)",
      "\u001b[0;32m<ipython-input-5-336498332a5b>\u001b[0m in \u001b[0;36m<module>\u001b[0;34m\u001b[0m\n\u001b[0;32m----> 1\u001b[0;31m \u001b[0;32mfrom\u001b[0m \u001b[0mprocessDataE1\u001b[0m \u001b[0;32mimport\u001b[0m \u001b[0;34m*\u001b[0m\u001b[0;34m\u001b[0m\u001b[0;34m\u001b[0m\u001b[0m\n\u001b[0m\u001b[1;32m      2\u001b[0m \u001b[0;34m\u001b[0m\u001b[0m\n\u001b[1;32m      3\u001b[0m \u001b[0msessionDict\u001b[0m\u001b[0;34m[\u001b[0m\u001b[0;34m'trialInfo'\u001b[0m\u001b[0;34m]\u001b[0m \u001b[0;34m=\u001b[0m \u001b[0msessionDict\u001b[0m\u001b[0;34m[\u001b[0m\u001b[0;34m'trialInfo'\u001b[0m\u001b[0;34m]\u001b[0m\u001b[0;34m.\u001b[0m\u001b[0msort_values\u001b[0m\u001b[0;34m(\u001b[0m\u001b[0;34m[\u001b[0m\u001b[0;34m'blockNumber'\u001b[0m\u001b[0;34m,\u001b[0m\u001b[0;34m'trialNumber'\u001b[0m\u001b[0;34m]\u001b[0m\u001b[0;34m)\u001b[0m\u001b[0;34m\u001b[0m\u001b[0;34m\u001b[0m\u001b[0m\n\u001b[1;32m      4\u001b[0m \u001b[0msessionDict\u001b[0m\u001b[0;34m[\u001b[0m\u001b[0;34m'trialInfo'\u001b[0m\u001b[0;34m]\u001b[0m\u001b[0;34m[\u001b[0m\u001b[0;34m'fileName'\u001b[0m\u001b[0;34m]\u001b[0m \u001b[0;34m=\u001b[0m \u001b[0manalysisParameters\u001b[0m\u001b[0;34m[\u001b[0m\u001b[0;34m'fileName'\u001b[0m\u001b[0;34m]\u001b[0m\u001b[0;34m\u001b[0m\u001b[0;34m\u001b[0m\u001b[0m\n",
      "\u001b[0;31mModuleNotFoundError\u001b[0m: No module named 'processDataE1'"
     ]
    }
   ],
   "source": [
    "from processDataE1 import *\n",
    "\n",
    "sessionDict['trialInfo'] = sessionDict['trialInfo'].sort_values(['blockNumber','trialNumber'])\n",
    "sessionDict['trialInfo']['fileName'] = analysisParameters['fileName']"
   ]
  },
  {
   "cell_type": "code",
   "execution_count": null,
   "metadata": {},
   "outputs": [],
   "source": [
    "sessionDict['trialInfo'] = sessionDict['trialInfo'].sort_values(['blockNumber','trialNumber'])\n",
    "sessionDict['trialInfo']['fileName'] = analysisParameters['fileName']\n",
    "\n",
    "sessionDict = calcCatchingPlane(sessionDict)\n",
    "sessionDict = findLastFrame(sessionDict)\n",
    "sessionDict = calcCatchingError(sessionDict)\n",
    "\n",
    "sessionDict = gazeAnalysisWindow(sessionDict)\n",
    "sessionDict = calcCycEIH(sessionDict)\n",
    "\n",
    "# sessionDict = calcGIW(sessionDict)\n",
    "# sessionDict = calcCycToBallVector(sessionDict)\n",
    "# sessionDict = calcBallAngularSize(sessionDict)\n",
    "# sessionDict = calcSphericalcoordinates(sessionDict)\n",
    "# sessionDict = calcTrackingError(sessionDict)\n",
    "# sessionDict = calcTTA(sessionDict)\n",
    "# sessionDict = calcSMIDeltaT(sessionDict)\n",
    "# sessionDict = filterAndDiffSignals(sessionDict,analysisParameters)\n",
    "# sessionDict = vectorMovementModel(sessionDict,analysisParameters)\n",
    "# # sessionDict = calcCalibrationQuality(sessionDict,analysisParameters)\n",
    "\n",
    "# sessionDict = setIpdRatioAndPassingLoc(sessionDict)\n",
    "\n",
    "# # pd.to_pickle(sessionDict, analysisParameters['filePath'] + analysisParameters['fileName'] + '-proc.pickle')\n",
    "# # logger.info('Processed data saved to ' + analysisParameters['filePath'] + analysisParameters['fileName'] + '-proc.pickle')\n"
   ]
  },
  {
   "cell_type": "code",
   "execution_count": null,
   "metadata": {
    "scrolled": false
   },
   "outputs": [],
   "source": [
    "list(sessionDict['processed'])"
   ]
  },
  {
   "cell_type": "code",
   "execution_count": null,
   "metadata": {},
   "outputs": [],
   "source": [
    "sessionDict['processed']['cycEyeInHead']"
   ]
  }
 ],
 "metadata": {
  "kernelspec": {
   "display_name": "Python 3",
   "language": "python",
   "name": "python3"
  },
  "language_info": {
   "codemirror_mode": {
    "name": "ipython",
    "version": 3
   },
   "file_extension": ".py",
   "mimetype": "text/x-python",
   "name": "python",
   "nbconvert_exporter": "python",
   "pygments_lexer": "ipython3",
   "version": "3.7.4"
  }
 },
 "nbformat": 4,
 "nbformat_minor": 2
}
