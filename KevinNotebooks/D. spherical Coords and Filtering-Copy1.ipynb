{
 "cells": [
  {
   "cell_type": "code",
   "execution_count": 1,
   "id": "warming-employee",
   "metadata": {},
   "outputs": [
    {
     "name": "stdout",
     "output_type": "stream",
     "text": [
      "CWD:/Users/gjdpci/Dropbox/Code/Catching - IPD/expansion analysis - UXF 1/Interception_UXF_Analysis\n"
     ]
    }
   ],
   "source": [
    "# Set CWD to correct directory\n",
    "# Do not run more than once\n",
    "\n",
    "import os\n",
    "# wd = \"C:/Users/lilba/Documents/COLLEGE/RIT Research/Interception_UXF_Analysis-CalibAssessment/Modules\"\n",
    "wd = os.getcwd()\n",
    "os.chdir('/'.join(wd.split('/')[:-1])+'/')\n",
    "print('CWD:'+os.getcwd())"
   ]
  },
  {
   "cell_type": "code",
   "execution_count": 2,
   "id": "lovely-pantyhose",
   "metadata": {
    "scrolled": true
   },
   "outputs": [],
   "source": [
    "import sys\n",
    "\n",
    "sys.path.append(\"Modules/\")\n",
    "sys.path.append(\"/\")\n",
    "\n",
    "\n",
    "import logging\n",
    "import pickle\n",
    "import numpy as np\n",
    "import pandas as pd\n",
    "\n",
    "\n",
    "fmt = '%(levelname)s_%(name)s-%(funcName)s(): - %(message)s'\n",
    "logging.basicConfig(level=logging.INFO, format=fmt)\n",
    "logger = logging.getLogger(__name__)\n",
    "\n",
    "from loadData import unpackSession\n",
    "\n",
    "# sys.path.append(\"pyFiles/\")\n",
    "# from processData import *"
   ]
  },
  {
   "cell_type": "markdown",
   "id": "national-accuracy",
   "metadata": {},
   "source": [
    "## Import raw subject data (slow) or previously imported data from file (fast)\n",
    "**Set doNotLoad to False to check if pickle file exists and quickly load it instead of slowly generating new data.**"
   ]
  },
  {
   "cell_type": "code",
   "execution_count": 3,
   "id": "statutory-athletics",
   "metadata": {},
   "outputs": [
    {
     "name": "stderr",
     "output_type": "stream",
     "text": [
      "INFO_loadData-unpackSession(): - Processing session: Data/P_201218121321_sub1\n",
      "INFO_loadData-unpackSession(): - Importing session dict from pickle.\n"
     ]
    },
    {
     "name": "stdout",
     "output_type": "stream",
     "text": [
      "***> 0: P_201218121321_sub1\n",
      "1: P_201218121321_sub1c\n",
      "2: P_201218121321_sub1.zip\n",
      "3: P_201218121321_sub1b\n",
      "4: P_200917094202\n",
      "5: P_201219105516\n"
     ]
    }
   ],
   "source": [
    "doNotLoad = False\n",
    "subNum = 0\n",
    "sessionDict = unpackSession(subNum, doNotLoad=doNotLoad)"
   ]
  },
  {
   "cell_type": "code",
   "execution_count": 4,
   "id": "balanced-animation",
   "metadata": {},
   "outputs": [
    {
     "data": {
      "text/plain": [
       "['subID',\n",
       " 'trialInfo',\n",
       " 'expConfig',\n",
       " 'rawExpUnity',\n",
       " 'rawExpGaze',\n",
       " 'processedExp',\n",
       " 'rawCalibUnity',\n",
       " 'rawCalibGaze',\n",
       " 'processedCalib',\n",
       " 'analysisParameters']"
      ]
     },
     "execution_count": 4,
     "metadata": {},
     "output_type": "execute_result"
    }
   ],
   "source": [
    "list(sessionDict.keys())"
   ]
  },
  {
   "cell_type": "code",
   "execution_count": 5,
   "id": "federal-differential",
   "metadata": {},
   "outputs": [
    {
     "data": {
      "text/plain": [
       "MultiIndex([(                               'ballFinalPos', 'x'),\n",
       "            (                               'ballFinalPos', 'y'),\n",
       "            (                               'ballFinalPos', 'z'),\n",
       "            (                             'ballInitialPos', 'x'),\n",
       "            (                             'ballInitialPos', 'y'),\n",
       "            (                             'ballInitialPos', 'z'),\n",
       "            (                             'ballInitialVel', 'x'),\n",
       "            (                             'ballInitialVel', 'y'),\n",
       "            (                             'ballInitialVel', 'z'),\n",
       "            (                                'blockNumber',  ''),\n",
       "            (                   'camera_movement_filename',  ''),\n",
       "            (                         'contactLocOnPaddle', 'x'),\n",
       "            (                         'contactLocOnPaddle', 'y'),\n",
       "            (                         'contactLocOnPaddle', 'z'),\n",
       "            (                          'contactLocinWorld', 'x'),\n",
       "            (                          'contactLocinWorld', 'y'),\n",
       "            (                          'contactLocinWorld', 'z'),\n",
       "            (                                  'directory',  ''),\n",
       "            (                                    'endTime',  ''),\n",
       "            ('etassessment_calibrationAssessment_filename',  ''),\n",
       "            (                                 'experiment',  ''),\n",
       "            (                                  'eyeHeight',  ''),\n",
       "            (                   'gazeTargetPositionInHead', 'x'),\n",
       "            (                   'gazeTargetPositionInHead', 'y'),\n",
       "            (                   'gazeTargetPositionInHead', 'z'),\n",
       "            (                                  'isCaughtQ',  ''),\n",
       "            (                               'isLeftHanded',  ''),\n",
       "            (                                   'maxReach',  ''),\n",
       "            (                    'noExpansionLastXSeconds',  ''),\n",
       "            (                   'paddle_movement_filename',  ''),\n",
       "            (                                       'ppid',  ''),\n",
       "            (              'pupil_pupilTimeStamp_filename',  ''),\n",
       "            (                              'sessionNumber',  ''),\n",
       "            (                                  'startTime',  ''),\n",
       "            (                              'timeOfContact',  ''),\n",
       "            (                                'trialNumber',  ''),\n",
       "            (                         'trialNumberInBlock',  ''),\n",
       "            (                                  'trialType',  '')],\n",
       "           )"
      ]
     },
     "execution_count": 5,
     "metadata": {},
     "output_type": "execute_result"
    }
   ],
   "source": [
    "sessionDict['trialInfo'].keys()"
   ]
  },
  {
   "cell_type": "code",
   "execution_count": 6,
   "id": "under-vessel",
   "metadata": {},
   "outputs": [
    {
     "name": "stdout",
     "output_type": "stream",
     "text": [
      "Total trials:  86\n"
     ]
    }
   ],
   "source": [
    "numTrials = len(sessionDict['trialInfo'])\n",
    "trials = range(numTrials)\n",
    "print('Total trials: ', numTrials)"
   ]
  },
  {
   "cell_type": "code",
   "execution_count": 7,
   "id": "smoking-reflection",
   "metadata": {},
   "outputs": [
    {
     "name": "stdout",
     "output_type": "stream",
     "text": [
      "Trial number: 1 \n",
      "Trial type: ['CalibrationAssessment']\n"
     ]
    }
   ],
   "source": [
    "aTrialsInfo = sessionDict['trialInfo'].loc[trials[0]]\n",
    "print('Trial number: {tNum} \\nTrial type: {tType}'.format(tNum = int(aTrialsInfo['trialNumber']),\n",
    "                                                   tType = str(aTrialsInfo['trialType'].values)))"
   ]
  },
  {
   "cell_type": "code",
   "execution_count": 8,
   "id": "genuine-litigation",
   "metadata": {},
   "outputs": [
    {
     "data": {
      "text/plain": [
       "dict_keys([1, 2, 3, 4, 5, 6, 7, 8, 9, 10, 11, 12, 13, 14, 15, 16, 17, 18, 19, 20, 21, 22, 23, 24, 25, 26, 27, 28, 29, 30, 31, 32, 33, 34, 35, 36, 37, 38, 39, 40, 41, 42, 43, 44, 45, 46, 47, 48, 49, 50, 51, 52, 53, 54, 55, 56, 57, 58, 59, 60, 61, 62, 63, 64, 65, 66, 67, 68, 69, 70, 71, 72, 73, 74, 75, 76, 77, 78, 79, 80, 81, 82, 83, 84, 85, 86])"
      ]
     },
     "execution_count": 8,
     "metadata": {},
     "output_type": "execute_result"
    }
   ],
   "source": [
    "gbProcessedCalib_trial = sessionDict['processedCalib'].groupby(['trialNumber'])\n",
    "gbProcessedCalib_trial.groups.keys()"
   ]
  },
  {
   "cell_type": "code",
   "execution_count": 9,
   "id": "incoming-attendance",
   "metadata": {},
   "outputs": [
    {
     "data": {
      "text/plain": [
       "MultiIndex([(         'azimuthWidth',     ''),\n",
       "            (            'base_data',     ''),\n",
       "            (          'blockNumber',     ''),\n",
       "            (               'camera', 'R0C0'),\n",
       "            (               'camera', 'R0C1'),\n",
       "            (               'camera', 'R0C2'),\n",
       "            (               'camera', 'R0C3'),\n",
       "            (               'camera', 'R1C0'),\n",
       "            (               'camera', 'R1C1'),\n",
       "            (               'camera', 'R1C2'),\n",
       "            (               'camera', 'R1C3'),\n",
       "            (               'camera', 'R2C0'),\n",
       "            (               'camera', 'R2C1'),\n",
       "            (               'camera', 'R2C2'),\n",
       "            (               'camera', 'R2C3'),\n",
       "            (               'camera', 'R3C0'),\n",
       "            (               'camera', 'R3C1'),\n",
       "            (               'camera', 'R3C2'),\n",
       "            (               'camera', 'R3C3'),\n",
       "            (            'cameraPos',    'x'),\n",
       "            (            'cameraPos',    'y'),\n",
       "            (            'cameraPos',    'z'),\n",
       "            (            'cameraRot',    'x'),\n",
       "            (            'cameraRot',    'y'),\n",
       "            (            'cameraRot',    'z'),\n",
       "            (           'confidence',     ''),\n",
       "            (    'currentTargetName',     ''),\n",
       "            (      'elevationHeight',     ''),\n",
       "            (       'eye-center0-3d',    'x'),\n",
       "            (       'eye-center0-3d',    'y'),\n",
       "            (       'eye-center0-3d',    'z'),\n",
       "            (       'eye-center1-3d',    'x'),\n",
       "            (       'eye-center1-3d',    'y'),\n",
       "            (       'eye-center1-3d',    'z'),\n",
       "            (         'fixationTime',     ''),\n",
       "            (            'frameTime',     ''),\n",
       "            (         'gaze-normal0',    'x'),\n",
       "            (         'gaze-normal0',    'y'),\n",
       "            (         'gaze-normal0',    'z'),\n",
       "            (         'gaze-normal1',    'x'),\n",
       "            (         'gaze-normal1',    'y'),\n",
       "            (         'gaze-normal1',    'z'),\n",
       "            (        'gaze-point-3d',    'x'),\n",
       "            (        'gaze-point-3d',    'y'),\n",
       "            (        'gaze-point-3d',    'z'),\n",
       "            (                'index',     ''),\n",
       "            (          'isHeadFixed',     ''),\n",
       "            (             'norm-pos',    'x'),\n",
       "            (             'norm-pos',    'y'),\n",
       "            (       'pupilTimestamp',     ''),\n",
       "            (        'targeLocalPos',    'x'),\n",
       "            (        'targeLocalPos',    'y'),\n",
       "            (        'targeLocalPos',    'z'),\n",
       "            (       'targetDistance',     ''),\n",
       "            (            'targetPos',    'x'),\n",
       "            (            'targetPos',    'y'),\n",
       "            (            'targetPos',    'z'),\n",
       "            ('targetRadiusInDegrees',     ''),\n",
       "            (          'trialNumber',     ''),\n",
       "            (          'world_index',     '')],\n",
       "           )"
      ]
     },
     "execution_count": 9,
     "metadata": {},
     "output_type": "execute_result"
    }
   ],
   "source": [
    "gbCurrGroup = gbProcessedCalib_trial.get_group(trials[0]+1)  # Add 1 to convert from zero-based to one-based index\n",
    "gbCurrGroup.keys()"
   ]
  },
  {
   "cell_type": "code",
   "execution_count": null,
   "metadata": {},
   "outputs": [],
   "source": []
  },
  {
   "cell_type": "markdown",
   "id": "seeing-christian",
   "metadata": {},
   "source": [
    "# Create graphs for azimuth and elevation, comparing against local target\n",
    "* Separated by trial number\n",
    "* Axis range is set at the top"
   ]
  },
  {
   "cell_type": "markdown",
   "metadata": {},
   "source": [
    "# Calc cyclopean \n",
    "\n",
    "sessionDict['processedCalib']['cycEIH']\n",
    "\n",
    "sessionDict['processedCalib']['cycEIH_el']\n",
    "\n",
    "sessionDict['processedCalib']['cycEIH_az']"
   ]
  },
  {
   "cell_type": "code",
   "execution_count": 10,
   "metadata": {},
   "outputs": [
    {
     "name": "stderr",
     "output_type": "stream",
     "text": [
      "/Users/gjdpci/.local/lib/python3.7/site-packages/ipykernel_launcher.py:3: RuntimeWarning: Mean of empty slice\n",
      "  This is separate from the ipykernel package so we can avoid doing imports until\n",
      "/Users/gjdpci/.local/lib/python3.7/site-packages/ipykernel_launcher.py:10: RuntimeWarning: invalid value encountered in true_divide\n",
      "  # Remove the CWD from sys.path while we load stuff.\n",
      "INFO___main__-calcCycEIH(): - Added sessionDict['processedCalib']['cycEIH']\n",
      "INFO___main__-calcCycEIH(): - Added sessionDict['processedCalib']['cycEIH_az']\n",
      "INFO___main__-calcCycEIH(): - Added sessionDict['processedCalib']['cycEIH_el']\n"
     ]
    }
   ],
   "source": [
    "def calcCycEIH(sessionDictIn):\n",
    "    \n",
    "    gazeNormal2 = np.nanmean([sessionDictIn['processedCalib']['gaze-normal0'],sessionDictIn['processedCalib']['gaze-normal1']],axis=0)\n",
    "\n",
    "    sessionDictIn['processedCalib'][('cycEIH','x')] = gazeNormal2[:,0]\n",
    "    sessionDictIn['processedCalib'][('cycEIH','y')] = gazeNormal2[:,1]\n",
    "    sessionDictIn['processedCalib'][('cycEIH','z')] = gazeNormal2[:,2]\n",
    "\n",
    "    # Normalize!\n",
    "    sessionDictIn['processedCalib']['cycEIH'] = np.array([np.divide(XYZ,np.linalg.norm(XYZ)) for XYZ in sessionDict['processedCalib']['cycEIH'].values],dtype=np.float)\n",
    "    \n",
    "    # While we're at it, let's calc spherical coordinates az / el\n",
    "    sessionDictIn['processedCalib']['cycEIH_el'] = sessionDictIn['processedCalib'].apply(lambda row: np.rad2deg(np.arctan2(row[('cycEIH','y')],row[('cycEIH','z')])),axis=1)\n",
    "    sessionDictIn['processedCalib']['cycEIH_az'] = sessionDictIn['processedCalib'].apply(lambda row: np.rad2deg(np.arctan2(row[('cycEIH','x')],row[('cycEIH','z')])),axis=1)\n",
    "    \n",
    "    logger.info('Added sessionDict[\\'processedCalib\\'][\\'cycEIH\\']')\n",
    "    logger.info('Added sessionDict[\\'processedCalib\\'][\\'cycEIH_az\\']')\n",
    "    logger.info('Added sessionDict[\\'processedCalib\\'][\\'cycEIH_el\\']')\n",
    "    \n",
    "    return sessionDictIn\n",
    "\n",
    "sessionDict = calcCycEIH(sessionDict)\n"
   ]
  },
  {
   "cell_type": "markdown",
   "metadata": {},
   "source": [
    "# Filter data"
   ]
  },
  {
   "cell_type": "code",
   "execution_count": 11,
   "metadata": {},
   "outputs": [
    {
     "name": "stderr",
     "output_type": "stream",
     "text": [
      "INFO___main__-filterEIH(): - Added sessionDict['processedCalib']['cycEIHFilt_az']\n",
      "INFO___main__-filterEIH(): - Added sessionDict['processedCalib']['cycEIHFilt_el']\n"
     ]
    }
   ],
   "source": [
    "\n",
    "def filterEIH(sessionDict):\n",
    "\n",
    "    sgWinSizeSamples = sessionDict['analysisParameters']['sgWinSizeSamples']\n",
    "    sgPolyorder = sessionDict['analysisParameters']['sgPolyorder']\n",
    "    medFiltSize = sessionDict['analysisParameters']['medFiltSize']\n",
    "    interpResS = sessionDict['analysisParameters']['interpResS']\n",
    "    sgWinSizeSamples = sessionDict['analysisParameters']['sgWinSizeSamples']\n",
    "\n",
    "    from scipy.signal import savgol_filter\n",
    "\n",
    "    # FIlter\n",
    "    proc = sessionDict['processedCalib']\n",
    "\n",
    "    # get ∆T per frame\n",
    "    frameDur = np.float(proc['frameTime'].diff().mode()[0])\n",
    "    \n",
    "    # Median filter to remove outliers\n",
    "    proc['cycEIHFilt_az'] = proc['cycEIH_az'].rolling(medFiltSize).median()\n",
    "    proc['cycEIHFilt_el'] = proc['cycEIH_el'].rolling(medFiltSize).median()\n",
    "\n",
    "    # Fill in empty values / nans\n",
    "    proc['cycEIHFilt_az'] = proc['cycEIH_az'].fillna(0)\n",
    "    proc['cycEIHFilt_el'] = proc['cycEIH_el'].fillna(0)\n",
    "\n",
    "    # Savitsky-Golay filter for smoothing\n",
    "    proc['cycEIHFilt_az'] = savgol_filter(proc['cycEIHFilt_az'],\n",
    "                                                        sgWinSizeSamples,\n",
    "                                                        sgPolyorder,\n",
    "                                                        deriv=0,\n",
    "                                                        delta = frameDur,\n",
    "                                                        axis=0,\n",
    "                                                        mode='interp')\n",
    "\n",
    "    proc['cycGIWFilt_el'] = savgol_filter(proc['cycEIHFilt_el'],\n",
    "                                                        sgWinSizeSamples,\n",
    "                                                        sgPolyorder,\n",
    "                                                        deriv=0,\n",
    "                                                        delta = frameDur,\n",
    "                                                        axis=0,\n",
    "                                                        mode='interp')\n",
    "\n",
    "    sessionDict['processedCalib'] = proc\n",
    "    \n",
    "    logger.info('Added sessionDict[\\'processedCalib\\'][\\'cycEIHFilt_az\\']')\n",
    "    logger.info('Added sessionDict[\\'processedCalib\\'][\\'cycEIHFilt_el\\']')\n",
    "\n",
    "    return sessionDict\n",
    "\n",
    "sessionDict = filterEIH(sessionDict)"
   ]
  },
  {
   "cell_type": "markdown",
   "metadata": {},
   "source": [
    "# Compare raw and filtered signal for a trial"
   ]
  },
  {
   "cell_type": "code",
   "execution_count": 12,
   "metadata": {},
   "outputs": [],
   "source": [
    "%matplotlib widget\n",
    "# %matplotlib inline"
   ]
  },
  {
   "cell_type": "code",
   "execution_count": 55,
   "metadata": {},
   "outputs": [
    {
     "data": {
      "application/vnd.jupyter.widget-view+json": {
       "model_id": "3865fe1549ac4278b2b73efb1b4d484e",
       "version_major": 2,
       "version_minor": 0
      },
      "text/plain": [
       "Canvas(toolbar=Toolbar(toolitems=[('Home', 'Reset original view', 'home', 'home'), ('Back', 'Back to previous …"
      ]
     },
     "metadata": {},
     "output_type": "display_data"
    },
    {
     "data": {
      "text/plain": [
       "<matplotlib.legend.Legend at 0x7fa201198fd0>"
      ]
     },
     "execution_count": 55,
     "metadata": {},
     "output_type": "execute_result"
    }
   ],
   "source": [
    "import matplotlib.pyplot as plt\n",
    "\n",
    "\n",
    "tNum = 84 # Trial to plot\n",
    "yRange = 30 # +/- y degrees\n",
    "xRange_minMax = [0,1] # [min, max] seconds\n",
    "\n",
    "gbProcessedCalib_trial = sessionDict['processedCalib'].groupby(['trialNumber'])\n",
    "trData = gbProcessedCalib_trial.get_group(tNum)\n",
    "\n",
    "timestamps = trData['pupilTimestamp'] - trData['pupilTimestamp'].iloc[0]\n",
    "\n",
    "p = plt.figure(figsize=(15, 10))\n",
    "plt.style.use('ggplot')\n",
    "\n",
    "grid = plt.GridSpec(2, 2)#, wspace=0.4, hspace=0.3)\n",
    "ax = p.add_subplot(grid[:2,:2])\n",
    "# ax2 = p.add_subplot(grid[:2,:2])\n",
    "\n",
    "# ax.plot(timestamps,trData['cycEIH_az'],color='c',linewidth=3,alpha = 1.0,linestyle=':',label='raw az')\n",
    "\n",
    "ax.scatter(timestamps,trData['cycEIH_az'],s=20,color='c',alpha = 1.0,linestyle=':',label='raw az')\n",
    "ax.plot(timestamps,trData['cycEIHFilt_az'],linestyle='-',color='k',linewidth=2,alpha = 0.2,label='filt az')\n",
    "ax.scatter(timestamps,trData['cycEIHFilt_az'],s=20,color='k',linewidth=2,alpha = 0.2)\n",
    "\n",
    "ax.plot(timestamps,trData['cycEIH_el'],color='b',linewidth=3,alpha = 1.0,linestyle=':',label='raw el')\n",
    "ax.plot(timestamps,trData['cycEIHFilt_el'],linestyle='-',color='g',linewidth=2,alpha = 0.2,label='filt az')\n",
    "ax.scatter(timestamps,trData['cycEIHFilt_el'],s=20,color='g',linewidth=2,alpha = 0.2)\n",
    "\n",
    "ax.set_xlabel('time (seconds)')\n",
    "ax.set_xlim(-xRange_minMax[0], xRange_minMax[1])\n",
    "\n",
    "ax.set_ylabel('degrees')\n",
    "ax.set_ylim(-yRange, yRange)\n",
    "\n",
    "\n",
    "ax.legend(loc= 'upper left')\n",
    "\n",
    "# fig.figure.savefig('Output/'+str(trialRowIdx+1)+\"_azimuth.png\")\n",
    "# plt.pyplot.close(fig.figure)\n"
   ]
  }
 ],
 "metadata": {
  "kernelspec": {
   "display_name": "Python 3",
   "language": "python",
   "name": "python3"
  },
  "language_info": {
   "codemirror_mode": {
    "name": "ipython",
    "version": 3
   },
   "file_extension": ".py",
   "mimetype": "text/x-python",
   "name": "python",
   "nbconvert_exporter": "python",
   "pygments_lexer": "ipython3",
   "version": "3.7.4"
  }
 },
 "nbformat": 4,
 "nbformat_minor": 5
}
