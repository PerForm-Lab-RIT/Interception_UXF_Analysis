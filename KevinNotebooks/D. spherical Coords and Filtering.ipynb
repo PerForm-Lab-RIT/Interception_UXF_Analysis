{
 "cells": [
  {
   "cell_type": "code",
   "execution_count": 1,
   "id": "warming-employee",
   "metadata": {},
   "outputs": [
    {
     "name": "stdout",
     "output_type": "stream",
     "text": [
      "CWD:/Users/gjdpci/Dropbox/Code/Catching - IPD/expansion analysis - UXF 1/Interception_UXF_Analysis\n"
     ]
    }
   ],
   "source": [
    "# Set CWD to correct directory\n",
    "# Do not run more than once\n",
    "\n",
    "import os\n",
    "# wd = \"C:/Users/lilba/Documents/COLLEGE/RIT Research/Interception_UXF_Analysis-CalibAssessment/Modules\"\n",
    "wd = os.getcwd()\n",
    "os.chdir('/'.join(wd.split('/')[:-1])+'/')\n",
    "print('CWD:'+os.getcwd())"
   ]
  },
  {
   "cell_type": "code",
   "execution_count": 2,
   "id": "lovely-pantyhose",
   "metadata": {
    "scrolled": true
   },
   "outputs": [],
   "source": [
    "import sys\n",
    "\n",
    "sys.path.append(\"Modules/\")\n",
    "sys.path.append(\"/\")\n",
    "\n",
    "\n",
    "import logging\n",
    "import pickle\n",
    "import numpy as np\n",
    "import pandas as pd\n",
    "\n",
    "\n",
    "fmt = '%(levelname)s_%(name)s-%(funcName)s(): - %(message)s'\n",
    "logging.basicConfig(level=logging.INFO, format=fmt)\n",
    "logger = logging.getLogger(__name__)\n",
    "\n",
    "from loadData import unpackSession\n",
    "\n",
    "# sys.path.append(\"pyFiles/\")\n",
    "# from processData import *"
   ]
  },
  {
   "cell_type": "markdown",
   "id": "national-accuracy",
   "metadata": {},
   "source": [
    "## Import raw subject data (slow) or previously imported data from file (fast)\n",
    "**Set doNotLoad to False to check if pickle file exists and quickly load it instead of slowly generating new data.**"
   ]
  },
  {
   "cell_type": "code",
   "execution_count": 3,
   "id": "statutory-athletics",
   "metadata": {},
   "outputs": [
    {
     "name": "stderr",
     "output_type": "stream",
     "text": [
      "INFO_loadData-unpackSession(): - Processing session: Data/P_201218121321_sub1\n",
      "INFO_loadData-unpackSession(): - Importing session dict from pickle.\n"
     ]
    },
    {
     "name": "stdout",
     "output_type": "stream",
     "text": [
      "***> 0: P_201218121321_sub1\n",
      "1: P_201218121321_sub1c\n",
      "2: P_201218121321_sub1.zip\n",
      "3: P_201218121321_sub1b\n",
      "4: P_200917094202\n",
      "5: P_201219105516\n"
     ]
    }
   ],
   "source": [
    "doNotLoad = False\n",
    "subNum = 0\n",
    "sessionDict = unpackSession(subNum, doNotLoad=doNotLoad)"
   ]
  },
  {
   "cell_type": "code",
   "execution_count": 4,
   "id": "balanced-animation",
   "metadata": {},
   "outputs": [
    {
     "data": {
      "text/plain": [
       "['subID',\n",
       " 'trialInfo',\n",
       " 'expConfig',\n",
       " 'rawExpUnity',\n",
       " 'rawExpGaze',\n",
       " 'processedExp',\n",
       " 'rawCalibUnity',\n",
       " 'rawCalibGaze',\n",
       " 'processedCalib',\n",
       " 'analysisParameters']"
      ]
     },
     "execution_count": 4,
     "metadata": {},
     "output_type": "execute_result"
    }
   ],
   "source": [
    "list(sessionDict.keys())"
   ]
  },
  {
   "cell_type": "code",
   "execution_count": 5,
   "id": "federal-differential",
   "metadata": {},
   "outputs": [
    {
     "data": {
      "text/plain": [
       "MultiIndex([(                               'ballFinalPos', 'x'),\n",
       "            (                               'ballFinalPos', 'y'),\n",
       "            (                               'ballFinalPos', 'z'),\n",
       "            (                             'ballInitialPos', 'x'),\n",
       "            (                             'ballInitialPos', 'y'),\n",
       "            (                             'ballInitialPos', 'z'),\n",
       "            (                             'ballInitialVel', 'x'),\n",
       "            (                             'ballInitialVel', 'y'),\n",
       "            (                             'ballInitialVel', 'z'),\n",
       "            (                                'blockNumber',  ''),\n",
       "            (                   'camera_movement_filename',  ''),\n",
       "            (                         'contactLocOnPaddle', 'x'),\n",
       "            (                         'contactLocOnPaddle', 'y'),\n",
       "            (                         'contactLocOnPaddle', 'z'),\n",
       "            (                          'contactLocinWorld', 'x'),\n",
       "            (                          'contactLocinWorld', 'y'),\n",
       "            (                          'contactLocinWorld', 'z'),\n",
       "            (                                  'directory',  ''),\n",
       "            (                                    'endTime',  ''),\n",
       "            ('etassessment_calibrationAssessment_filename',  ''),\n",
       "            (                                 'experiment',  ''),\n",
       "            (                                  'eyeHeight',  ''),\n",
       "            (                   'gazeTargetPositionInHead', 'x'),\n",
       "            (                   'gazeTargetPositionInHead', 'y'),\n",
       "            (                   'gazeTargetPositionInHead', 'z'),\n",
       "            (                                  'isCaughtQ',  ''),\n",
       "            (                               'isLeftHanded',  ''),\n",
       "            (                                   'maxReach',  ''),\n",
       "            (                    'noExpansionLastXSeconds',  ''),\n",
       "            (                   'paddle_movement_filename',  ''),\n",
       "            (                                       'ppid',  ''),\n",
       "            (              'pupil_pupilTimeStamp_filename',  ''),\n",
       "            (                              'sessionNumber',  ''),\n",
       "            (                                  'startTime',  ''),\n",
       "            (                              'timeOfContact',  ''),\n",
       "            (                                'trialNumber',  ''),\n",
       "            (                         'trialNumberInBlock',  ''),\n",
       "            (                                  'trialType',  '')],\n",
       "           )"
      ]
     },
     "execution_count": 5,
     "metadata": {},
     "output_type": "execute_result"
    }
   ],
   "source": [
    "sessionDict['trialInfo'].keys()"
   ]
  },
  {
   "cell_type": "code",
   "execution_count": 6,
   "id": "under-vessel",
   "metadata": {},
   "outputs": [
    {
     "name": "stdout",
     "output_type": "stream",
     "text": [
      "Total trials:  86\n"
     ]
    }
   ],
   "source": [
    "numTrials = len(sessionDict['trialInfo'])\n",
    "trials = range(numTrials)\n",
    "print('Total trials: ', numTrials)"
   ]
  },
  {
   "cell_type": "code",
   "execution_count": 7,
   "id": "smoking-reflection",
   "metadata": {},
   "outputs": [
    {
     "name": "stdout",
     "output_type": "stream",
     "text": [
      "Trial number: 1 \n",
      "Trial type: ['CalibrationAssessment']\n"
     ]
    }
   ],
   "source": [
    "aTrialsInfo = sessionDict['trialInfo'].loc[trials[0]]\n",
    "print('Trial number: {tNum} \\nTrial type: {tType}'.format(tNum = int(aTrialsInfo['trialNumber']),\n",
    "                                                   tType = str(aTrialsInfo['trialType'].values)))"
   ]
  },
  {
   "cell_type": "code",
   "execution_count": 8,
   "id": "genuine-litigation",
   "metadata": {},
   "outputs": [
    {
     "data": {
      "text/plain": [
       "dict_keys([1, 2, 3, 4, 5, 6, 7, 8, 9, 10, 11, 12, 13, 14, 15, 16, 17, 18, 19, 20, 21, 22, 23, 24, 25, 26, 27, 28, 29, 30, 31, 32, 33, 34, 35, 36, 37, 38, 39, 40, 41, 42, 43, 44, 45, 46, 47, 48, 49, 50, 51, 52, 53, 54, 55, 56, 57, 58, 59, 60, 61, 62, 63, 64, 65, 66, 67, 68, 69, 70, 71, 72, 73, 74, 75, 76, 77, 78, 79, 80, 81, 82, 83, 84, 85, 86])"
      ]
     },
     "execution_count": 8,
     "metadata": {},
     "output_type": "execute_result"
    }
   ],
   "source": [
    "gbProcessedCalib_trial = sessionDict['processedCalib'].groupby(['trialNumber'])\n",
    "gbProcessedCalib_trial.groups.keys()"
   ]
  },
  {
   "cell_type": "code",
   "execution_count": 9,
   "id": "incoming-attendance",
   "metadata": {},
   "outputs": [
    {
     "data": {
      "text/plain": [
       "MultiIndex([(         'azimuthWidth',     ''),\n",
       "            (            'base_data',     ''),\n",
       "            (          'blockNumber',     ''),\n",
       "            (               'camera', 'R0C0'),\n",
       "            (               'camera', 'R0C1'),\n",
       "            (               'camera', 'R0C2'),\n",
       "            (               'camera', 'R0C3'),\n",
       "            (               'camera', 'R1C0'),\n",
       "            (               'camera', 'R1C1'),\n",
       "            (               'camera', 'R1C2'),\n",
       "            (               'camera', 'R1C3'),\n",
       "            (               'camera', 'R2C0'),\n",
       "            (               'camera', 'R2C1'),\n",
       "            (               'camera', 'R2C2'),\n",
       "            (               'camera', 'R2C3'),\n",
       "            (               'camera', 'R3C0'),\n",
       "            (               'camera', 'R3C1'),\n",
       "            (               'camera', 'R3C2'),\n",
       "            (               'camera', 'R3C3'),\n",
       "            (            'cameraPos',    'x'),\n",
       "            (            'cameraPos',    'y'),\n",
       "            (            'cameraPos',    'z'),\n",
       "            (            'cameraRot',    'x'),\n",
       "            (            'cameraRot',    'y'),\n",
       "            (            'cameraRot',    'z'),\n",
       "            (           'confidence',     ''),\n",
       "            (    'currentTargetName',     ''),\n",
       "            (      'elevationHeight',     ''),\n",
       "            (       'eye-center0-3d',    'x'),\n",
       "            (       'eye-center0-3d',    'y'),\n",
       "            (       'eye-center0-3d',    'z'),\n",
       "            (       'eye-center1-3d',    'x'),\n",
       "            (       'eye-center1-3d',    'y'),\n",
       "            (       'eye-center1-3d',    'z'),\n",
       "            (         'fixationTime',     ''),\n",
       "            (            'frameTime',     ''),\n",
       "            (         'gaze-normal0',    'x'),\n",
       "            (         'gaze-normal0',    'y'),\n",
       "            (         'gaze-normal0',    'z'),\n",
       "            (         'gaze-normal1',    'x'),\n",
       "            (         'gaze-normal1',    'y'),\n",
       "            (         'gaze-normal1',    'z'),\n",
       "            (        'gaze-point-3d',    'x'),\n",
       "            (        'gaze-point-3d',    'y'),\n",
       "            (        'gaze-point-3d',    'z'),\n",
       "            (                'index',     ''),\n",
       "            (          'isHeadFixed',     ''),\n",
       "            (             'norm-pos',    'x'),\n",
       "            (             'norm-pos',    'y'),\n",
       "            (       'pupilTimestamp',     ''),\n",
       "            (        'targeLocalPos',    'x'),\n",
       "            (        'targeLocalPos',    'y'),\n",
       "            (        'targeLocalPos',    'z'),\n",
       "            (       'targetDistance',     ''),\n",
       "            (            'targetPos',    'x'),\n",
       "            (            'targetPos',    'y'),\n",
       "            (            'targetPos',    'z'),\n",
       "            ('targetRadiusInDegrees',     ''),\n",
       "            (          'trialNumber',     ''),\n",
       "            (          'world_index',     '')],\n",
       "           )"
      ]
     },
     "execution_count": 9,
     "metadata": {},
     "output_type": "execute_result"
    }
   ],
   "source": [
    "gbCurrGroup = gbProcessedCalib_trial.get_group(trials[0]+1)  # Add 1 to convert from zero-based to one-based index\n",
    "gbCurrGroup.keys()"
   ]
  },
  {
   "cell_type": "code",
   "execution_count": null,
   "metadata": {},
   "outputs": [],
   "source": []
  },
  {
   "cell_type": "markdown",
   "id": "seeing-christian",
   "metadata": {},
   "source": [
    "# Create graphs for azimuth and elevation, comparing against local target\n",
    "* Separated by trial number\n",
    "* Axis range is set at the top"
   ]
  },
  {
   "cell_type": "markdown",
   "metadata": {},
   "source": [
    "# Calc cyclopean \n",
    "\n",
    "sessionDict['processedCalib']['cycEIH']\n",
    "\n",
    "sessionDict['processedCalib']['cycEIH_el']\n",
    "\n",
    "sessionDict['processedCalib']['cycEIH_az']"
   ]
  },
  {
   "cell_type": "code",
   "execution_count": 10,
   "metadata": {},
   "outputs": [
    {
     "name": "stderr",
     "output_type": "stream",
     "text": [
      "/Users/gjdpci/.local/lib/python3.7/site-packages/ipykernel_launcher.py:3: RuntimeWarning: Mean of empty slice\n",
      "  This is separate from the ipykernel package so we can avoid doing imports until\n",
      "/Users/gjdpci/.local/lib/python3.7/site-packages/ipykernel_launcher.py:10: RuntimeWarning: invalid value encountered in true_divide\n",
      "  # Remove the CWD from sys.path while we load stuff.\n",
      "INFO___main__-calcCycEIH(): - Added sessionDict['processedCalib']['cycEIH']\n",
      "INFO___main__-calcCycEIH(): - Added sessionDict['processedCalib']['cycEIH_az']\n",
      "INFO___main__-calcCycEIH(): - Added sessionDict['processedCalib']['cycEIH_el']\n"
     ]
    }
   ],
   "source": [
    "def calcCycEIH(sessionDictIn):\n",
    "    \n",
    "    gazeNormal2 = np.nanmean([sessionDictIn['processedCalib']['gaze-normal0'],sessionDictIn['processedCalib']['gaze-normal1']],axis=0)\n",
    "\n",
    "    sessionDictIn['processedCalib'][('cycEIH','x')] = gazeNormal2[:,0]\n",
    "    sessionDictIn['processedCalib'][('cycEIH','y')] = gazeNormal2[:,1]\n",
    "    sessionDictIn['processedCalib'][('cycEIH','z')] = gazeNormal2[:,2]\n",
    "\n",
    "    # Normalize!\n",
    "    sessionDictIn['processedCalib']['cycEIH'] = np.array([np.divide(XYZ,np.linalg.norm(XYZ)) for XYZ in sessionDict['processedCalib']['cycEIH'].values],dtype=np.float)\n",
    "    \n",
    "    # While we're at it, let's calc spherical coordinates az / el\n",
    "    sessionDictIn['processedCalib']['cycEIH_el'] = sessionDictIn['processedCalib'].apply(lambda row: np.rad2deg(np.arctan2(row[('cycEIH','y')],row[('cycEIH','z')])),axis=1)\n",
    "    sessionDictIn['processedCalib']['cycEIH_az'] = sessionDictIn['processedCalib'].apply(lambda row: np.rad2deg(np.arctan2(row[('cycEIH','x')],row[('cycEIH','z')])),axis=1)\n",
    "    \n",
    "    logger.info('Added sessionDict[\\'processedCalib\\'][\\'cycEIH\\']')\n",
    "    logger.info('Added sessionDict[\\'processedCalib\\'][\\'cycEIH_az\\']')\n",
    "    logger.info('Added sessionDict[\\'processedCalib\\'][\\'cycEIH_el\\']')\n",
    "    \n",
    "    return sessionDictIn\n",
    "\n",
    "sessionDict = calcCycEIH(sessionDict)\n"
   ]
  },
  {
   "cell_type": "markdown",
   "metadata": {},
   "source": [
    "# Filter data"
   ]
  },
  {
   "cell_type": "code",
   "execution_count": 11,
   "metadata": {},
   "outputs": [
    {
     "name": "stderr",
     "output_type": "stream",
     "text": [
      "INFO___main__-filterEIH(): - Added sessionDict['processedCalib']['cycEIHFilt_az']\n",
      "INFO___main__-filterEIH(): - Added sessionDict['processedCalib']['cycEIHFilt_el']\n"
     ]
    }
   ],
   "source": [
    "\n",
    "def filterEIH(sessionDict):\n",
    "\n",
    "    sgWinSizeSamples = sessionDict['analysisParameters']['sgWinSizeSamples']\n",
    "    sgPolyorder = sessionDict['analysisParameters']['sgPolyorder']\n",
    "    medFiltSize = sessionDict['analysisParameters']['medFiltSize']\n",
    "    interpResS = sessionDict['analysisParameters']['interpResS']\n",
    "    sgWinSizeSamples = sessionDict['analysisParameters']['sgWinSizeSamples']\n",
    "\n",
    "    from scipy.signal import savgol_filter\n",
    "\n",
    "    # FIlter\n",
    "    proc = sessionDict['processedCalib']\n",
    "\n",
    "    # get ∆T per frame\n",
    "    frameDur = np.float(proc['frameTime'].diff().mode()[0])\n",
    "    \n",
    "    # Median filter to remove outliers\n",
    "    proc['cycEIHFilt_az'] = proc['cycEIH_az'].rolling(medFiltSize).median()\n",
    "    proc['cycEIHFilt_el'] = proc['cycEIH_el'].rolling(medFiltSize).median()\n",
    "\n",
    "    # Fill in empty values / nans\n",
    "    proc['cycEIHFilt_az'] = proc['cycEIH_az'].fillna(0)\n",
    "    proc['cycEIHFilt_el'] = proc['cycEIH_el'].fillna(0)\n",
    "\n",
    "    # Savitsky-Golay filter for smoothing\n",
    "    proc['cycEIHFilt_az'] = savgol_filter(proc['cycEIHFilt_az'],\n",
    "                                                        sgWinSizeSamples,\n",
    "                                                        sgPolyorder,\n",
    "                                                        deriv=0,\n",
    "                                                        delta = frameDur,\n",
    "                                                        axis=0,\n",
    "                                                        mode='interp')\n",
    "\n",
    "    proc['cycGIWFilt_el'] = savgol_filter(proc['cycEIHFilt_el'],\n",
    "                                                        sgWinSizeSamples,\n",
    "                                                        sgPolyorder,\n",
    "                                                        deriv=0,\n",
    "                                                        delta = frameDur,\n",
    "                                                        axis=0,\n",
    "                                                        mode='interp')\n",
    "\n",
    "    sessionDict['processedCalib'] = proc\n",
    "    \n",
    "    logger.info('Added sessionDict[\\'processedCalib\\'][\\'cycEIHFilt_az\\']')\n",
    "    logger.info('Added sessionDict[\\'processedCalib\\'][\\'cycEIHFilt_el\\']')\n",
    "\n",
    "    return sessionDict\n",
    "\n",
    "sessionDict = filterEIH(sessionDict)"
   ]
  },
  {
   "cell_type": "markdown",
   "metadata": {},
   "source": [
    "# Compare raw and filtered signal for a trial"
   ]
  },
  {
   "cell_type": "code",
   "execution_count": 12,
   "metadata": {},
   "outputs": [],
   "source": [
    "%matplotlib widget\n",
    "# %matplotlib inline"
   ]
  },
  {
   "cell_type": "code",
   "execution_count": 55,
   "metadata": {},
   "outputs": [
    {
     "data": {
      "application/vnd.jupyter.widget-view+json": {
       "model_id": "3865fe1549ac4278b2b73efb1b4d484e",
       "version_major": 2,
       "version_minor": 0
      },
      "text/plain": [
       "Canvas(toolbar=Toolbar(toolitems=[('Home', 'Reset original view', 'home', 'home'), ('Back', 'Back to previous …"
      ]
     },
     "metadata": {},
     "output_type": "display_data"
    },
    {
     "data": {
      "text/plain": [
       "<matplotlib.legend.Legend at 0x7fa201198fd0>"
      ]
     },
     "execution_count": 55,
     "metadata": {},
     "output_type": "execute_result"
    }
   ],
   "source": [
    "import matplotlib.pyplot as plt\n",
    "\n",
    "\n",
    "tNum = 84 # Trial to plot\n",
    "yRange = 30 # +/- y degrees\n",
    "xRange_minMax = [0,1] # [min, max] seconds\n",
    "\n",
    "gbProcessedCalib_trial = sessionDict['processedCalib'].groupby(['trialNumber'])\n",
    "trData = gbProcessedCalib_trial.get_group(tNum)\n",
    "\n",
    "timestamps = trData['pupilTimestamp'] - trData['pupilTimestamp'].iloc[0]\n",
    "\n",
    "p = plt.figure(figsize=(15, 10))\n",
    "plt.style.use('ggplot')\n",
    "\n",
    "grid = plt.GridSpec(2, 2)#, wspace=0.4, hspace=0.3)\n",
    "ax = p.add_subplot(grid[:2,:2])\n",
    "# ax2 = p.add_subplot(grid[:2,:2])\n",
    "\n",
    "# ax.plot(timestamps,trData['cycEIH_az'],color='c',linewidth=3,alpha = 1.0,linestyle=':',label='raw az')\n",
    "\n",
    "ax.scatter(timestamps,trData['cycEIH_az'],s=20,color='c',alpha = 1.0,linestyle=':',label='raw az')\n",
    "ax.plot(timestamps,trData['cycEIHFilt_az'],linestyle='-',color='k',linewidth=2,alpha = 0.2,label='filt az')\n",
    "ax.scatter(timestamps,trData['cycEIHFilt_az'],s=20,color='k',linewidth=2,alpha = 0.2)\n",
    "\n",
    "ax.plot(timestamps,trData['cycEIH_el'],color='b',linewidth=3,alpha = 1.0,linestyle=':',label='raw el')\n",
    "ax.plot(timestamps,trData['cycEIHFilt_el'],linestyle='-',color='g',linewidth=2,alpha = 0.2,label='filt az')\n",
    "ax.scatter(timestamps,trData['cycEIHFilt_el'],s=20,color='g',linewidth=2,alpha = 0.2)\n",
    "\n",
    "ax.set_xlabel('time (seconds)')\n",
    "ax.set_xlim(-xRange_minMax[0], xRange_minMax[1])\n",
    "\n",
    "ax.set_ylabel('degrees')\n",
    "ax.set_ylim(-yRange, yRange)\n",
    "\n",
    "\n",
    "ax.legend(loc= 'upper left')\n",
    "\n",
    "# fig.figure.savefig('Output/'+str(trialRowIdx+1)+\"_azimuth.png\")\n",
    "# plt.pyplot.close(fig.figure)\n"
   ]
  },
  {
   "cell_type": "markdown",
   "metadata": {},
   "source": [
    "# Record target types (we will need this later)"
   ]
  },
  {
   "cell_type": "code",
   "execution_count": 14,
   "metadata": {},
   "outputs": [
    {
     "name": "stdout",
     "output_type": "stream",
     "text": [
      "Trial number: 1, type: fixation\n",
      "Trial number: 2, type: fixation\n",
      "Trial number: 3, type: fixation\n",
      "Trial number: 4, type: fixation\n",
      "Trial number: 5, type: fixation\n",
      "Trial number: 6, type: fixation\n",
      "Trial number: 7, type: fixation\n",
      "Trial number: 8, type: fixation\n",
      "Trial number: 9, type: fixation\n",
      "Trial number: 10, type: fixation\n",
      "Trial number: 11, type: fixation\n",
      "Trial number: 12, type: fixation\n",
      "Trial number: 13, type: fixation\n",
      "Trial number: 14, type: fixation\n",
      "Trial number: 15, type: fixation\n",
      "Trial number: 16, type: fixation\n",
      "Trial number: 17, type: fixation\n",
      "Trial number: 18, type: fixation\n",
      "Trial number: 19, type: fixation\n",
      "Trial number: 20, type: fixation\n",
      "Trial number: 21, type: fixation\n",
      "Trial number: 22, type: fixation\n",
      "Trial number: 23, type: fixation\n",
      "Trial number: 24, type: fixation\n",
      "Trial number: 25, type: fixation\n",
      "Trial number: 26, type: fixation\n",
      "Trial number: 27, type: fixation\n",
      "Trial number: 28, type: fixation\n",
      "Trial number: 29, type: fixation\n",
      "Trial number: 30, type: fixation\n",
      "Trial number: 31, type: fixation\n",
      "Trial number: 32, type: fixation\n",
      "Trial number: 33, type: fixation\n",
      "Trial number: 34, type: fixation\n",
      "Trial number: 35, type: fixation\n",
      "Trial number: 36, type: fixation\n",
      "Trial number: 37, type: fixation\n",
      "Trial number: 38, type: fixation\n",
      "Trial number: 39, type: fixation\n",
      "Trial number: 40, type: fixation\n",
      "Trial number: 41, type: fixation\n",
      "Trial number: 42, type: fixation\n",
      "Trial number: 43, type: fixation\n",
      "Trial number: 44, type: fixation\n",
      "Trial number: 45, type: fixation\n",
      "Trial number: 46, type: fixation\n",
      "Trial number: 47, type: fixation\n",
      "Trial number: 48, type: fixation\n",
      "Trial number: 49, type: fixation\n",
      "Trial number: 50, type: fixation\n",
      "Trial number: 51, type: fixation\n",
      "Trial number: 52, type: fixation\n",
      "Trial number: 53, type: fixation\n",
      "Trial number: 54, type: fixation\n",
      "Trial number: 55, type: fixation\n",
      "Trial number: 56, type: fixation\n",
      "Trial number: 57, type: fixation\n",
      "Trial number: 58, type: fixation\n",
      "Trial number: 59, type: fixation\n",
      "Trial number: 60, type: fixation\n",
      "Trial number: 61, type: fixation\n",
      "Trial number: 62, type: fixation\n",
      "Trial number: 63, type: fixation\n",
      "Trial number: 64, type: fixation\n",
      "Trial number: 65, type: fixation\n",
      "Trial number: 66, type: fixation\n",
      "Trial number: 67, type: fixation\n",
      "Trial number: 68, type: fixation\n",
      "Trial number: 69, type: fixation\n",
      "Trial number: 70, type: fixation\n",
      "Trial number: 71, type: fixation\n",
      "Trial number: 72, type: fixation\n",
      "Trial number: 73, type: fixation\n",
      "Trial number: 74, type: fixation\n",
      "Trial number: 75, type: fixation\n",
      "Trial number: 76, type: fixation"
     ]
    },
    {
     "name": "stderr",
     "output_type": "stream",
     "text": [
      "INFO___main__-findCalibrationTargetType(): - Added sessionDict['trialInfo']['targetType']\n"
     ]
    },
    {
     "name": "stdout",
     "output_type": "stream",
     "text": [
      "\n",
      "Trial number: 77, type: fixation\n",
      "Trial number: 78, type: fixation\n",
      "Trial number: 79, type: fixation\n",
      "Trial number: 80, type: fixation\n",
      "Trial number: 81, type: fixation\n",
      "Trial number: 82, type: fixation+saccade\n",
      "Trial number: 83, type: VOR\n",
      "Trial number: 84, type: VOR\n",
      "Trial number: 85, type: VOR\n",
      "Trial number: 86, type: VOR\n"
     ]
    }
   ],
   "source": [
    "def findCalibrationTargetType(sessionIn):\n",
    "    '''\n",
    "    Input: Session dictionary\n",
    "    Output:  Session dictionary with new column sessionDict['trialInfo']['targetType']\n",
    "    '''\n",
    "    \n",
    "    gbProcessedCalib_trial = sessionIn['processedCalib'].groupby(['trialNumber'])\n",
    "    \n",
    "    targetTypes = []\n",
    "    for trialRowIdx, trMetaData in sessionIn['trialInfo'].iterrows():\n",
    "\n",
    "        # This dataframe contains the per-frame processed data associated with this trial\n",
    "        procDF = gbProcessedCalib_trial.get_group(int(trMetaData['trialNumber']))\n",
    "\n",
    "        targetType = []\n",
    "\n",
    "\n",
    "        if ( sum(procDF['isHeadFixed'] == False) ==  len(procDF) ):\n",
    "\n",
    "            targetType = 'VOR'\n",
    "\n",
    "        elif( sum(procDF['isHeadFixed'] == True) == len(procDF) ):\n",
    "\n",
    "            # Count the number of target positions within the local space (head-centered space)\n",
    "            if( len(procDF['targeLocalPos'].drop_duplicates()) == 1 ):\n",
    "                # Only one target, so it's a fixation trial\n",
    "                targetType = 'fixation'\n",
    "            else:\n",
    "                # multiple targets, so it's a saccade trial\n",
    "                targetType = 'fixation+saccade'\n",
    "\n",
    "        else:\n",
    "            # The trial has both head fixed and world fixed targets.  \n",
    "            # We did not plan for that, so let's label it as \"unknown.\"\n",
    "\n",
    "            targetType = 'unknown'\n",
    "\n",
    "        print('Trial number: {tNum}, type: {tType}'.format(tNum = int(trMetaData['trialNumber']),\n",
    "                                                       tType = targetType))\n",
    "        targetTypes.append(targetType)\n",
    "        \n",
    "    \n",
    "    sessionIn['trialInfo']['targetType'] = targetTypes\n",
    "    \n",
    "    logger.info('Added sessionDict[\\'trialInfo\\'][\\'targetType\\']')\n",
    "    \n",
    "    return sessionDict\n",
    "\n",
    "sessionDict = findCalibrationTargetType(sessionDict)"
   ]
  },
  {
   "cell_type": "markdown",
   "metadata": {},
   "source": [
    "# Bring target into head-space"
   ]
  },
  {
   "cell_type": "code",
   "execution_count": 15,
   "metadata": {},
   "outputs": [],
   "source": [
    "tNum = 84 # Trial number\n",
    "\n",
    "gbProcessedCalib_trial = sessionDict['processedCalib'].groupby(['trialNumber'])\n",
    "trData = gbProcessedCalib_trial.get_group(tNum)\n",
    "\n",
    "rowIn = trData.iloc[200]\n",
    "\n",
    "# Check to make sure that it is a column vector format.  That is...\n",
    "# last row is 0,0,0,1\n",
    "# last column is tX, tY, tZ, 1 (where t denotes translation)\n",
    "# If not, try the transpose!\n",
    "headTransform_4x4 = np.reshape(rowIn[\"camera\"].values,[4,4])\n",
    "headTransform_4x4 = np.array(headTransform_4x4,np.float)"
   ]
  },
  {
   "cell_type": "markdown",
   "metadata": {},
   "source": [
    "### Take the inverse\n",
    "The headTransform_4x4 defines the position and orientation of the head space within the world coordinate space.\n",
    "- Multiplying a vector/point by this matrix will convert world XYZ into their corresponding XYZ in head space.\n",
    "- That is, it converts from local (head) to global (world) coordinates.\n",
    "- The inverse does the opposite - it converts from global (world) to local (head) coordinates.\n",
    "- This is useful, so we can cast the target the target in head coordinates.\n",
    "- Note that this is actually a costly operation, but I do this because it is instructional rather than efficient."
   ]
  },
  {
   "cell_type": "code",
   "execution_count": 16,
   "metadata": {},
   "outputs": [],
   "source": [
    "invHeadTransform_4x4 = np.linalg.inv(headTransform_4x4)"
   ]
  },
  {
   "cell_type": "markdown",
   "metadata": {},
   "source": [
    "Now, lets multiply the target position in world coordinates by this matrix to convert it into head coordinates.\n",
    "\n",
    "This requiers converstion into a column vector homogenous coords [X,Y,Z,W=1]"
   ]
  },
  {
   "cell_type": "code",
   "execution_count": 17,
   "metadata": {},
   "outputs": [
    {
     "data": {
      "text/plain": [
       "'in world: -0.63, 1.0, -1.1, 1 '"
      ]
     },
     "execution_count": 17,
     "metadata": {},
     "output_type": "execute_result"
    }
   ],
   "source": [
    "targetWorld_XYZW = np.hstack([rowIn['targetPos'].values,1]).T\n",
    "targetHead_XYZW = np.dot(invHeadTransform_4x4,targetWorld_XYZW)\n",
    "\n",
    "\"in world: {:.2}, {:.2}, {:.2}, {} \".format(targetWorld_XYZW[0],targetWorld_XYZW[1],targetWorld_XYZW[2], targetWorld_XYZW[3])"
   ]
  },
  {
   "cell_type": "code",
   "execution_count": 18,
   "metadata": {},
   "outputs": [
    {
     "data": {
      "text/plain": [
       "'in head: 0.02, 0.3, 0.93, 1.0 '"
      ]
     },
     "execution_count": 18,
     "metadata": {},
     "output_type": "execute_result"
    }
   ],
   "source": [
    "\"in head: {:.2}, {:.2}, {:.2}, {} \".format(targetHead_XYZW[0],targetHead_XYZW[1],targetHead_XYZW[2],targetHead_XYZW[3])"
   ]
  },
  {
   "cell_type": "markdown",
   "metadata": {},
   "source": [
    "Notice that the format is X Y Z W=1.  We can discard the W=1"
   ]
  },
  {
   "cell_type": "markdown",
   "metadata": {},
   "source": [
    "# Create graphs for azimuth and elevation, comparing against local target\n",
    "* Separated by trial number\n",
    "* Axis range is set at the top"
   ]
  },
  {
   "cell_type": "code",
   "execution_count": 46,
   "metadata": {},
   "outputs": [],
   "source": [
    "def recalcTargetLocalPosOnVOR(sessionDict):\n",
    "    \n",
    "    def recalcTargetLocal_row(rowIn):\n",
    "\n",
    "            # Grab gransformation matrix\n",
    "            headTransform_4x4 = np.reshape(rowIn[\"camera\"].values,[4,4])\n",
    "            headTransform_4x4 = np.array(headTransform_4x4,np.float)\n",
    "\n",
    "            # Transpose\n",
    "            headTransform_4x4 = headTransform_4x4.T\n",
    "\n",
    "            # Inverse\n",
    "            invHeadTransform_4x4 = np.linalg.inv(headTransform_4x4)\n",
    "\n",
    "            # Get target loc in world homogenous coordinates\n",
    "            targetWorld_XYZW = np.hstack([rowIn['targetPos'].values,1]).T\n",
    "\n",
    "            # Take the dot product\n",
    "            targetHead_XYZW = np.dot(invHeadTransform_4x4,targetWorld_XYZW)\n",
    "\n",
    "            # Discard the w term and normalize\n",
    "            targetHead_XYZ = targetHead_XYZW[0:3] / np.linalg.norm(targetHead_XYZW[0:3])\n",
    "\n",
    "            # You must return as a list or a tuple\n",
    "            return {('targeLocal','x'): targetHead_XYZ[0],('targeLocal','y'): targetHead_XYZ[1],('targeLocal','z'): targetHead_XYZ[2]}\n",
    "\n",
    "        \n",
    "    oldTargeLocal = sessionDict['processedCalib']['targeLocalPos']\n",
    "    newTargeLocal = []\n",
    "    \n",
    "    for trialRowIdx, trMetaData in sessionDict['trialInfo'].iterrows():\n",
    "        \n",
    "        gbProcessedCalib_trial = sessionDict['processedCalib'].groupby(['trialNumber'])\n",
    "        trData = gbProcessedCalib_trial.get_group(int(trMetaData['trialNumber']))\n",
    "\n",
    "        if( str(trMetaData['targetType']) == 'VOR' ):\n",
    "\n",
    "            # Recalc target position in local coords using the inverse camera matrix\n",
    "            # RecalcTargetLocal_row returns a list of dictionaries\n",
    "            \n",
    "            newTargeLocal = trData.apply(lambda row: recalcTargetLocal_row(row),axis=1)\n",
    "#             newTargeLocal.append(newTargeLocal)\n",
    "\n",
    "            # This converts that list of dicts into a multiindexed dataframe\n",
    "            newTargeLocal = pd.DataFrame.from_records(newTargeLocal.values)\n",
    "            newTargeLocal.columns = pd.MultiIndex.from_tuples(newTargeLocal.columns)\n",
    "#             oldTargeLocal.update()\n",
    "\n",
    "    return newTargeLocal\n",
    "\n",
    "#     return {('targeLocal','x'): targetHead_XYZ[0],('targeLocal','y'): targetHead_XYZ[1],('targeLocal','z'): targetHead_XYZ[2]}"
   ]
  },
  {
   "cell_type": "code",
   "execution_count": 44,
   "metadata": {},
   "outputs": [
    {
     "name": "stderr",
     "output_type": "stream",
     "text": [
      "/opt/anaconda3/lib/python3.7/site-packages/pandas/core/indexing.py:670: SettingWithCopyWarning: \n",
      "A value is trying to be set on a copy of a slice from a DataFrame\n",
      "\n",
      "See the caveats in the documentation: https://pandas.pydata.org/pandas-docs/stable/user_guide/indexing.html#returning-a-view-versus-a-copy\n",
      "  iloc._setitem_with_indexer(indexer, value)\n",
      "/Users/gjdpci/.local/lib/python3.7/site-packages/ipykernel_launcher.py:2: SettingWithCopyWarning: \n",
      "A value is trying to be set on a copy of a slice from a DataFrame\n",
      "\n",
      "See the caveats in the documentation: https://pandas.pydata.org/pandas-docs/stable/user_guide/indexing.html#returning-a-view-versus-a-copy\n",
      "  \n"
     ]
    }
   ],
   "source": [
    "newTargeLocal = sessionDict['processedCalib']['targeLocalPos']\n",
    "newTargeLocal.loc[2:3] = [[2,2,2],[3,3,3]]"
   ]
  },
  {
   "cell_type": "code",
   "execution_count": 49,
   "metadata": {},
   "outputs": [
    {
     "data": {
      "text/plain": [
       "[]"
      ]
     },
     "execution_count": 49,
     "metadata": {},
     "output_type": "execute_result"
    }
   ],
   "source": [
    "\n",
    "newTargeLocal = recalcTargetLocalPosOnVOR(sessionDict)\n",
    "\n",
    "newTargeLocal"
   ]
  },
  {
   "cell_type": "code",
   "execution_count": null,
   "metadata": {},
   "outputs": [],
   "source": [
    "tNum = 84 # Trial number\n",
    "\n",
    "gbProcessedCalib_trial = sessionDict['processedCalib'].groupby(['trialNumber'])\n",
    "trData = gbProcessedCalib_trial.get_group(tNum)\n",
    "\n",
    "trData['newTargeLocalPos']"
   ]
  },
  {
   "cell_type": "code",
   "execution_count": 53,
   "metadata": {},
   "outputs": [
    {
     "data": {
      "text/plain": [
       "17226    {('targeLocal', 'x'): 0.3652855657874406, ('ta...\n",
       "17227    {('targeLocal', 'x'): 0.3709782513835461, ('ta...\n",
       "17228    {('targeLocal', 'x'): 0.37652959160390304, ('t...\n",
       "17229    {('targeLocal', 'x'): 0.38193652170739106, ('t...\n",
       "17230    {('targeLocal', 'x'): 0.3848759567338508, ('ta...\n",
       "                               ...                        \n",
       "18944    {('targeLocal', 'x'): -0.014123814203053586, (...\n",
       "18945    {('targeLocal', 'x'): -0.01569967865780512, ('...\n",
       "18946    {('targeLocal', 'x'): -0.017279415565756594, (...\n",
       "18947    {('targeLocal', 'x'): -0.018862981779711088, (...\n",
       "18948    {('targeLocal', 'x'): -0.018862981779711088, (...\n",
       "Length: 1723, dtype: object"
      ]
     },
     "execution_count": 53,
     "metadata": {},
     "output_type": "execute_result"
    }
   ],
   "source": [
    "def recalcTargetLocal_row(rowIn):\n",
    "\n",
    "        # Grab gransformation matrix\n",
    "        headTransform_4x4 = np.reshape(rowIn[\"camera\"].values,[4,4])\n",
    "        headTransform_4x4 = np.array(headTransform_4x4,np.float)\n",
    "\n",
    "        # Transpose\n",
    "        headTransform_4x4 = headTransform_4x4.T\n",
    "\n",
    "        # Inverse\n",
    "        invHeadTransform_4x4 = np.linalg.inv(headTransform_4x4)\n",
    "\n",
    "        # Get target loc in world homogenous coordinates\n",
    "        targetWorld_XYZW = np.hstack([rowIn['targetPos'].values,1]).T\n",
    "\n",
    "        # Take the dot product\n",
    "        targetHead_XYZW = np.dot(invHeadTransform_4x4,targetWorld_XYZW)\n",
    "\n",
    "        # Discard the w term and normalize\n",
    "        targetHead_XYZ = targetHead_XYZW[0:3] / np.linalg.norm(targetHead_XYZW[0:3])\n",
    "\n",
    "        # You must return as a list or a tuple\n",
    "        return {('targeLocal','x'): targetHead_XYZ[0],('targeLocal','y'): targetHead_XYZ[1],('targeLocal','z'): targetHead_XYZ[2]}\n",
    "    \n",
    "newTargeLocal = trData.apply(lambda row: recalcTargetLocal_row(row),axis=1)\n",
    "newTargeLocal"
   ]
  },
  {
   "cell_type": "code",
   "execution_count": 54,
   "metadata": {},
   "outputs": [
    {
     "data": {
      "text/html": [
       "<div>\n",
       "<style scoped>\n",
       "    .dataframe tbody tr th:only-of-type {\n",
       "        vertical-align: middle;\n",
       "    }\n",
       "\n",
       "    .dataframe tbody tr th {\n",
       "        vertical-align: top;\n",
       "    }\n",
       "\n",
       "    .dataframe thead tr th {\n",
       "        text-align: left;\n",
       "    }\n",
       "</style>\n",
       "<table border=\"1\" class=\"dataframe\">\n",
       "  <thead>\n",
       "    <tr>\n",
       "      <th></th>\n",
       "      <th colspan=\"3\" halign=\"left\">targeLocal</th>\n",
       "    </tr>\n",
       "    <tr>\n",
       "      <th></th>\n",
       "      <th>x</th>\n",
       "      <th>y</th>\n",
       "      <th>z</th>\n",
       "    </tr>\n",
       "  </thead>\n",
       "  <tbody>\n",
       "    <tr>\n",
       "      <th>0</th>\n",
       "      <td>0.365286</td>\n",
       "      <td>0.380514</td>\n",
       "      <td>-0.849574</td>\n",
       "    </tr>\n",
       "    <tr>\n",
       "      <th>1</th>\n",
       "      <td>0.370978</td>\n",
       "      <td>0.370799</td>\n",
       "      <td>-0.851401</td>\n",
       "    </tr>\n",
       "    <tr>\n",
       "      <th>2</th>\n",
       "      <td>0.376530</td>\n",
       "      <td>0.360992</td>\n",
       "      <td>-0.853177</td>\n",
       "    </tr>\n",
       "    <tr>\n",
       "      <th>3</th>\n",
       "      <td>0.381937</td>\n",
       "      <td>0.351098</td>\n",
       "      <td>-0.854901</td>\n",
       "    </tr>\n",
       "    <tr>\n",
       "      <th>4</th>\n",
       "      <td>0.384876</td>\n",
       "      <td>0.345695</td>\n",
       "      <td>-0.855784</td>\n",
       "    </tr>\n",
       "    <tr>\n",
       "      <th>...</th>\n",
       "      <td>...</td>\n",
       "      <td>...</td>\n",
       "      <td>...</td>\n",
       "    </tr>\n",
       "    <tr>\n",
       "      <th>1718</th>\n",
       "      <td>-0.014124</td>\n",
       "      <td>0.826314</td>\n",
       "      <td>-0.563032</td>\n",
       "    </tr>\n",
       "    <tr>\n",
       "      <th>1719</th>\n",
       "      <td>-0.015700</td>\n",
       "      <td>0.827005</td>\n",
       "      <td>-0.561975</td>\n",
       "    </tr>\n",
       "    <tr>\n",
       "      <th>1720</th>\n",
       "      <td>-0.017279</td>\n",
       "      <td>0.827690</td>\n",
       "      <td>-0.560919</td>\n",
       "    </tr>\n",
       "    <tr>\n",
       "      <th>1721</th>\n",
       "      <td>-0.018863</td>\n",
       "      <td>0.828369</td>\n",
       "      <td>-0.559865</td>\n",
       "    </tr>\n",
       "    <tr>\n",
       "      <th>1722</th>\n",
       "      <td>-0.018863</td>\n",
       "      <td>0.828369</td>\n",
       "      <td>-0.559865</td>\n",
       "    </tr>\n",
       "  </tbody>\n",
       "</table>\n",
       "<p>1723 rows × 3 columns</p>\n",
       "</div>"
      ],
      "text/plain": [
       "     targeLocal                    \n",
       "              x         y         z\n",
       "0      0.365286  0.380514 -0.849574\n",
       "1      0.370978  0.370799 -0.851401\n",
       "2      0.376530  0.360992 -0.853177\n",
       "3      0.381937  0.351098 -0.854901\n",
       "4      0.384876  0.345695 -0.855784\n",
       "...         ...       ...       ...\n",
       "1718  -0.014124  0.826314 -0.563032\n",
       "1719  -0.015700  0.827005 -0.561975\n",
       "1720  -0.017279  0.827690 -0.560919\n",
       "1721  -0.018863  0.828369 -0.559865\n",
       "1722  -0.018863  0.828369 -0.559865\n",
       "\n",
       "[1723 rows x 3 columns]"
      ]
     },
     "execution_count": 54,
     "metadata": {},
     "output_type": "execute_result"
    }
   ],
   "source": [
    "newTargeLocal = pd.DataFrame.from_records(newTargeLocal.values)\n",
    "newTargeLocal.columns = pd.MultiIndex.from_tuples(newTargeLocal.columns)\n",
    "newTargeLocal"
   ]
  },
  {
   "cell_type": "code",
   "execution_count": null,
   "metadata": {},
   "outputs": [],
   "source": []
  }
 ],
 "metadata": {
  "kernelspec": {
   "display_name": "Python 3",
   "language": "python",
   "name": "python3"
  }
 },
 "nbformat": 4,
 "nbformat_minor": 5
}
