{
 "cells": [
  {
   "cell_type": "code",
   "execution_count": 1,
   "metadata": {},
   "outputs": [],
   "source": [
    "import sys\n",
    "sys.path.append(\"../Modules/\")\n",
    "sys.path.append(\"../\")\n",
    "import os\n",
    "\n",
    "import pandas as pd\n",
    "import numpy as np\n",
    "\n",
    "from configobj import ConfigObj\n",
    "from configobj import flatten_errors\n",
    "from validate import Validator\n",
    "    \n",
    "import logging\n",
    "\n",
    "from analysisParameters import loadParameters\n",
    "from loadDataE1 import loadSessionDict\n",
    "\n",
    "#fmt = 'logging.Formatter(''%(levelname)s_%(name)s-%(funcName)s(): - %(message)s'\n",
    "fmt = '%(levelname)s_%(name)s-%(funcName)s(): - %(message)s'\n",
    "logging.basicConfig(level=logging.INFO, format=fmt)\n",
    "logger = logging.getLogger(__name__)"
   ]
  },
  {
   "cell_type": "code",
   "execution_count": 2,
   "metadata": {},
   "outputs": [],
   "source": [
    "# sessionDict = projectTrajectories(sessionDict)\n",
    "import matplotlib.pyplot as plt\n",
    "%matplotlib notebook"
   ]
  },
  {
   "cell_type": "markdown",
   "metadata": {},
   "source": [
    "### Save all out automoatically"
   ]
  },
  {
   "cell_type": "code",
   "execution_count": 3,
   "metadata": {
    "scrolled": false
   },
   "outputs": [
    {
     "name": "stderr",
     "output_type": "stream",
     "text": [
      "INFO_loadDataE1-loadSessionDict(): - Loading preprocessed data for exp_data-2019-4-29-13-18 ***\n",
      "INFO_loadDataE1-loadSessionDict(): - Loading preprocessed data for exp_data-2019-4-25-11-22 ***\n",
      "INFO_loadDataE1-loadSessionDict(): - Loading preprocessed data for exp_data-2019-4-26-8-52 ***\n",
      "INFO_loadDataE1-loadSessionDict(): - Loading preprocessed data for exp_data-2019-4-26-13-4 ***\n"
     ]
    }
   ],
   "source": [
    "fileTimeList = [];\n",
    "[fileTimeList.append(name) for name in os.listdir(\"../Data/\") if name[0] is not '.'];\n",
    "fileTimeList\n",
    "\n",
    "from analysisParameters import loadParameters\n",
    "from loadDataE1 import loadSessionDict\n",
    "from processDataE1 import plotMovementModel\n",
    "\n",
    "for subNum, fileName in enumerate(fileTimeList):\n",
    "    \n",
    "    analysisParameters = loadParameters(fileName)\n",
    "\n",
    "    # set loadProcessedData to True if you want to reprocess the file.  \n",
    "    sessionDict = loadSessionDict(analysisParameters,\n",
    "                                  loadParsedData = True,\n",
    "                                  loadProcessedData = True)\n",
    "    \n",
    "    \n",
    "#     sessionDict['processed']['subjectNumber'] = subNum\n",
    "    sessionDict['trialInfo']['subjectNumber'] = subNum\n",
    "    sessionDict['processed']['fileName'] = fileName\n",
    "    \n",
    "    gb_bl_tr = sessionDict['processed'].groupby(['blockNumber','trialNumber'])\n",
    "    trGroup_bl_tr = sessionDict['trialInfo'].groupby(['blockNumber','trialNumber'])\n",
    "    \n",
    "    for (bNum,tNum), tr in gb_bl_tr:\n",
    "\n",
    "        trInfo = sessionDict['trialInfo'].groupby(['blockNumber','trialNumber']).get_group((bNum,tNum))\n",
    "        \n",
    "        (p,ax) = plotMovementModel(tr,\n",
    "                      trInfo,\n",
    "                      analysisParameters)\n",
    "    \n",
    "        condStr = 'g-{:.1f}_pd-{:1.1f}'.format(float(trInfo['ipdRatio']),float(trInfo['passingLocX']))\n",
    "        outDir = '../Figures/Projections/' + condStr + '/' + fileName + '/'\n",
    "\n",
    "        if not os.path.exists(outDir):\n",
    "            os.makedirs(outDir)\n",
    "\n",
    "        fName = str(outDir + 'b-{}_t-{}_' + condStr + '.png').format(bNum,tNum)\n",
    "\n",
    "    \n",
    "        plt.savefig(fName)\n",
    "        plt.close()\n"
   ]
  },
  {
   "cell_type": "code",
   "execution_count": null,
   "metadata": {},
   "outputs": [],
   "source": []
  },
  {
   "cell_type": "code",
   "execution_count": null,
   "metadata": {},
   "outputs": [],
   "source": []
  },
  {
   "cell_type": "code",
   "execution_count": null,
   "metadata": {},
   "outputs": [],
   "source": []
  }
 ],
 "metadata": {
  "kernelspec": {
   "display_name": "Python 2",
   "language": "python",
   "name": "python2"
  },
  "language_info": {
   "codemirror_mode": {
    "name": "ipython",
    "version": 2
   },
   "file_extension": ".py",
   "mimetype": "text/x-python",
   "name": "python",
   "nbconvert_exporter": "python",
   "pygments_lexer": "ipython2",
   "version": "2.7.17"
  }
 },
 "nbformat": 4,
 "nbformat_minor": 2
}
