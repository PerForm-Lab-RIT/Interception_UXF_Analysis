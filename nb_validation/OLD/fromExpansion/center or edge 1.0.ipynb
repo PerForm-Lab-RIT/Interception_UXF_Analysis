{
 "cells": [
  {
   "cell_type": "code",
   "execution_count": 1,
   "metadata": {},
   "outputs": [],
   "source": [
    "import sys\n",
    "sys.path.append(\"../Modules/\")\n",
    "sys.path.append(\"../\")\n",
    "import os\n",
    "\n",
    "import pandas as pd\n",
    "import numpy as np\n",
    "\n",
    "from configobj import ConfigObj\n",
    "from configobj import flatten_errors\n",
    "from validate import Validator\n",
    "    \n",
    "import logging\n",
    "\n",
    "from analysisParameters import loadParameters\n",
    "from loadDataE1 import loadSessionDict\n",
    "import processDataE1 as pF\n",
    "\n",
    "#fmt = 'logging.Formatter(''%(levelname)s_%(name)s-%(funcName)s(): - %(message)s'\n",
    "fmt = '%(levelname)s_%(name)s-%(funcName)s(): - %(message)s'\n",
    "logging.basicConfig(level=logging.INFO, format=fmt)\n",
    "logger = logging.getLogger(__name__)\n",
    "\n"
   ]
  },
  {
   "cell_type": "code",
   "execution_count": 2,
   "metadata": {},
   "outputs": [],
   "source": [
    "# sessionDict = projectTrajectories(sessionDict)\n",
    "import matplotlib.pyplot as plt\n",
    "%matplotlib notebook"
   ]
  },
  {
   "cell_type": "code",
   "execution_count": 3,
   "metadata": {},
   "outputs": [],
   "source": [
    "subNum = 7\n",
    "bNum = 2\n",
    "tNum = 128\n"
   ]
  },
  {
   "cell_type": "code",
   "execution_count": null,
   "metadata": {},
   "outputs": [],
   "source": []
  },
  {
   "cell_type": "code",
   "execution_count": 4,
   "metadata": {},
   "outputs": [
    {
     "name": "stderr",
     "output_type": "stream",
     "text": [
      "INFO_loadDataE1-loadSessionDict(): - Loading preprocessed data for exp_data-2018-4-27-13-41 ***\n"
     ]
    }
   ],
   "source": [
    "fileTimeList = [];\n",
    "[fileTimeList.append(name) for name in os.listdir(\"../Data/\") if name[0] is not '.'];\n",
    "fileTimeList\n",
    "\n",
    "from analysisParameters import loadParameters\n",
    "from loadDataE1 import loadSessionDict\n",
    "from processDataE1 import projectTrajectories\n",
    "\n",
    "fileName = fileTimeList[subNum]\n",
    "analysisParameters = loadParameters(fileName)\n",
    "\n",
    "# set loadProcessedData to True if you want to reprocess the file.  \n",
    "sessionDict = loadSessionDict(analysisParameters,\n",
    "                                  loadParsedData = True,\n",
    "                                  loadProcessedData = True)\n",
    "\n",
    "sessionDict['processed']['subjectNumber'] = subNum\n",
    "sessionDict['processed']['fileName'] = fileName\n"
   ]
  },
  {
   "cell_type": "code",
   "execution_count": 5,
   "metadata": {},
   "outputs": [
    {
     "name": "stderr",
     "output_type": "stream",
     "text": [
      "INFO_processDataE1-gazeAnalysisWindow(): - Added sessionDict['trialInfo']['analysisStartFr']\n",
      "INFO_processDataE1-gazeAnalysisWindow(): - Added sessionDict['trialInfo']['analysisEndFr']\n"
     ]
    }
   ],
   "source": [
    "from processDataE1 import gazeAnalysisWindow\n",
    "sessionDict = gazeAnalysisWindow(sessionDict, analyzeUntilXSToArrival =  .3, \n",
    "                                 stopAtXSToArrival = 0.1)\n"
   ]
  },
  {
   "cell_type": "code",
   "execution_count": 6,
   "metadata": {},
   "outputs": [],
   "source": [
    "tr = sessionDict['processed'].groupby(('blockNumber','trialNumber')).get_group((bNum,tNum))\n",
    "trInfo = sessionDict['trialInfo'].groupby(('blockNumber','trialNumber')).get_group((bNum,tNum))"
   ]
  },
  {
   "cell_type": "markdown",
   "metadata": {},
   "source": [
    "### Parameters"
   ]
  },
  {
   "cell_type": "code",
   "execution_count": 7,
   "metadata": {},
   "outputs": [],
   "source": [
    "winSizeMS = 20\n",
    "polyorder = 3\n",
    "interpResS = .001"
   ]
  },
  {
   "cell_type": "markdown",
   "metadata": {},
   "source": [
    "### Vector movement model"
   ]
  },
  {
   "cell_type": "markdown",
   "metadata": {},
   "source": [
    "# Interpolate trial data"
   ]
  },
  {
   "cell_type": "code",
   "execution_count": 8,
   "metadata": {},
   "outputs": [
    {
     "ename": "NameError",
     "evalue": "name 'savgol_filter' is not defined",
     "output_type": "error",
     "traceback": [
      "\u001b[0;31m---------------------------------------------------------------------------\u001b[0m",
      "\u001b[0;31mNameError\u001b[0m                                 Traceback (most recent call last)",
      "\u001b[0;32m<ipython-input-8-94c3af20e910>\u001b[0m in \u001b[0;36m<module>\u001b[0;34m()\u001b[0m\n\u001b[1;32m     16\u001b[0m \u001b[0;31m# To do:  plot this velocity vs raw velocity for sanity check\u001b[0m\u001b[0;34m\u001b[0m\u001b[0;34m\u001b[0m\u001b[0m\n\u001b[1;32m     17\u001b[0m \u001b[0;31m# ( I had the change parameters for the s-g filter)\u001b[0m\u001b[0;34m\u001b[0m\u001b[0;34m\u001b[0m\u001b[0m\n\u001b[0;32m---> 18\u001b[0;31m cycToBallVelAz_s = savgol_filter(interpBallAz_s, winSizeSamples, polyorder, deriv=1, \n\u001b[0m\u001b[1;32m     19\u001b[0m                                       delta = interpResS, axis=0, mode='constant', cval=1.0)\n\u001b[1;32m     20\u001b[0m \u001b[0;34m\u001b[0m\u001b[0m\n",
      "\u001b[0;31mNameError\u001b[0m: name 'savgol_filter' is not defined"
     ]
    }
   ],
   "source": [
    "winStartTimeMs = analysisParameters['analysisWindowStart']\n",
    "winEndTimeMs = analysisParameters['analysisWindowEnd']\n",
    "\n",
    "trialTime_fr = np.array(tr['frameTime'],np.float) - np.array(tr['frameTime'],np.float)[0]\n",
    "interpTime_s = np.arange(0,trialTime_fr[-1],interpResS)\n",
    "\n",
    "# intepolate ball and gaze Az / El\n",
    "ballRadiusDegs_s = np.interp(interpTime_s,trialTime_fr,np.array(tr['ballRadiusDegs'],dtype=np.float))\n",
    "\n",
    "interpBallAz_s = np.interp(interpTime_s,trialTime_fr,np.array(tr['ball_az'],dtype=np.float))\n",
    "interpBallEl_s = np.interp(interpTime_s,trialTime_fr,np.array(tr['ball_el'],dtype=np.float))\n",
    "\n",
    "interpGazeAz_s = np.interp(interpTime_s,trialTime_fr,np.array(tr['cycGIW_az'],dtype=np.float))\n",
    "interpGazeEl_s = np.interp(interpTime_s,trialTime_fr,np.array(tr['cycGIW_el'],dtype=np.float))\n",
    "\n",
    "# To do:  plot this velocity vs raw velocity for sanity check    \n",
    "# ( I had the change parameters for the s-g filter)\n",
    "cycToBallVelAz_s = savgol_filter(interpBallAz_s, winSizeSamples, polyorder, deriv=1, \n",
    "                                      delta = interpResS, axis=0, mode='constant', cval=1.0)\n",
    "\n",
    "cycToBallVelEl_s = savgol_filter(interpBallEl_s, winSizeSamples, polyorder, deriv=1, \n",
    "                                      delta = interpResS, axis=0, mode='constant', cval=1.0)\n",
    "\n",
    "\n"
   ]
  },
  {
   "cell_type": "code",
   "execution_count": null,
   "metadata": {},
   "outputs": [],
   "source": [
    "\n",
    "distTrav_s = np.cumsum(np.sqrt( np.diff(interpBallAz_s)**2 + np.diff(interpBallEl_s)**2 ) ) \n",
    "distTrav_s = np.hstack([0, distTrav_s])\n",
    "\n",
    "initTTC = float(trInfo['ballInitialPos','Z']) / -float(trInfo['ballInitialVel','Z'])\n",
    "ttcEndSampleIdx = np.where( interpTime_s > initTTC )[0][0]-1\n",
    "\n",
    "passingTime = trialTime_fr[int(trInfo[('passVertPlaneAtPaddleFr', '')])]\n",
    "passingSampleIdx = np.where( interpTime_s > passingTime)[0][0]\n",
    "\n",
    "# Win start/end relative to initial TTC\n",
    "winStartSampleIdx = np.where( interpTime_s > initTTC + winStartTimeMs/1000.0 )[0][0]\n",
    "winEndSampleIdx = np.where( interpTime_s > initTTC + winEndTimeMs/1000.0 )[0][0]\n",
    "\n",
    "# If passing sample idx < window end, raise error\n",
    "if( passingSampleIdx < winEndSampleIdx):\n",
    "    logger.warn('Ball collision occurs within analysis window!')\n",
    "\n",
    "# Find where the ball / gaze actually ended up\n",
    "ballWinStart_AzEl = [interpBallAz_s[winStartSampleIdx], interpBallEl_s[winStartSampleIdx]]\n",
    "ballWinEnd_AzEl = [interpBallAz_s[winEndSampleIdx], interpBallEl_s[winEndSampleIdx]]\n",
    "gazeWinStart_AzEl = [interpGazeAz_s[winStartSampleIdx], interpGazeEl_s[winStartSampleIdx]]\n",
    "gazeWinEnd_AzEl = [interpGazeAz_s[winEndSampleIdx], interpGazeEl_s[winEndSampleIdx]]\n",
    "\n",
    "##  Calculate ball velocity using a savitzky-golay filter\n",
    "from scipy.signal import savgol_filter\n",
    "    \n",
    "winSizeSamples = int( (winSizeMS/1000.) / interpResS)\n",
    "if(np.mod(winSizeSamples,2)==0): \n",
    "    winSizeSamples = winSizeSamples+1\n",
    "    \n",
    "\n",
    "\n",
    "\n",
    "## Fixed path, constant speed model\n",
    "winDurSeconds = interpTime_s[winEndSampleIdx] - interpTime_s[winStartSampleIdx]\n",
    "ballVelAtWinStart = np.sqrt(np.sum(np.power([cycToBallVelAz_s[winStartSampleIdx],\n",
    "                                   cycToBallVelEl_s[winStartSampleIdx]],2)))\n",
    "ballDegsMovement = winDurSeconds * ballVelAtWinStart\n",
    "distRelWinStart_s = distTrav_s - distTrav_s[winStartSampleIdx]\n",
    "constVelCurvSamp =  np.where(distRelWinStart_s > ballDegsMovement)[0][0]\n",
    "\n",
    "ballAtWinEndVelPred_AzEl = [interpBallAz_s[constVelCurvSamp], \n",
    "                            interpBallEl_s[constVelCurvSamp]]\n",
    "\n",
    "\n",
    "# Project gaze onto ball trajectory\n",
    "gazeMinDistLoc_AzEl = np.array([interpBallAz_s[minGazeToWinSamp], interpBallEl_s[minGazeToWinSamp]])\n",
    "# Calculate distance of gaze to model locations\n",
    "gazeToConstantVelDist = np.sqrt(np.sum(np.power(ballAtWinEndVelPred_AzEl - gazeMinDistLoc_AzEl,2)))\n",
    "\n",
    "# Normalize distance along continuum from vel to actual \n",
    "d = distRelWinStart_s\n",
    "modelToModelDist = d[winEndSampleIdx]-d[constVelCurvSamp]\n",
    "normLocInWindow = (d[minGazeToWinSamp] - d[constVelCurvSamp] ) / (modelToModelDist)\n",
    "\n",
    "\n",
    "###  Calculate distances from model centers and the edge of ball \n",
    "gazeToVelCenterDistDegs = np.sqrt(np.sum(np.power(np.array(ballAtWinEndVelPred_AzEl) - np.array(gazeWinEnd_AzEl),2)))\n",
    "gazeToVelEdgeDistDegs = np.sqrt(np.sum(np.power(np.array(ballAtWinEndVelPred_AzEl) - np.array(gazeWinEnd_AzEl),2))) - ballRadiusDegs_s[constVelCurvSamp]\n",
    "\n",
    "gazeToBallDistDegs = np.sqrt(np.sum(np.power(np.array(ballWinEnd_AzEl) - np.array(gazeWinEnd_AzEl),2)))\n",
    "gazeToBallEdgeDistDegs = np.sqrt(np.sum(np.power(np.array(ballWinEnd_AzEl) - np.array(gazeWinEnd_AzEl),2))) - ballRadiusDegs_s[winEndSampleIdx]\n",
    "\n",
    "\n",
    "balllRadiusVel = ballRadiusDegs_s[constVelCurvSamp]\n",
    "ballRadiusWinEnd = ballRadiusDegs_s[winEndSampleIdx]\n"
   ]
  },
  {
   "cell_type": "code",
   "execution_count": null,
   "metadata": {},
   "outputs": [],
   "source": [
    "\n",
    "print(gazeToVelCenterDistDegs)\n",
    "print(gazeToVelEdgeDistDegs)\n",
    "print(gazeToBallDistDegs)\n",
    "print(gazeToBallEdgeDistDegs)\n"
   ]
  },
  {
   "cell_type": "markdown",
   "metadata": {},
   "source": [
    "# Plot constant vel model & observed"
   ]
  },
  {
   "cell_type": "code",
   "execution_count": null,
   "metadata": {},
   "outputs": [],
   "source": [
    "halfHFOVDegs = 80\n",
    "analyzeUntilXSToArrival =  .2\n",
    "stopAtXSToArrival = 0.075\n",
    "\n",
    "endFr = int(trInfo['passVertPlaneAtPaddleFr'])\n",
    "plotFr = tr.index[:endFr]\n",
    "\n",
    "halfVFOVDegs = halfHFOVDegs / 1.77\n",
    "\n",
    "p, ax = plt.subplots(1, 1,figsize=(10,10)) #sharey=True)\n",
    "cList = ['r','g','b']\n",
    "lineHandles = []\n",
    "\n",
    "ballH = ax.plot(tr['ball_az'][plotFr],tr['ball_el'][plotFr],color='b',linewidth=3,alpha = 0.4)\n",
    "gazeH = ax.plot(tr['cycGIW_az'][plotFr],tr['cycGIW_el'][plotFr],color='r',linewidth=3,alpha = 0.4)\n",
    "\n",
    "startFr = int(trInfo['analysisStartFr'])\n",
    "endFr = int(trInfo['analysisEndFr'])\n",
    "\n",
    "windowFr = tr.index[startFr:endFr]\n",
    "wStartFr = windowFr[0]\n",
    "wEndFr = windowFr[-1]\n",
    "\n",
    "from matplotlib import patches as pt\n",
    "\n",
    "ax.add_patch(pt.Circle(ballAtWinEndVelPred_AzEl,radius=balllRadiusVel,\n",
    "            fill=False,facecolor=None,ec='k',lw=5))\n",
    "\n",
    "ax.add_patch(pt.Circle(ballWinEnd_AzEl,radius=ballRadiusWinEnd,\n",
    "             fill=False,facecolor=None,ec='k',lw=5))\n",
    "\n",
    "ax.plot(tr['ball_az'][windowFr],tr['ball_el'][windowFr],color='b',linewidth=5, alpha = 0.6)\n",
    "ax.plot(tr['cycGIW_az'][windowFr],tr['cycGIW_el'][windowFr],color='r',linewidth=5,alpha = 0.6)\n",
    "\n",
    "for pf in windowFr:\n",
    "    xs = [tr['ball_az'][pf], tr['cycGIW_az'][pf]]\n",
    "    ys = [tr['ball_el'][pf], tr['cycGIW_el'][pf]]\n",
    "    ax.plot(xs,ys,color='k',linewidth=1,alpha = 0.3)\n",
    "\n",
    "ax.axis('equal')\n",
    "ax.axes.spines['top'].set_visible(False)\n",
    "ax.axes.spines['right'].set_visible(False)\n",
    "ax.axes.yaxis.grid(True)\n",
    "ax.axes.xaxis.grid(True)\n",
    "p.set_facecolor('w')\n",
    "\n",
    "plt.xlim([-30,30])\n",
    "plt.ylim([-15,35])\n",
    "\n",
    "observedH = ax.scatter(ballWinEnd_AzEl[0],ballWinEnd_AzEl[1],c='k',s=150,marker='8')\n",
    "constantVelH = ax.scatter(ballAtWinEndVelPred_AzEl[0],ballAtWinEndVelPred_AzEl[1],c='k',s=150,marker='v')\n",
    "gazeLoc = ax.scatter(gazeMinDistLoc_AzEl[0],gazeMinDistLoc_AzEl[1],c='m',s=150,marker='x',lw=6)\n",
    "\n",
    "ax.text(.01,.01,str('NormLoc: {0:.2f}').format(normLocInWindow),transform=ax.transAxes)\n",
    "ax.text(.01,.03,str('Expansion gain: {}').format(float(trInfo['expansionGain'])),transform=ax.transAxes)\n",
    "\n",
    "ax.legend([gazeLoc,\n",
    "           constantVelH,\n",
    "           observedH], \n",
    "          \n",
    "          ['point nearest to gaze',\n",
    "           'constant speed model',\n",
    "           'actual displacement'])\n",
    "\n",
    "# ax.text(.01,.01,str('VelModel: {0:.2f}').format(float(trInfo['velPredError'])),transform=ax.transAxes)\n",
    "# ax.text(.01,.04,str('Observed: {0:.2f}').format(float(trInfo['observedError'])),transform=ax.transAxes)\n",
    "\n",
    "# az = trInfo['ballWinEnd_AzEl'].values[0][0]\n",
    "# el = trInfo['ballWinEnd_AzEl'].values[0][1]\n",
    "# ax.text(.01,.07,str('BallWinEnd: {0:.2f} {1:.2f}').format(az,el),transform=ax.transAxes)\n",
    "\n",
    "# az = trInfo['gazeWinEnd_AzEl'].values[0][0]\n",
    "# el = trInfo['gazeWinEnd_AzEl'].values[0][1]\n",
    "# ax.text(.01,.1,str('GazeWinEnd: {0:.2f} {1:.2f}').format(az,el),transform=ax.transAxes)"
   ]
  },
  {
   "cell_type": "code",
   "execution_count": null,
   "metadata": {},
   "outputs": [],
   "source": []
  },
  {
   "cell_type": "code",
   "execution_count": null,
   "metadata": {},
   "outputs": [],
   "source": [
    "# def gazeAnalysisWindow(sessionDict, \n",
    "#     analyzeUntilXSToArrival =  .3, \n",
    "#     stopAtXSToArrival = 0.1):\n",
    "x\n",
    "#     startFr_fr = []\n",
    "#     endFr_fr = []\n",
    "\n",
    "#     gbTrials = sessionDict['processed'].groupby(('blockNumber','trialNumber'))\n",
    "\n",
    "#     for (blockNum,trNum), trialData in gbTrials:\n",
    "\n",
    "#         trInfo = sessionDict['trialInfo'].groupby(('blockNumber','trialNumber')).get_group((blockNum,trNum))\n",
    "#         endFr = int(trInfo['passVertPlaneAtPaddleFr'])\n",
    "\n",
    "#         initTTC = (trialData[('ballInitialPos','Z')].iloc[0] / -trialData[('ballInitialVel','Z')].iloc[0])\n",
    "\n",
    "#         if stopAtXSToArrival == False:\n",
    "\n",
    "#             stopAtXSToArrival = trialData['noExpansionForLastXSeconds'].iloc[1]\n",
    "#         #noExpTimeS = trialData['noExpansionForLastXSeconds'].iloc[1]\n",
    "\n",
    "#         expStopsFr = np.where( np.cumsum(trialData['frameTime'][1:].diff()) > initTTC-stopAtXSToArrival)[0][0]\n",
    "#         endFr = np.min([expStopsFr,endFr])\n",
    "\n",
    "#         timeToArrival_fr = trialData['frameTime'] - trialData['frameTime'].iloc[endFr]\n",
    "#         startFr = np.where(timeToArrival_fr>-analyzeUntilXSToArrival)[0][0]\n",
    "\n",
    "#         startFr_fr.append(startFr)\n",
    "#         endFr_fr.append(endFr)\n",
    "\n",
    "#     sessionDict['trialInfo']['analysisStartFr'] = startFr_fr\n",
    "#     sessionDict['trialInfo']['analysisEndFr'] = endFr_fr\n",
    "\n",
    "#     logger.info('Added sessionDict[\\'trialInfo\\'][\\'analysisStartFr\\']')\n",
    "#     logger.info('Added sessionDict[\\'trialInfo\\'][\\'analysisEndFr\\']')\n",
    "\n",
    "#     return sessionDict\n"
   ]
  },
  {
   "cell_type": "code",
   "execution_count": null,
   "metadata": {},
   "outputs": [],
   "source": []
  }
 ],
 "metadata": {
  "kernelspec": {
   "display_name": "Python 2",
   "language": "python",
   "name": "python2"
  },
  "language_info": {
   "codemirror_mode": {
    "name": "ipython",
    "version": 2
   },
   "file_extension": ".py",
   "mimetype": "text/x-python",
   "name": "python",
   "nbconvert_exporter": "python",
   "pygments_lexer": "ipython2",
   "version": "2.7.14"
  }
 },
 "nbformat": 4,
 "nbformat_minor": 2
}
