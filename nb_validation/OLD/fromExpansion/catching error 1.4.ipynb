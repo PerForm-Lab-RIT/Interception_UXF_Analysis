{
 "cells": [
  {
   "cell_type": "code",
   "execution_count": 1,
   "metadata": {},
   "outputs": [],
   "source": [
    "import sys\n",
    "sys.path.append(\"../Modules/\")\n",
    "sys.path.append(\"../\")\n",
    "import os\n",
    "\n",
    "import pandas as pd\n",
    "import numpy as np\n",
    "\n",
    "from configobj import ConfigObj\n",
    "from configobj import flatten_errors\n",
    "from validate import Validator\n",
    "    \n",
    "import logging\n",
    "\n",
    "#fmt = 'logging.Formatter(''%(levelname)s_%(name)s-%(funcName)s(): - %(message)s'\n",
    "fmt = '%(levelname)s_%(name)s-%(funcName)s(): - %(message)s'\n",
    "logging.basicConfig(level=logging.INFO, format=fmt)\n",
    "logger = logging.getLogger(__name__)\n",
    "\n",
    "import matplotlib\n",
    "import matplotlib.pyplot as plt\n",
    "from mpl_toolkits.mplot3d import Axes3D  # noqa: F401 unused import\n"
   ]
  },
  {
   "cell_type": "code",
   "execution_count": 2,
   "metadata": {},
   "outputs": [
    {
     "data": {
      "text/html": [
       "        <script type=\"text/javascript\">\n",
       "        window.PlotlyConfig = {MathJaxConfig: 'local'};\n",
       "        if (window.MathJax) {MathJax.Hub.Config({SVG: {font: \"STIX-Web\"}});}\n",
       "        if (typeof require !== 'undefined') {\n",
       "        require.undef(\"plotly\");\n",
       "        requirejs.config({\n",
       "            paths: {\n",
       "                'plotly': ['https://cdn.plot.ly/plotly-latest.min']\n",
       "            }\n",
       "        });\n",
       "        require(['plotly'], function(Plotly) {\n",
       "            window._Plotly = Plotly;\n",
       "        });\n",
       "        }\n",
       "        </script>\n",
       "        "
      ]
     },
     "metadata": {},
     "output_type": "display_data"
    }
   ],
   "source": [
    "%matplotlib notebook\n",
    "\n",
    "from plotly.offline import download_plotlyjs, init_notebook_mode, plot, iplot\n",
    "import plotly.graph_objs as go\n",
    "init_notebook_mode(connected=True)"
   ]
  },
  {
   "cell_type": "code",
   "execution_count": 3,
   "metadata": {},
   "outputs": [
    {
     "ename": "SyntaxError",
     "evalue": "Missing parentheses in call to 'print'. Did you mean print(\"Loading system config file: \" + sysCfgPathAndName)? (loadDataE1.py, line 112)",
     "output_type": "error",
     "traceback": [
      "Traceback \u001b[0;36m(most recent call last)\u001b[0m:\n",
      "  File \u001b[1;32m\"/opt/anaconda3/lib/python3.7/site-packages/IPython/core/interactiveshell.py\"\u001b[0m, line \u001b[1;32m3326\u001b[0m, in \u001b[1;35mrun_code\u001b[0m\n    exec(code_obj, self.user_global_ns, self.user_ns)\n",
      "\u001b[0;36m  File \u001b[0;32m\"<ipython-input-3-94d0cf8df205>\"\u001b[0;36m, line \u001b[0;32m5\u001b[0;36m, in \u001b[0;35m<module>\u001b[0;36m\u001b[0m\n\u001b[0;31m    from loadDataE1 import loadSessionDict\u001b[0m\n",
      "\u001b[0;36m  File \u001b[0;32m\"../Modules/loadDataE1.py\"\u001b[0;36m, line \u001b[0;32m112\u001b[0m\n\u001b[0;31m    print \"Loading system config file: \" + sysCfgPathAndName\u001b[0m\n\u001b[0m                                       ^\u001b[0m\n\u001b[0;31mSyntaxError\u001b[0m\u001b[0;31m:\u001b[0m Missing parentheses in call to 'print'. Did you mean print(\"Loading system config file: \" + sysCfgPathAndName)?\n"
     ]
    }
   ],
   "source": [
    "fileTime = '2019-4-25-11-22'\n",
    "from analysisParameters import loadParameters\n",
    "analysisParameters = loadParameters(fileTime)\n",
    "\n",
    "from loadDataE1 import loadSessionDict\n",
    "sessionDict = loadSessionDict(analysisParameters,\n",
    "                              loadParsedData = False,\n",
    "                              loadProcessedData = True)\n",
    "\n",
    "sessionDict['processed']['blockNumber'] = sessionDict['raw']['blockNumber']\n",
    "sessionDict['processed']['trialNumber'] = sessionDict['raw']['trialNumber']"
   ]
  },
  {
   "cell_type": "markdown",
   "metadata": {},
   "source": [
    "# Get data"
   ]
  },
  {
   "cell_type": "code",
   "execution_count": null,
   "metadata": {},
   "outputs": [],
   "source": [
    "gbTrials = sessionDict['processed'].groupby(('blockNumber','trialNumber'))\n",
    "trialData = gbTrials.get_group((1,14))\n",
    "ballHitPaddleOnFr = np.where(trialData['eventFlag']=='ballOnPaddle')[0][0]\n",
    "row = trialData.iloc[ballHitPaddleOnFr]\n",
    "np.sqrt(np.sum(np.power(row.ballPos.values - row.paddlePos.values,2)))"
   ]
  },
  {
   "cell_type": "code",
   "execution_count": null,
   "metadata": {},
   "outputs": [],
   "source": [
    "blockNum = 2\n",
    "trNum = 101\n",
    "\n",
    "idx = sessionDict['trialInfo'].groupby(('blockNumber','trialNumber')).get_group((blockNum,trNum))['passVertPlaneAtPaddleFr']\n",
    "fr = sessionDict['trialInfo'].groupby(('blockNumber','trialNumber')).get_group((blockNum,trNum))['passVertPlaneAtPaddleFr']\n",
    "row = trialData.iloc[fr]\n",
    "bXYZ = row.ballPos.values\n",
    "pXYZ = row.paddlePos.values    \n",
    "\n",
    "#  Ball trajectory direction\n",
    "ballTrajDir_XYZ = (trialData['ballPos'].iloc[10] - trialData['ballPos'].iloc[1]) / np.linalg.norm(trialData['ballPos'].iloc[10] - trialData['ballPos'].iloc[1])\n",
    "ballTrajDir_XYZ = np.array(ballTrajDir_XYZ,dtype=np.float)\n",
    "paddleYDir_xyz = [0,1,0]\n",
    "paddleXDir_xyz = np.cross(-ballTrajDir_XYZ,paddleYDir_xyz)\n",
    "# paddleToBallVec_fr_XYZ = trialData['ballPos'].values - trialData['paddlePos'].values\n",
    "\n",
    "ballRelToPaddle_xyz = np.array(bXYZ-pXYZ).T\n",
    "xErr = np.float(np.dot(paddleXDir_xyz,ballRelToPaddle_xyz))\n",
    "yErr = np.float(np.dot(paddleYDir_xyz,ballRelToPaddle_xyz))    \n",
    "\n",
    "yErr"
   ]
  },
  {
   "cell_type": "code",
   "execution_count": null,
   "metadata": {},
   "outputs": [],
   "source": [
    "blockNum = 2\n",
    "trNum = 101\n",
    "\n",
    "idx = sessionDict['trialInfo'].groupby(('blockNumber','trialNumber')).get_group((blockNum,trNum))['passVertPlaneAtPaddleFr']\n",
    "    \n",
    "# horizontal vec out of paddle, parallel to ground plane\n",
    "a = np.array(trialData['paddleToBallDirXZ'].iloc[idx],dtype=np.float)  \n",
    "b = np.array(trialData.ballPos.iloc[idx] - trialData.paddlePos.iloc[idx],dtype=np.float).T\n",
    "\n",
    "########################################################\n",
    "### Calc paddle-to-ball vector\n",
    "\n",
    "paddleToBallVec_fr_XYZ = trialData['ballPos'].values - trialData['paddlePos'].values\n",
    "paddleToBallDir_fr_XYZ = np.array([np.divide(XYZ,np.linalg.norm(XYZ)) for XYZ in paddleToBallVec_fr_XYZ],dtype=np.float)\n",
    "\n",
    "c = paddleToBallDir_fr_XYZ[idx,:] \n",
    "\n",
    "X = np.dot(a[0],b)\n",
    "Y = np.dot(np.array([0,1,0]),b)\n",
    "Z = np.dot(c,b)\n"
   ]
  },
  {
   "cell_type": "code",
   "execution_count": null,
   "metadata": {},
   "outputs": [],
   "source": [
    "np.array(trialData['paddleToBallDirXZ'].iloc[idx],dtype=np.float)[0]"
   ]
  },
  {
   "cell_type": "code",
   "execution_count": null,
   "metadata": {},
   "outputs": [],
   "source": [
    "X"
   ]
  },
  {
   "cell_type": "code",
   "execution_count": null,
   "metadata": {},
   "outputs": [],
   "source": [
    "Y"
   ]
  },
  {
   "cell_type": "code",
   "execution_count": null,
   "metadata": {},
   "outputs": [],
   "source": [
    "Z"
   ]
  },
  {
   "cell_type": "markdown",
   "metadata": {},
   "source": [
    "# Ball error"
   ]
  },
  {
   "cell_type": "markdown",
   "metadata": {},
   "source": [
    "### Calc ball error for all trials"
   ]
  },
  {
   "cell_type": "code",
   "execution_count": null,
   "metadata": {},
   "outputs": [],
   "source": [
    "gbTrials = sessionDict['processed'].groupby(('blockNumber','trialNumber'))\n",
    "\n",
    "ballInPaddlePlaneX_fr = []\n",
    "ballInPaddlePlaneY_fr = []\n",
    "paddleToBallDist_fr = []\n",
    "\n",
    "for (blockNum,trNum), trialData in gbTrials:\n",
    "    \n",
    "    idx = sessionDict['trialInfo'].groupby(('blockNumber','trialNumber')).get_group((blockNum,trNum))['passVertPlaneAtPaddleFr']\n",
    "    \n",
    "#     paddleToBallDir_fr_XYZ = np.array([np.divide(XYZ,np.linalg.norm(XYZ)) for XYZ in paddleToBallVec_fr_XYZ],dtype=np.float)\n",
    "#     paddleToBallDirXZDf = pd.DataFrame([np.cross([0,1,0],xyz) for xyz in paddleToBallDirDf.values])\n",
    "    \n",
    "    a = np.array(trialData['paddleToBallDirXZ'].iloc[idx],dtype=np.float)  # horizontal vec out of paddle, parallel to ground plane\n",
    "    b = trialData.ballPos.iloc[idx] - trialData.paddlePos.iloc[idx]\n",
    "    ballInPaddlePlaneX_fr.append(np.dot(a[0],b.values[0]))\n",
    "    ballInPaddlePlaneY_fr.append(np.dot(np.array([0,1,0]),b.values[0]))\n",
    "    paddleToBallDist_fr.append(np.sqrt(np.power(ballInPaddlePlaneX_fr[-1],2)+np.power(ballInPaddlePlaneY_fr[-1],2)))\n",
    "    \n",
    "    \n",
    "sessionDict['trialInfo'][('catchingError','X')] = ballInPaddlePlaneX_fr\n",
    "sessionDict['trialInfo'][('catchingError','Y')] = ballInPaddlePlaneY_fr\n",
    "sessionDict['trialInfo'][('catchingError','2D')] =  paddleToBallDist_fr"
   ]
  },
  {
   "cell_type": "code",
   "execution_count": null,
   "metadata": {},
   "outputs": [],
   "source": [
    "sessionDict['trialInfo'][('catchingError','X')].iloc[10]"
   ]
  },
  {
   "cell_type": "markdown",
   "metadata": {},
   "source": [
    "###  Move ball into paddle space"
   ]
  },
  {
   "cell_type": "code",
   "execution_count": null,
   "metadata": {},
   "outputs": [],
   "source": [
    "def paddleToWorldSpace(localBallPos,rowIn):\n",
    "\n",
    "    mat =[]\n",
    "    for i in range(16):\n",
    "        mat.append(rowIn[\"paddleMat\"][str(i)])\n",
    "\n",
    "    # rearrange and transpose\n",
    "    transform_4x4 = np.reshape(mat,[4,4]).T\n",
    "    \n",
    "    # Take the dot product!\n",
    "    ballInWorld_XYZ = np.dot(transform_4x4, np.hstack([localBallPos,1]))\n",
    "\n",
    "    return np.array(ballInWorld_XYZ[0:3])\n",
    "\n",
    "#######################################################"
   ]
  },
  {
   "cell_type": "markdown",
   "metadata": {},
   "source": [
    "# Plot ball in paddle coords and calculate error"
   ]
  },
  {
   "cell_type": "code",
   "execution_count": null,
   "metadata": {},
   "outputs": [],
   "source": [
    "# #procData['ballPos'].values[fr-10:fr]\n",
    "# int(fr)"
   ]
  },
  {
   "cell_type": "markdown",
   "metadata": {},
   "source": [
    "### Figure settings / layout"
   ]
  },
  {
   "cell_type": "code",
   "execution_count": null,
   "metadata": {},
   "outputs": [],
   "source": [
    "\n",
    "width = 800\n",
    "height = 800\n",
    "xRange = [-1,1]\n",
    "yRange = [0,2]\n",
    "zRange = [-1,1]\n",
    "\n",
    "layout = go.Layout(\n",
    "     scene=go.Scene(aspectmode='manual',\n",
    "                xaxis=dict(range=xRange),\n",
    "                yaxis=dict(range=yRange),\n",
    "                zaxis=dict(range=zRange),\n",
    "                camera = dict(up=dict(x=0, y=1, z=0)),\n",
    "                aspectratio=dict(x=1, y=1, z=1),\n",
    "               ),\n",
    "    width=width,\n",
    "    height=height,\n",
    "    showlegend=False,\n",
    "   \n",
    "    margin=go.Margin(t=100),\n",
    "    hovermode='closest',\n",
    "                \n",
    ")"
   ]
  },
  {
   "cell_type": "markdown",
   "metadata": {},
   "source": [
    "### Plot basis"
   ]
  },
  {
   "cell_type": "code",
   "execution_count": null,
   "metadata": {},
   "outputs": [],
   "source": [
    "blNum = 2\n",
    "trNum = 21\n",
    "\n",
    "procData = sessionDict['processed'].groupby(('blockNumber','trialNumber')).get_group((blNum,trNum))\n",
    "trInfo = sessionDict['trialInfo'].groupby(('blockNumber','trialNumber')).get_group((blNum,trNum))\n",
    "fr = int(trInfo['passVertPlaneAtPaddleFr'])\n",
    "row = procData.iloc[fr]\n",
    "\n",
    "np.sqrt(np.sum(np.power(row.ballPos.values - row.paddlePos.values,2)))\n",
    "\n",
    "bXYZ = row.ballPos.values\n",
    "pXYZ = row.paddlePos.values\n",
    "\n",
    "#  Ball trajectory direction\n",
    "ballTrajDir_XYZ = (procData['ballPos'].iloc[10] - procData['ballPos'].iloc[1]) / np.linalg.norm(procData['ballPos'].iloc[10] - procData['ballPos'].iloc[1])\n",
    "paddleYDir_xyz = [0,1,0]\n",
    "paddleXDir_xyz = np.cross(-ballTrajDir_XYZ,paddleYDir_xyz)\n",
    "paddleToBallVec_fr_XYZ = procData['ballPos'].values - procData['paddlePos'].values\n",
    "\n",
    "pX = pXYZ + paddleXDir_xyz\n",
    "pY = pXYZ + paddleYDir_xyz\n",
    "pZ = pXYZ + np.cross([0,1,0],paddleXDir_xyz )\n",
    "\n",
    "# a = np.array(trialData['paddleToBallDirXZ'].iloc[idx],dtype=np.float)  # horizontal vec out of paddle, parallel to ground plane\n",
    "b = np.array(bXYZ-pXYZ)\n",
    "\n",
    "xErr = np.dot(paddleXDir_xyz,b) #/ b.values[0]\n",
    "yErr = np.dot(paddleYDir_xyz,b)\n",
    "print('Xerror: {:3}'.format(xErr))\n",
    "print('Yerror: {:3}'.format(yErr))\n",
    "\n",
    "xsX,ysX,zsX = zip(pX,pXYZ)\n",
    "xsY,ysY,zsY = zip(pY,pXYZ)\n",
    "xsZ,ysZ,zsZ = zip(pZ,pXYZ)\n",
    "\n",
    "paddleCoordsX = go.Scatter3d(x=xsX,\n",
    "                y=ysX,\n",
    "                z=zsX,\n",
    "                mode='lines',\n",
    "                line = dict(\n",
    "                  color=('rgb(255,0,0)'),\n",
    "                  width = 2)\n",
    "                )\n",
    "\n",
    "paddleCoordsY = go.Scatter3d(x=xsY,\n",
    "                y=ysY,\n",
    "                z=zsY,\n",
    "                mode='lines',\n",
    "                line = dict(\n",
    "                  color=('rgb(0,255,0)'),\n",
    "                  width = 2)\n",
    "                )\n",
    "\n",
    "paddleCoordsZ = go.Scatter3d(x=xsZ,\n",
    "                y=ysZ,\n",
    "                z=zsZ,\n",
    "                mode='lines',\n",
    "                line = dict(\n",
    "                  color=('rgb(0,0,255)'),\n",
    "                  width = 2)\n",
    "                )\n",
    "\n",
    "ballPos = go.Scatter3d(x=[bXYZ[0]],\n",
    "                y=[bXYZ[1]],\n",
    "                z=[bXYZ[2]],\n",
    "                mode='markers',\n",
    "                line = dict(\n",
    "                  color=('rgb(100,200,100)'),\n",
    "                  width = 2)\n",
    "                )\n",
    "\n",
    "bXYZ_fr = procData.iloc[fr-10:fr+3].ballPos.values\n",
    "#sessionDict['processed'].iloc[fr-10:fr].ballPos.values\n",
    "xs,ys,zs = zip(*bXYZ_fr)\n",
    "\n",
    "ballTraj = go.Scatter3d(x=xs,\n",
    "                y=ys,\n",
    "                z=zs,\n",
    "                mode='markers+lines',\n",
    "                marker=dict(size=5),\n",
    "                line = dict(\n",
    "                  color=('rgb(100,100,100)'),\n",
    "                  width = 2)\n",
    "                )\n",
    "\n",
    "allTraces=[paddleCoordsX,paddleCoordsY,paddleCoordsZ,ballTraj,ballPos]\n",
    "\n",
    "fig=go.Figure(data=list(allTraces),layout=layout)\n",
    "iplot(fig)"
   ]
  },
  {
   "cell_type": "markdown",
   "metadata": {},
   "source": [
    "# Function"
   ]
  },
  {
   "cell_type": "code",
   "execution_count": null,
   "metadata": {},
   "outputs": [],
   "source": [
    "\n",
    "def calcCatchingError(sessionDict):\n",
    "\n",
    "    ################################################################################\n",
    "    ### Catching error: passVertPlaneAtPaddleErr X, Y, and 2D\n",
    "\n",
    "    ballInPaddlePlaneX_fr = []\n",
    "    ballInPaddlePlaneY_fr = []\n",
    "    paddleToBallDist_fr = []\n",
    "\n",
    "    for (blockNum,trNum), tProcData in sessionDict['processed'].groupby(('blockNumber','trialNumber')):\n",
    "        \n",
    "        fr = sessionDict['trialInfo'].groupby(('blockNumber','trialNumber')).get_group((blockNum,trNum))['passVertPlaneAtPaddleFr']\n",
    "        row = tProcData.iloc[fr]\n",
    "        bXYZ = row.ballPos.values\n",
    "        pXYZ = row.paddlePos.values\n",
    "\n",
    "        #  Ball trajectory direction\n",
    "        ballTrajDir_XYZ = (tProcData['ballPos'].iloc[10] - tProcData['ballPos'].iloc[1]) / np.linalg.norm(tProcData['ballPos'].iloc[10] - tProcData['ballPos'].iloc[1])\n",
    "        paddleYDir_xyz = [0,1,0]\n",
    "        paddleXDir_xyz = np.cross(-ballTrajDir_XYZ,paddleYDir_xyz)\n",
    "        paddleToBallVec_fr_XYZ = tProcData['ballPos'].values - tProcData['paddlePos'].values\n",
    "\n",
    "        ballRelToPaddle_xyz = np.array(bXYZ-pXYZ).T\n",
    "        xErr = np.dot(paddleXDir_xyz,ballRelToPaddle_xyz)\n",
    "        yErr = np.dot(paddleYDir_xyz,ballRelToPaddle_xyz)\n",
    "\n",
    "        ballInPaddlePlaneX_fr.append(xErr)\n",
    "        ballInPaddlePlaneY_fr.append(yErr)\n",
    "        paddleToBallDist_fr.append(np.sqrt(np.power(ballInPaddlePlaneX_fr[-1],2)+np.power(ballInPaddlePlaneY_fr[-1],2)))\n",
    "\n",
    "    sessionDict['trialInfo'][('catchingError','X')] = ballInPaddlePlaneX_fr\n",
    "    sessionDict['trialInfo'][('catchingError','Y')] = ballInPaddlePlaneY_fr\n",
    "    sessionDict['trialInfo'][('catchingError','2D')] =  paddleToBallDist_fr\n",
    "    \n",
    "    return sessionDict\n",
    "\n",
    "sessionDict = calcCatchingError(sessionDict)"
   ]
  },
  {
   "cell_type": "code",
   "execution_count": null,
   "metadata": {},
   "outputs": [],
   "source": [
    "sessionDict['trialInfo'].groupby(('blockNumber','trialNumber')).get_group((2,21))[('catchingError','2D')]\n"
   ]
  },
  {
   "cell_type": "code",
   "execution_count": null,
   "metadata": {},
   "outputs": [],
   "source": [
    "# Xerror: 0.100759095254\n",
    "# Yerror: 0.155460000038\n"
   ]
  },
  {
   "cell_type": "code",
   "execution_count": null,
   "metadata": {},
   "outputs": [],
   "source": []
  }
 ],
 "metadata": {
  "kernelspec": {
   "display_name": "Python 3",
   "language": "python",
   "name": "python3"
  },
  "language_info": {
   "codemirror_mode": {
    "name": "ipython",
    "version": 3
   },
   "file_extension": ".py",
   "mimetype": "text/x-python",
   "name": "python",
   "nbconvert_exporter": "python",
   "pygments_lexer": "ipython3",
   "version": "3.7.4"
  }
 },
 "nbformat": 4,
 "nbformat_minor": 2
}
