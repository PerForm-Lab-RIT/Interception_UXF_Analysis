{
 "cells": [
  {
   "cell_type": "code",
   "execution_count": 1,
   "metadata": {},
   "outputs": [
    {
     "name": "stdout",
     "output_type": "stream",
     "text": [
      "CWD:/Users/gjdpci/Dropbox/Code/Catching - IPD/expansion analysis - UXF 1/Interception_UXF_Analysis\n"
     ]
    }
   ],
   "source": [
    "\n",
    "import os\n",
    "wd = os.getcwd()\n",
    "os.chdir('/'.join(wd.split('/')[:-1])+'/'  )\n",
    "print(\"CWD:\" + os.getcwd())"
   ]
  },
  {
   "cell_type": "code",
   "execution_count": 2,
   "metadata": {},
   "outputs": [
    {
     "name": "stdout",
     "output_type": "stream",
     "text": [
      "CWD:/Users/gjdpci/Dropbox/Code/Catching - IPD/expansion analysis - UXF 1/Interception_UXF_Analysis\n"
     ]
    }
   ],
   "source": [
    "import sys\n",
    "\n",
    "sys.path.append(\"Modules/\")\n",
    "# sys.path.append(\"../Modules/\")\n",
    "sys.path.append(\"/\")\n",
    "\n",
    "\n",
    "import logging\n",
    "import pickle\n",
    "import numpy as np\n",
    "import pandas as pd\n",
    "\n",
    "\n",
    "fmt = '%(levelname)s_%(name)s-%(funcName)s(): - %(message)s'\n",
    "logging.basicConfig(level=logging.INFO, format=fmt)\n",
    "logger = logging.getLogger(__name__)\n",
    "\n",
    "from loadData import unpackSession\n",
    "\n",
    "sys.path.append(\"pyFiles/\")\n",
    "from processData import *"
   ]
  },
  {
   "cell_type": "code",
   "execution_count": 3,
   "metadata": {},
   "outputs": [
    {
     "name": "stderr",
     "output_type": "stream",
     "text": [
      "INFO_loadData-unpackSession(): - Processing session: Data/P_200908161922\n",
      "INFO_loadData-unpackSession(): - Compiling session dict from *.csv.\n",
      "INFO_loadData-processTrial(): - Processing subject: P_200908161922 t = 1 of 29\n"
     ]
    },
    {
     "name": "stdout",
     "output_type": "stream",
     "text": [
      "***> 0: P_200908161922\n",
      "1: P_200825164747\n"
     ]
    },
    {
     "name": "stderr",
     "output_type": "stream",
     "text": [
      "INFO_loadData-processTrial(): - Processing subject: P_200908161922 t = 2 of 29\n",
      "INFO_loadData-processTrial(): - Processing subject: P_200908161922 t = 3 of 29\n",
      "INFO_loadData-processTrial(): - Processing subject: P_200908161922 t = 4 of 29\n",
      "INFO_loadData-processTrial(): - Processing subject: P_200908161922 t = 5 of 29\n",
      "INFO_loadData-processTrial(): - Processing subject: P_200908161922 t = 6 of 29\n",
      "INFO_loadData-processTrial(): - Processing subject: P_200908161922 t = 7 of 29\n",
      "INFO_loadData-processTrial(): - Processing subject: P_200908161922 t = 8 of 29\n",
      "INFO_loadData-processTrial(): - Processing subject: P_200908161922 t = 9 of 29\n",
      "INFO_loadData-processTrial(): - Processing subject: P_200908161922 t = 10 of 29\n",
      "INFO_loadData-processTrial(): - Processing subject: P_200908161922 t = 11 of 29\n",
      "INFO_loadData-processTrial(): - Processing subject: P_200908161922 t = 12 of 29\n",
      "INFO_loadData-processTrial(): - Processing subject: P_200908161922 t = 13 of 29\n",
      "INFO_loadData-processTrial(): - Processing subject: P_200908161922 t = 14 of 29\n",
      "INFO_loadData-processTrial(): - Processing subject: P_200908161922 t = 15 of 29\n",
      "INFO_loadData-processTrial(): - Processing subject: P_200908161922 t = 16 of 29\n",
      "INFO_loadData-processTrial(): - Processing subject: P_200908161922 t = 17 of 29\n",
      "INFO_loadData-processTrial(): - Processing subject: P_200908161922 t = 18 of 29\n",
      "INFO_loadData-processTrial(): - Processing subject: P_200908161922 t = 19 of 29\n",
      "INFO_loadData-processTrial(): - Processing subject: P_200908161922 t = 20 of 29\n",
      "INFO_loadData-processTrial(): - Processing subject: P_200908161922 t = 21 of 29\n",
      "INFO_loadData-processTrial(): - Processing subject: P_200908161922 t = 22 of 29\n",
      "INFO_loadData-processTrial(): - Processing subject: P_200908161922 t = 23 of 29\n",
      "INFO_loadData-processTrial(): - Processing subject: P_200908161922 t = 24 of 29\n",
      "INFO_loadData-processTrial(): - Processing subject: P_200908161922 t = 25 of 29\n",
      "INFO_loadData-processTrial(): - Processing subject: P_200908161922 t = 26 of 29\n",
      "INFO_loadData-processTrial(): - Processing subject: P_200908161922 t = 27 of 29\n",
      "INFO_loadData-processTrial(): - Processing subject: P_200908161922 t = 28 of 29\n",
      "INFO_loadData-processTrial(): - Processing subject: P_200908161922 t = 29 of 29\n"
     ]
    }
   ],
   "source": [
    "subNum = 0\n",
    "\n",
    "sessionDict = unpackSession(subNum, doNotLoad = False)"
   ]
  },
  {
   "cell_type": "code",
   "execution_count": 4,
   "metadata": {},
   "outputs": [],
   "source": [
    "# sessionDict.keys()\n",
    "# saveTemp(sessionDict)"
   ]
  },
  {
   "cell_type": "code",
   "execution_count": 5,
   "metadata": {},
   "outputs": [],
   "source": [
    "# # sessionDictIn = loadTemp()\n",
    "# sessionDict['processedExp']"
   ]
  },
  {
   "cell_type": "code",
   "execution_count": 6,
   "metadata": {},
   "outputs": [],
   "source": [
    "def calcTTA(sessionDict):\n",
    "\n",
    "    def calcTTAForRow(row):\n",
    "        ballDistToEnd = np.sqrt(np.sum((row['ballFinalPos'] - row['ballPos'])**2))\n",
    "        ballVel = np.sqrt(np.sum(row['ballVel']**2))\n",
    "        tta = ballDistToEnd / ballVel\n",
    "        return tta\n",
    "\n",
    "    sessionDict['processedExp']['timeToArrival'] = sessionDict['processedExp'].apply( lambda row: calcTTAForRow(row),axis=1)\n",
    "    return sessionDict"
   ]
  },
  {
   "cell_type": "code",
   "execution_count": 44,
   "metadata": {},
   "outputs": [],
   "source": []
  },
  {
   "cell_type": "code",
   "execution_count": 7,
   "metadata": {},
   "outputs": [
    {
     "data": {
      "text/plain": [
       "MultiIndex([(       'ballPos',    'x'),\n",
       "            (       'ballPos',    'y'),\n",
       "            (       'ballPos',    'z'),\n",
       "            (       'ballRot',    'x'),\n",
       "            (       'ballRot',    'y'),\n",
       "            (       'ballRot',    'z'),\n",
       "            (       'ballVel',    'x'),\n",
       "            (       'ballVel',    'y'),\n",
       "            (       'ballVel',    'z'),\n",
       "            (     'base_data',     ''),\n",
       "            (   'blockNumber',     ''),\n",
       "            (        'camera', 'R0C0'),\n",
       "            (        'camera', 'R0C1'),\n",
       "            (        'camera', 'R0C2'),\n",
       "            (        'camera', 'R0C3'),\n",
       "            (        'camera', 'R1C0'),\n",
       "            (        'camera', 'R1C1'),\n",
       "            (        'camera', 'R1C2'),\n",
       "            (        'camera', 'R1C3'),\n",
       "            (        'camera', 'R2C0'),\n",
       "            (        'camera', 'R2C1'),\n",
       "            (        'camera', 'R2C2'),\n",
       "            (        'camera', 'R2C3'),\n",
       "            (        'camera', 'R3C0'),\n",
       "            (        'camera', 'R3C1'),\n",
       "            (        'camera', 'R3C2'),\n",
       "            (        'camera', 'R3C3'),\n",
       "            (     'cameraPos',    'x'),\n",
       "            (     'cameraPos',    'y'),\n",
       "            (     'cameraPos',    'z'),\n",
       "            (     'cameraRot',    'x'),\n",
       "            (     'cameraRot',    'y'),\n",
       "            (     'cameraRot',    'z'),\n",
       "            (    'confidence',     ''),\n",
       "            ('eye-center0-3d',    'x'),\n",
       "            ('eye-center0-3d',    'y'),\n",
       "            ('eye-center0-3d',    'z'),\n",
       "            ('eye-center1-3d',    'x'),\n",
       "            ('eye-center1-3d',    'y'),\n",
       "            ('eye-center1-3d',    'z'),\n",
       "            (     'frameTime',     ''),\n",
       "            (  'gaze-normal0',    'x'),\n",
       "            (  'gaze-normal0',    'y'),\n",
       "            (  'gaze-normal0',    'z'),\n",
       "            (  'gaze-normal1',    'x'),\n",
       "            (  'gaze-normal1',    'y'),\n",
       "            (  'gaze-normal1',    'z'),\n",
       "            ( 'gaze-point-3d',    'x'),\n",
       "            ( 'gaze-point-3d',    'y'),\n",
       "            ( 'gaze-point-3d',    'z'),\n",
       "            (         'index',     ''),\n",
       "            (      'norm-pos',    'x'),\n",
       "            (      'norm-pos',    'y'),\n",
       "            (        'paddle', 'R0C0'),\n",
       "            (        'paddle', 'R0C1'),\n",
       "            (        'paddle', 'R0C2'),\n",
       "            (        'paddle', 'R0C3'),\n",
       "            (        'paddle', 'R1C0'),\n",
       "            (        'paddle', 'R1C1'),\n",
       "            (        'paddle', 'R1C2'),\n",
       "            (        'paddle', 'R1C3'),\n",
       "            (        'paddle', 'R2C0'),\n",
       "            (        'paddle', 'R2C1'),\n",
       "            (        'paddle', 'R2C2'),\n",
       "            (        'paddle', 'R2C3'),\n",
       "            (        'paddle', 'R3C0'),\n",
       "            (        'paddle', 'R3C1'),\n",
       "            (        'paddle', 'R3C2'),\n",
       "            (        'paddle', 'R3C3'),\n",
       "            (     'paddlePos',    'x'),\n",
       "            (     'paddlePos',    'y'),\n",
       "            (     'paddlePos',    'z'),\n",
       "            (     'paddleRot',    'x'),\n",
       "            (     'paddleRot',    'y'),\n",
       "            (     'paddleRot',    'z'),\n",
       "            ('pupilTimestamp',     ''),\n",
       "            (   'trialNumber',     ''),\n",
       "            (   'world_index',     '')],\n",
       "           )"
      ]
     },
     "execution_count": 7,
     "metadata": {},
     "output_type": "execute_result"
    }
   ],
   "source": [
    "sessionDict['processedExp'].keys()"
   ]
  },
  {
   "cell_type": "code",
   "execution_count": null,
   "metadata": {},
   "outputs": [],
   "source": []
  }
 ],
 "metadata": {
  "kernelspec": {
   "display_name": "Python 3",
   "language": "python",
   "name": "python3"
  },
  "language_info": {
   "codemirror_mode": {
    "name": "ipython",
    "version": 3
   },
   "file_extension": ".py",
   "mimetype": "text/x-python",
   "name": "python",
   "nbconvert_exporter": "python",
   "pygments_lexer": "ipython3",
   "version": "3.7.4"
  }
 },
 "nbformat": 4,
 "nbformat_minor": 2
}
