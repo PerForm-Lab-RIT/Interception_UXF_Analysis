{
 "cells": [
  {
   "cell_type": "code",
   "execution_count": 1,
   "metadata": {},
   "outputs": [],
   "source": [
    "import sys\n",
    "sys.path.append(\"../Modules/\")\n",
    "sys.path.append(\"../\")\n",
    "import os"
   ]
  },
  {
   "cell_type": "code",
   "execution_count": 3,
   "metadata": {},
   "outputs": [],
   "source": [
    "\n",
    "import pandas as pd\n",
    "import numpy as np\n",
    "import pickle\n",
    "    \n",
    "import logging\n",
    "from loadData import unpackSession\n",
    "\n",
    "#fmt = 'logging.Formatter(''%(levelname)s_%(name)s-%(funcName)s(): - %(message)s'\n",
    "fmt = '%(levelname)s_%(name)s-%(funcName)s(): - %(message)s'\n",
    "logging.basicConfig(level=logging.INFO, format=fmt)\n",
    "logger = logging.getLogger(__name__)\n"
   ]
  },
  {
   "cell_type": "markdown",
   "metadata": {},
   "source": [
    "Parse subject data into sessionDict\n",
    "Note that no additional processing has been done (doNotProcess = True)"
   ]
  },
  {
   "cell_type": "code",
   "execution_count": 4,
   "metadata": {},
   "outputs": [],
   "source": [
    "subNum = 0;"
   ]
  },
  {
   "cell_type": "code",
   "execution_count": 5,
   "metadata": {},
   "outputs": [
    {
     "ename": "FileNotFoundError",
     "evalue": "[Errno 2] No such file or directory: 'Data/'",
     "output_type": "error",
     "traceback": [
      "\u001b[0;31m---------------------------------------------------------------------------\u001b[0m",
      "\u001b[0;31mFileNotFoundError\u001b[0m                         Traceback (most recent call last)",
      "\u001b[0;32m<ipython-input-5-cc4e0a7b8bce>\u001b[0m in \u001b[0;36m<module>\u001b[0;34m\u001b[0m\n\u001b[1;32m      8\u001b[0m \u001b[0;34m[\u001b[0m\u001b[0mdataFolderList\u001b[0m\u001b[0;34m.\u001b[0m\u001b[0mappend\u001b[0m\u001b[0;34m(\u001b[0m\u001b[0mname\u001b[0m\u001b[0;34m)\u001b[0m \u001b[0;32mfor\u001b[0m \u001b[0mname\u001b[0m \u001b[0;32min\u001b[0m \u001b[0mos\u001b[0m\u001b[0;34m.\u001b[0m\u001b[0mlistdir\u001b[0m\u001b[0;34m(\u001b[0m\u001b[0;34m\"../Data/\"\u001b[0m\u001b[0;34m)\u001b[0m \u001b[0;32mif\u001b[0m \u001b[0mname\u001b[0m\u001b[0;34m[\u001b[0m\u001b[0;36m0\u001b[0m\u001b[0;34m]\u001b[0m \u001b[0;32mis\u001b[0m \u001b[0;32mnot\u001b[0m \u001b[0;34m'.'\u001b[0m\u001b[0;34m]\u001b[0m\u001b[0;34m;\u001b[0m\u001b[0;34m\u001b[0m\u001b[0;34m\u001b[0m\u001b[0m\n\u001b[1;32m      9\u001b[0m \u001b[0;34m\u001b[0m\u001b[0m\n\u001b[0;32m---> 10\u001b[0;31m \u001b[0msessionDict\u001b[0m \u001b[0;34m=\u001b[0m \u001b[0munpackSession\u001b[0m\u001b[0;34m(\u001b[0m\u001b[0msubNum\u001b[0m\u001b[0;34m)\u001b[0m\u001b[0;34m\u001b[0m\u001b[0;34m\u001b[0m\u001b[0m\n\u001b[0m",
      "\u001b[0;32m~/Dropbox/Code/Catching - IPD/expansion analysis - UXF 1/Interception_UXF_Analysis/Modules/loadData.py\u001b[0m in \u001b[0;36munpackSession\u001b[0;34m(subNum, gazeDataConfidenceThreshold, doNotLoad)\u001b[0m\n\u001b[1;32m    172\u001b[0m     \u001b[0;31m# Get folder/filenames\u001b[0m\u001b[0;34m\u001b[0m\u001b[0;34m\u001b[0m\u001b[0;34m\u001b[0m\u001b[0m\n\u001b[1;32m    173\u001b[0m     \u001b[0mdataFolderList\u001b[0m \u001b[0;34m=\u001b[0m \u001b[0;34m[\u001b[0m\u001b[0;34m]\u001b[0m\u001b[0;34m\u001b[0m\u001b[0;34m\u001b[0m\u001b[0m\n\u001b[0;32m--> 174\u001b[0;31m     \u001b[0;34m[\u001b[0m\u001b[0mdataFolderList\u001b[0m\u001b[0;34m.\u001b[0m\u001b[0mappend\u001b[0m\u001b[0;34m(\u001b[0m\u001b[0mname\u001b[0m\u001b[0;34m)\u001b[0m \u001b[0;32mfor\u001b[0m \u001b[0mname\u001b[0m \u001b[0;32min\u001b[0m \u001b[0mos\u001b[0m\u001b[0;34m.\u001b[0m\u001b[0mlistdir\u001b[0m\u001b[0;34m(\u001b[0m\u001b[0;34m\"Data/\"\u001b[0m\u001b[0;34m)\u001b[0m \u001b[0;32mif\u001b[0m \u001b[0mname\u001b[0m\u001b[0;34m[\u001b[0m\u001b[0;36m0\u001b[0m\u001b[0;34m]\u001b[0m \u001b[0;32mis\u001b[0m \u001b[0;32mnot\u001b[0m \u001b[0;34m'.'\u001b[0m\u001b[0;34m]\u001b[0m\u001b[0;34m\u001b[0m\u001b[0;34m\u001b[0m\u001b[0m\n\u001b[0m\u001b[1;32m    175\u001b[0m \u001b[0;34m\u001b[0m\u001b[0m\n\u001b[1;32m    176\u001b[0m     \u001b[0;32mfor\u001b[0m \u001b[0mi\u001b[0m\u001b[0;34m,\u001b[0m \u001b[0mname\u001b[0m \u001b[0;32min\u001b[0m \u001b[0menumerate\u001b[0m\u001b[0;34m(\u001b[0m\u001b[0mdataFolderList\u001b[0m\u001b[0;34m)\u001b[0m\u001b[0;34m:\u001b[0m\u001b[0;34m\u001b[0m\u001b[0;34m\u001b[0m\u001b[0m\n",
      "\u001b[0;31mFileNotFoundError\u001b[0m: [Errno 2] No such file or directory: 'Data/'"
     ]
    }
   ],
   "source": [
    "# rawDataDF = False\n",
    "# calibDF = False\n",
    "\n",
    "# ### Load dataframes\n",
    "# Remember to set loadParsedData, loadProcessedData.\n",
    "\n",
    "dataFolderList = [];\n",
    "[dataFolderList.append(name) for name in os.listdir(\"../Data/\") if name[0] is not '.'];\n",
    "\n",
    "sessionDict = unpackSession(subNum)\n"
   ]
  },
  {
   "cell_type": "code",
   "execution_count": null,
   "metadata": {
    "scrolled": false
   },
   "outputs": [],
   "source": [
    "list(sessionDict.keys())"
   ]
  },
  {
   "cell_type": "code",
   "execution_count": null,
   "metadata": {},
   "outputs": [],
   "source": [
    "# sessionDict['processed'].loc[:,sessionDict['processed'].columns.duplicated()]"
   ]
  },
  {
   "cell_type": "markdown",
   "metadata": {},
   "source": [
    "### Process the data"
   ]
  },
  {
   "cell_type": "code",
   "execution_count": null,
   "metadata": {},
   "outputs": [],
   "source": [
    "from processDataE1 import *\n",
    "\n",
    "sessionDict['trialInfo'] = sessionDict['trialInfo'].sort_values(['blockNumber','trialNumber'])\n",
    "sessionDict['trialInfo']['fileName'] = analysisParameters['fileName']"
   ]
  },
  {
   "cell_type": "code",
   "execution_count": null,
   "metadata": {},
   "outputs": [],
   "source": [
    "sessionDict['trialInfo'] = sessionDict['trialInfo'].sort_values(['blockNumber','trialNumber'])\n",
    "sessionDict['trialInfo']['fileName'] = analysisParameters['fileName']\n",
    "\n",
    "sessionDict = calcCatchingPlane(sessionDict)\n",
    "sessionDict = findLastFrame(sessionDict)\n",
    "sessionDict = calcCatchingError(sessionDict)\n",
    "\n",
    "sessionDict = gazeAnalysisWindow(sessionDict)\n",
    "sessionDict = calcCycEIH(sessionDict)\n",
    "\n",
    "# sessionDict = calcGIW(sessionDict)\n",
    "# sessionDict = calcCycToBallVector(sessionDict)\n",
    "# sessionDict = calcBallAngularSize(sessionDict)\n",
    "# sessionDict = calcSphericalcoordinates(sessionDict)\n",
    "# sessionDict = calcTrackingError(sessionDict)\n",
    "# sessionDict = calcTTA(sessionDict)\n",
    "# sessionDict = calcSMIDeltaT(sessionDict)\n",
    "# sessionDict = filterAndDiffSignals(sessionDict,analysisParameters)\n",
    "# sessionDict = vectorMovementModel(sessionDict,analysisParameters)\n",
    "# # sessionDict = calcCalibrationQuality(sessionDict,analysisParameters)\n",
    "\n",
    "# sessionDict = setIpdRatioAndPassingLoc(sessionDict)\n",
    "\n",
    "# # pd.to_pickle(sessionDict, analysisParameters['filePath'] + analysisParameters['fileName'] + '-proc.pickle')\n",
    "# # logger.info('Processed data saved to ' + analysisParameters['filePath'] + analysisParameters['fileName'] + '-proc.pickle')\n"
   ]
  },
  {
   "cell_type": "code",
   "execution_count": null,
   "metadata": {
    "scrolled": false
   },
   "outputs": [],
   "source": [
    "list(sessionDict['processed'])"
   ]
  },
  {
   "cell_type": "code",
   "execution_count": null,
   "metadata": {},
   "outputs": [],
   "source": [
    "sessionDict['processed']['cycEyeInHead']"
   ]
  }
 ],
 "metadata": {
  "kernelspec": {
   "display_name": "Python 3",
   "language": "python",
   "name": "python3"
  },
  "language_info": {
   "codemirror_mode": {
    "name": "ipython",
    "version": 3
   },
   "file_extension": ".py",
   "mimetype": "text/x-python",
   "name": "python",
   "nbconvert_exporter": "python",
   "pygments_lexer": "ipython3",
   "version": "3.7.4"
  }
 },
 "nbformat": 4,
 "nbformat_minor": 2
}
