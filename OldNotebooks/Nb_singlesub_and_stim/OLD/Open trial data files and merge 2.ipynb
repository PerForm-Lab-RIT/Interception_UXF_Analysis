{
 "cells": [
  {
   "cell_type": "code",
   "execution_count": 1,
   "metadata": {},
   "outputs": [],
   "source": [
    "import sys\n",
    "sys.path.append(\"../Modules/\")\n",
    "sys.path.append(\"../\")\n",
    "import os\n",
    "\n",
    "import pandas as pd\n",
    "import numpy as np\n",
    "\n",
    "from configobj import ConfigObj\n",
    "from configobj import flatten_errors\n",
    "from validate import Validator\n",
    "    \n",
    "import logging\n",
    "\n",
    "#fmt = 'logging.Formatter(''%(levelname)s_%(name)s-%(funcName)s(): - %(message)s'\n",
    "fmt = '%(levelname)s_%(name)s-%(funcName)s(): - %(message)s'\n",
    "logging.basicConfig(level=logging.INFO, format=fmt)\n",
    "logger = logging.getLogger(__name__)\n"
   ]
  },
  {
   "cell_type": "code",
   "execution_count": 2,
   "metadata": {},
   "outputs": [],
   "source": [
    "pd.options.display.max_columns = None\n",
    "pd.options.display.max_rows = None"
   ]
  },
  {
   "cell_type": "code",
   "execution_count": 3,
   "metadata": {},
   "outputs": [],
   "source": [
    "from chart_studio.plotly import plot, iplot\n",
    "import chart_studio.plotly as py"
   ]
  },
  {
   "cell_type": "code",
   "execution_count": 4,
   "metadata": {},
   "outputs": [],
   "source": [
    "from plotly.graph_objs import *\n",
    "import plotly.graph_objs as go"
   ]
  },
  {
   "cell_type": "markdown",
   "metadata": {},
   "source": [
    "# Subject number"
   ]
  },
  {
   "cell_type": "code",
   "execution_count": 5,
   "metadata": {},
   "outputs": [],
   "source": [
    "subNum = 1;\n",
    "trIdx = 9;\n",
    "gazeConfidenceThreshold = 0.6;"
   ]
  },
  {
   "cell_type": "markdown",
   "metadata": {},
   "source": [
    "### Load dataframe\n",
    "Remember to set loadParsedData, loadProcessedData."
   ]
  },
  {
   "cell_type": "code",
   "execution_count": 6,
   "metadata": {},
   "outputs": [],
   "source": [
    "dataFolderList = [];\n",
    "[dataFolderList.append(name) for name in os.listdir(\"../Data/\") if name[0] is not '.'];\n",
    "\n",
    "dataParentFolder = \"../Data/\" + dataFolderList[subNum];\n",
    "\n",
    "dataSubFolderList = [];\n",
    "[dataSubFolderList.append(name) for name in os.listdir(\"../Data/\" + dataParentFolder) if name[0] is not '.'];\n",
    "\n",
    "dataFolder = dataParentFolder + '/' + dataSubFolderList[0] + '/' \n",
    "\n",
    "gazeDataFolderList = [];\n",
    "[gazeDataFolderList.append(name) for name in os.listdir(dataFolder + 'PupilData') if name[0] is not '.'];\n",
    "\n",
    "pupilSessionFolder = '/' + gazeDataFolderList[0] +  '/' \n",
    "\n",
    "gazeDataFolder = dataFolder + 'PupilData' + pupilSessionFolder"
   ]
  },
  {
   "cell_type": "code",
   "execution_count": 7,
   "metadata": {},
   "outputs": [],
   "source": [
    "trialData = pd.read_csv( dataFolder + 'trial_results.csv')"
   ]
  },
  {
   "cell_type": "code",
   "execution_count": 8,
   "metadata": {},
   "outputs": [],
   "source": [
    "trDataFiles = [i for i in trialData.columns.to_list() if '_filename' in i] "
   ]
  },
  {
   "cell_type": "code",
   "execution_count": 9,
   "metadata": {},
   "outputs": [
    {
     "name": "stderr",
     "output_type": "stream",
     "text": [
      "INFO___main__-<module>(): - Processing subject: P_200917094202 t = 10\n"
     ]
    }
   ],
   "source": [
    "logger.info('Processing subject: ' + trialData.iloc[trIdx]['ppid'] + ' t = ' + str(trialData.iloc[trIdx]['trial_num']))"
   ]
  },
  {
   "cell_type": "markdown",
   "metadata": {},
   "source": [
    "Rename trial data columns"
   ]
  },
  {
   "cell_type": "code",
   "execution_count": 10,
   "metadata": {},
   "outputs": [],
   "source": [
    "trialData.rename(columns={\"session_num\":\"sessionNum\",\"trial_num\":\"trialNum\",\n",
    "                         \"block_num\":\"blockNum\",\"trial_num_in_block\":\"trialNumInBlock\",\n",
    "                         \"start_time\":\"startTime\",\"end_time\":\"endTime\"},inplace=True)"
   ]
  },
  {
   "cell_type": "code",
   "execution_count": 11,
   "metadata": {},
   "outputs": [],
   "source": [
    "# [c for c in trialData.columns[:-len(trDataFiles)]]"
   ]
  },
  {
   "cell_type": "markdown",
   "metadata": {},
   "source": [
    "Get ball data"
   ]
  },
  {
   "cell_type": "code",
   "execution_count": 12,
   "metadata": {},
   "outputs": [
    {
     "data": {
      "text/html": [
       "<div>\n",
       "<style scoped>\n",
       "    .dataframe tbody tr th:only-of-type {\n",
       "        vertical-align: middle;\n",
       "    }\n",
       "\n",
       "    .dataframe tbody tr th {\n",
       "        vertical-align: top;\n",
       "    }\n",
       "\n",
       "    .dataframe thead th {\n",
       "        text-align: right;\n",
       "    }\n",
       "</style>\n",
       "<table border=\"1\" class=\"dataframe\">\n",
       "  <thead>\n",
       "    <tr style=\"text-align: right;\">\n",
       "      <th></th>\n",
       "      <th>frameTime</th>\n",
       "      <th>ballPos_x</th>\n",
       "      <th>ballPos_y</th>\n",
       "      <th>ballPos_z</th>\n",
       "      <th>ballVel_x</th>\n",
       "      <th>ballVel_y</th>\n",
       "      <th>ballVel_z</th>\n",
       "      <th>ballRot_x</th>\n",
       "      <th>ballRot_y</th>\n",
       "      <th>ballRot_z</th>\n",
       "      <th>ballMeshRadius</th>\n",
       "      <th>ballColliderRadius</th>\n",
       "    </tr>\n",
       "  </thead>\n",
       "  <tbody>\n",
       "    <tr>\n",
       "      <th>0</th>\n",
       "      <td>86.37790</td>\n",
       "      <td>-7.6228</td>\n",
       "      <td>2.1296</td>\n",
       "      <td>18.0000</td>\n",
       "      <td>7.7271</td>\n",
       "      <td>4.601</td>\n",
       "      <td>-16.7956</td>\n",
       "      <td>0.0</td>\n",
       "      <td>0.0</td>\n",
       "      <td>0.0</td>\n",
       "      <td>0.12</td>\n",
       "      <td>0.5</td>\n",
       "    </tr>\n",
       "    <tr>\n",
       "      <th>1</th>\n",
       "      <td>86.39147</td>\n",
       "      <td>-7.5370</td>\n",
       "      <td>2.1795</td>\n",
       "      <td>17.8134</td>\n",
       "      <td>7.7271</td>\n",
       "      <td>4.492</td>\n",
       "      <td>-16.7956</td>\n",
       "      <td>0.0</td>\n",
       "      <td>0.0</td>\n",
       "      <td>0.0</td>\n",
       "      <td>0.12</td>\n",
       "      <td>0.5</td>\n",
       "    </tr>\n",
       "    <tr>\n",
       "      <th>2</th>\n",
       "      <td>86.40300</td>\n",
       "      <td>-7.4511</td>\n",
       "      <td>2.2282</td>\n",
       "      <td>17.6268</td>\n",
       "      <td>7.7271</td>\n",
       "      <td>4.383</td>\n",
       "      <td>-16.7956</td>\n",
       "      <td>0.0</td>\n",
       "      <td>0.0</td>\n",
       "      <td>0.0</td>\n",
       "      <td>0.12</td>\n",
       "      <td>0.5</td>\n",
       "    </tr>\n",
       "    <tr>\n",
       "      <th>3</th>\n",
       "      <td>86.41599</td>\n",
       "      <td>-7.3652</td>\n",
       "      <td>2.2757</td>\n",
       "      <td>17.4402</td>\n",
       "      <td>7.7271</td>\n",
       "      <td>4.274</td>\n",
       "      <td>-16.7956</td>\n",
       "      <td>0.0</td>\n",
       "      <td>0.0</td>\n",
       "      <td>0.0</td>\n",
       "      <td>0.12</td>\n",
       "      <td>0.5</td>\n",
       "    </tr>\n",
       "    <tr>\n",
       "      <th>4</th>\n",
       "      <td>86.43719</td>\n",
       "      <td>-7.1935</td>\n",
       "      <td>2.3671</td>\n",
       "      <td>17.0669</td>\n",
       "      <td>7.7271</td>\n",
       "      <td>4.056</td>\n",
       "      <td>-16.7956</td>\n",
       "      <td>0.0</td>\n",
       "      <td>0.0</td>\n",
       "      <td>0.0</td>\n",
       "      <td>0.12</td>\n",
       "      <td>0.5</td>\n",
       "    </tr>\n",
       "  </tbody>\n",
       "</table>\n",
       "</div>"
      ],
      "text/plain": [
       "   frameTime  ballPos_x  ballPos_y  ballPos_z  ballVel_x  ballVel_y  \\\n",
       "0   86.37790    -7.6228     2.1296    18.0000     7.7271      4.601   \n",
       "1   86.39147    -7.5370     2.1795    17.8134     7.7271      4.492   \n",
       "2   86.40300    -7.4511     2.2282    17.6268     7.7271      4.383   \n",
       "3   86.41599    -7.3652     2.2757    17.4402     7.7271      4.274   \n",
       "4   86.43719    -7.1935     2.3671    17.0669     7.7271      4.056   \n",
       "\n",
       "   ballVel_z  ballRot_x  ballRot_y  ballRot_z  ballMeshRadius  \\\n",
       "0   -16.7956        0.0        0.0        0.0            0.12   \n",
       "1   -16.7956        0.0        0.0        0.0            0.12   \n",
       "2   -16.7956        0.0        0.0        0.0            0.12   \n",
       "3   -16.7956        0.0        0.0        0.0            0.12   \n",
       "4   -16.7956        0.0        0.0        0.0            0.12   \n",
       "\n",
       "   ballColliderRadius  \n",
       "0                 0.5  \n",
       "1                 0.5  \n",
       "2                 0.5  \n",
       "3                 0.5  \n",
       "4                 0.5  "
      ]
     },
     "execution_count": 12,
     "metadata": {},
     "output_type": "execute_result"
    }
   ],
   "source": [
    "dataFileName = trialData.iloc[trIdx]['ball_movement_filename']\n",
    "ballData = pd.read_csv( dataFolder + dataFileName)\n",
    "ballData = ballData.rename(columns={\"time\": \"frameTime\"})\n",
    "ballData.head()"
   ]
  },
  {
   "cell_type": "code",
   "execution_count": null,
   "metadata": {},
   "outputs": [],
   "source": [
    "ballData.rename(columns={\"pos_x\": \"ballPos_x\", \"pos_y\": \"ballPos_y\",\"pos_z\": \"ballPos_z\"},inplace=True)\n",
    "ballData.rename(columns={\"rot_x\": \"ballRot_x\", \"rot_y\": \"ballRot_y\",\"rot_z\": \"ballRot_z\"},inplace=True)\n",
    "ballData.head()"
   ]
  },
  {
   "cell_type": "code",
   "execution_count": null,
   "metadata": {},
   "outputs": [],
   "source": [
    "dataFileName = trialData.iloc[trIdx]['paddle_movement_filename']\n",
    "paddleData = pd.read_csv( dataFolder + dataFileName)\n",
    "paddleData = paddleData.rename(columns={\"time\": \"frameTime\"})\n",
    "paddleData.head()"
   ]
  },
  {
   "cell_type": "code",
   "execution_count": null,
   "metadata": {},
   "outputs": [],
   "source": [
    "dataFileName = trialData.iloc[trIdx]['camera_movement_filename']\n",
    "viewData = pd.read_csv( dataFolder + dataFileName)\n",
    "viewData = viewData.rename(columns={\"time\": \"frameTime\"})\n",
    "viewData.head()"
   ]
  },
  {
   "cell_type": "code",
   "execution_count": null,
   "metadata": {},
   "outputs": [],
   "source": [
    "if( len(ballData) == 0 ):\n",
    "    rawTrialData = viewData.reindex(viewData.columns.union(ballData.columns), axis=1)\n",
    "else:\n",
    "    rawTrialData = pd.merge(viewData, ballData, on ='frameTime',validate= 'one_to_many')\n",
    "\n",
    "if( len(paddleData) == 0 ):\n",
    "    rawTrialData = rawTrialData.reindex(viewData.columns.union(paddleData.columns), axis=1)\n",
    "else:\n",
    "    rawTrialData = pd.merge(rawTrialData, paddleData, on ='frameTime',validate= 'one_to_many')"
   ]
  },
  {
   "cell_type": "code",
   "execution_count": null,
   "metadata": {},
   "outputs": [],
   "source": [
    "dataFileName = trialData.iloc[trIdx]['pupil_pupilTimeStamp_filename']\n",
    "pupilTimestampData = pd.read_csv( dataFolder + dataFileName)\n",
    "pupilTimestampData = pupilTimestampData.rename(columns={\"time\": \"frameTime\"})\n",
    "\n",
    "rawTrialData = pd.merge( rawTrialData, pupilTimestampData, on ='frameTime',validate= 'one_to_many')"
   ]
  },
  {
   "cell_type": "code",
   "execution_count": null,
   "metadata": {
    "scrolled": false
   },
   "outputs": [],
   "source": [
    "rawTrialData['trialNumber'] = trialData.iloc[trIdx]['trialNum'].astype(int)\n",
    "rawTrialData['blockNumber'] = trialData.iloc[trIdx]['blockNum'].astype(int)\n",
    "rawTrialData.head()"
   ]
  },
  {
   "cell_type": "markdown",
   "metadata": {},
   "source": [
    "#  Import gaze data"
   ]
  },
  {
   "cell_type": "code",
   "execution_count": null,
   "metadata": {},
   "outputs": [],
   "source": [
    "gazeDataFolderList = []\n",
    "[gazeDataFolderList.append(name) for name in os.listdir(dataFolder + 'PupilData') if name[0] is not '.']\n",
    "\n",
    "pupilSessionFolder = '/' + gazeDataFolderList[0] \n",
    "gazeDataFolder = dataFolder + 'PupilData' + pupilSessionFolder\n",
    "\n",
    "try:\n",
    "    pupilExportsFolder = []\n",
    "    [pupilExportsFolder.append(name) for name in os.listdir(gazeDataFolder + '/Exports') if name[0] is not '.']\n",
    "\n",
    "    # Defaults to the most recent pupil export folder (highest number)\n",
    "    gazePositionsDF = pd.read_csv( gazeDataFolder + '/Exports/' + pupilExportsFolder[-1] + '/gaze_positions.csv' )\n",
    "    gazePositionsDF.head()\n",
    "except:\n",
    "    logger.exception('No gaze_positions.csv.  Process and export data in Pupil Player.')\n",
    "    "
   ]
  },
  {
   "cell_type": "code",
   "execution_count": null,
   "metadata": {},
   "outputs": [],
   "source": [
    "gazePositionsDF.sort_values(by='gaze_timestamp',inplace=True)\n",
    "gazePositionsDF.head()"
   ]
  },
  {
   "cell_type": "code",
   "execution_count": null,
   "metadata": {
    "scrolled": false
   },
   "outputs": [],
   "source": [
    "gazePositionsDF = gazePositionsDF.rename(columns={\"gaze_timestamp\": \"pupilTimestamp\"})"
   ]
  },
  {
   "cell_type": "markdown",
   "metadata": {},
   "source": [
    "# Filter by confidence"
   ]
  },
  {
   "cell_type": "markdown",
   "metadata": {},
   "source": [
    "* For each trial, find the window of gaze data in gazePositionsDF, and interpolate to match those timestamps.  Then, merge, and append."
   ]
  },
  {
   "cell_type": "code",
   "execution_count": null,
   "metadata": {
    "scrolled": false
   },
   "outputs": [],
   "source": [
    "gbBlTr = rawTrialData.groupby(['blockNumber','trialNumber'])\n",
    "tr = gbBlTr.get_group( list(gbBlTr.groups.keys())[0])\n",
    "\n",
    "firstTS = tr.head(1)['pupilTimestamp']\n",
    "lastTS = tr.tail(1)['pupilTimestamp']\n",
    "firstIdx = list(map(lambda i: i> float(firstTS), gazePositionsDF['pupilTimestamp'])).index(True) \n",
    "lastIdx = list(map(lambda i: i> float(lastTS), gazePositionsDF['pupilTimestamp'])).index(True) \n",
    "rawGazeData = gazePositionsDF.loc[firstIdx:lastIdx]\n"
   ]
  },
  {
   "cell_type": "code",
   "execution_count": null,
   "metadata": {
    "scrolled": false
   },
   "outputs": [],
   "source": [
    "filteredGazeData = rawGazeData.reset_index().drop(np.where(rawGazeData['confidence'] < gazeConfidenceThreshold )[0])\n",
    "\n",
    "rawTrialData.head()"
   ]
  },
  {
   "cell_type": "code",
   "execution_count": null,
   "metadata": {},
   "outputs": [],
   "source": [
    "firstTS"
   ]
  },
  {
   "cell_type": "code",
   "execution_count": null,
   "metadata": {},
   "outputs": [],
   "source": [
    "lastTS"
   ]
  },
  {
   "cell_type": "code",
   "execution_count": null,
   "metadata": {},
   "outputs": [],
   "source": [
    "firstIdx"
   ]
  },
  {
   "cell_type": "code",
   "execution_count": null,
   "metadata": {},
   "outputs": [],
   "source": [
    "lastIdx"
   ]
  },
  {
   "cell_type": "markdown",
   "metadata": {},
   "source": [
    "# Merge rawTrialData and trGazeData "
   ]
  },
  {
   "cell_type": "code",
   "execution_count": null,
   "metadata": {},
   "outputs": [],
   "source": [
    "# print(len(rawTrialData['pupilTimestamp'].unique()))\n",
    "# print(len(rawTrialData['pupilTimestamp']))"
   ]
  },
  {
   "cell_type": "code",
   "execution_count": null,
   "metadata": {},
   "outputs": [],
   "source": [
    "# print( len(rawTrialData) + len(trGazeData) )"
   ]
  },
  {
   "cell_type": "code",
   "execution_count": null,
   "metadata": {},
   "outputs": [],
   "source": [
    "interpDF = pd.merge( rawTrialData, filteredGazeData, on ='pupilTimestamp',how='outer')\n",
    "interpDF = interpDF.interpolate(method='linear',downcast='infer')\n",
    "len(interpDF)"
   ]
  },
  {
   "cell_type": "markdown",
   "metadata": {},
   "source": [
    "# Convert to a multilevel index"
   ]
  },
  {
   "cell_type": "code",
   "execution_count": null,
   "metadata": {},
   "outputs": [],
   "source": [
    "interpDF.head()"
   ]
  },
  {
   "cell_type": "code",
   "execution_count": null,
   "metadata": {
    "scrolled": false
   },
   "outputs": [],
   "source": [
    "def convertColumn(labelIn):\n",
    "\n",
    "    s = labelIn.split('_')\n",
    "    labelOut = ''\n",
    "    \n",
    "    if len(s) is 2:\n",
    "        \n",
    "        # otherwise, its already a scalar\n",
    "        (first,second) = s\n",
    "        return (first,second)\n",
    "\n",
    "    elif len(s) == 3 :\n",
    "        \n",
    "        (first,desc,second)= s\n",
    "        return (first,second)\n",
    "\n",
    "\n",
    "    else:\n",
    "        return (labelIn,'')\n",
    "            \n",
    "def replaceGazeDataColumns(labelIn):\n",
    "    \n",
    "    s = labelIn.split('_')\n",
    "    \n",
    "    if( labelIn.split('_')[-1] == 'x' or  labelIn.split('_')[-1] == 'y' or labelIn.split('_')[-1] == 'z' ):\n",
    "        \n",
    "        top = '-'.join(labelIn.split('_')[:-1])\n",
    "        bottom = labelIn.split('_')[-1]\n",
    "        return (top,bottom)\n",
    "    \n",
    "    else:\n",
    "        \n",
    "        return (labelIn,'')\n"
   ]
  },
  {
   "cell_type": "markdown",
   "metadata": {},
   "source": [
    "Convert interpolated dataframe and gaze dataframe to multiinedex"
   ]
  },
  {
   "cell_type": "code",
   "execution_count": null,
   "metadata": {},
   "outputs": [],
   "source": [
    "newColList = [convertColumn(c) for c in interpDF.columns[:len(rawTrialData.columns)]]\n",
    "newGazeColList = [ replaceGazeDataColumns(c) for c in interpDF.columns[(len(rawTrialData.columns)):] ]\n",
    "newColList.extend(newGazeColList)\n",
    "interpDF.columns = pd.MultiIndex.from_tuples(newColList)\n",
    "interpDF.head()"
   ]
  },
  {
   "cell_type": "markdown",
   "metadata": {},
   "source": [
    "Assign trial data to interception dataframe or calibration trial dataframe"
   ]
  },
  {
   "cell_type": "code",
   "execution_count": null,
   "metadata": {},
   "outputs": [],
   "source": [
    "rawDataDF = False\n",
    "calibDF = False\n",
    "\n",
    "if (trialData.iloc[trIdx]['trialType'] == 'interception'):\n",
    "    if( rawDataDF is False): \n",
    "        rawDataDF = interpDF\n",
    "    else:\n",
    "        rawDataDF = rawDataDF.append(interpDF)\n",
    "    \n",
    "elif(trialData.iloc[trIdx]['trialType'] == 'CalibrationAssessment'):\n",
    "\n",
    "    if( calibDF is False): \n",
    "        calibDF = interpDF\n",
    "    else:\n",
    "        calibDF = rawDataDF.append(interpDF)\n",
    "    "
   ]
  },
  {
   "cell_type": "markdown",
   "metadata": {},
   "source": [
    "Convert trial data to multiindex"
   ]
  },
  {
   "cell_type": "code",
   "execution_count": null,
   "metadata": {},
   "outputs": [],
   "source": [
    "# calibDF.keys()"
   ]
  },
  {
   "cell_type": "markdown",
   "metadata": {},
   "source": [
    "# Convert trialData to multiindex"
   ]
  },
  {
   "cell_type": "code",
   "execution_count": null,
   "metadata": {},
   "outputs": [],
   "source": [
    "newColList = [convertColumn(c) for c in trialData.columns[:-len(trDataFiles)]]\n",
    "newColList.extend([replaceGazeDataColumns(c) for c in trialData.columns[-len(trDataFiles):]])\n",
    "trialData.columns = pd.MultiIndex.from_tuples(newColList)\n",
    "trialData.head()"
   ]
  },
  {
   "cell_type": "markdown",
   "metadata": {},
   "source": [
    "# Experiment info"
   ]
  },
  {
   "cell_type": "code",
   "execution_count": null,
   "metadata": {},
   "outputs": [],
   "source": [
    "    "
   ]
  },
  {
   "cell_type": "code",
   "execution_count": null,
   "metadata": {},
   "outputs": [],
   "source": []
  },
  {
   "cell_type": "markdown",
   "metadata": {},
   "source": [
    "# Plot some values to compare against interpolation"
   ]
  },
  {
   "cell_type": "code",
   "execution_count": null,
   "metadata": {},
   "outputs": [],
   "source": [
    "import matplotlib.pyplot as plt\n",
    "%matplotlib inline"
   ]
  },
  {
   "cell_type": "code",
   "execution_count": null,
   "metadata": {
    "scrolled": true
   },
   "outputs": [],
   "source": [
    "plt.ion()\n",
    "fig, ax = plt.subplots()  # Create a figure containing a single axes.\n",
    "\n",
    "\n",
    "ax.plot(rawTrialData['frameTime'], rawTrialData['paddlePos_x'],linewidth=2)\n",
    "ax.plot(interpDF['frameTime'], interpDF[('paddlePos','x')],'-.',linewidth=1)\n"
   ]
  },
  {
   "cell_type": "markdown",
   "metadata": {},
   "source": [
    "# Explore data"
   ]
  },
  {
   "cell_type": "code",
   "execution_count": null,
   "metadata": {},
   "outputs": [],
   "source": [
    "interpDF.keys()"
   ]
  },
  {
   "cell_type": "code",
   "execution_count": null,
   "metadata": {},
   "outputs": [],
   "source": [
    "interpDF['cameraPos'].head() - interpDF[('gaze-point-3d')].head()"
   ]
  },
  {
   "cell_type": "code",
   "execution_count": null,
   "metadata": {},
   "outputs": [],
   "source": [
    "def calcGIW(sessionDictIn):\n",
    "\n",
    "    def calcGIW(rowIn):\n",
    "        \n",
    "        a =  rowIn['gaze-point-3d'] - rowIn['cameraPos']\n",
    "        cycGIWDir_XYZ = a / np.linalg.norm(a)\n",
    "        return {('cycGIWDir','x'): cycGIWDir_XYZ[0],('cycGIWDir','y'): cycGIWDir_XYZ[1],('cycGIWDir','z'): cycGIWDir_XYZ[2]}\n",
    "\n",
    "    cycGIWDf = sessionDictIn['processedExp'].apply(lambda rowIn: calcGIW(rowIn),axis=1)\n",
    "    cycGIWDf = pd.DataFrame.from_records(cycGIWDf)\n",
    "\n",
    "    sessionDictIn['processed'] = sessionDictIn['processed'].join(cycGIWDf)\n",
    "    logger.info('Added sessionDict[\\'processedExp\\'][\\'cycGIWDir\\']')\n",
    "\n",
    "    return sessionDictIn"
   ]
  },
  {
   "cell_type": "code",
   "execution_count": null,
   "metadata": {},
   "outputs": [],
   "source": [
    "\n",
    "interpDF.apply(lambda rowIn: calcGIW(rowIn),axis=1)\n"
   ]
  }
 ],
 "metadata": {
  "kernelspec": {
   "display_name": "Python 3",
   "language": "python",
   "name": "python3"
  },
  "language_info": {
   "codemirror_mode": {
    "name": "ipython",
    "version": 3
   },
   "file_extension": ".py",
   "mimetype": "text/x-python",
   "name": "python",
   "nbconvert_exporter": "python",
   "pygments_lexer": "ipython3",
   "version": "3.7.4"
  }
 },
 "nbformat": 4,
 "nbformat_minor": 2
}
