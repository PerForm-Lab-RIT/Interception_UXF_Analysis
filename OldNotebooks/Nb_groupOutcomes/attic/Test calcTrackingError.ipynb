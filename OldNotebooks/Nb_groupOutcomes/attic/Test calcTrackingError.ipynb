{
 "cells": [
  {
   "cell_type": "code",
   "execution_count": 1,
   "metadata": {},
   "outputs": [],
   "source": [
    "import sys\n",
    "sys.path.append(\"../Modules/\")\n",
    "sys.path.append(\"../\")\n",
    "import os\n",
    "\n",
    "import pandas as pd\n",
    "import numpy as np\n",
    "\n",
    "from configobj import ConfigObj\n",
    "from configobj import flatten_errors\n",
    "from validate import Validator\n",
    "    \n",
    "import logging\n",
    "\n",
    "#fmt = 'logging.Formatter(''%(levelname)s_%(name)s-%(funcName)s(): - %(message)s'\n",
    "fmt = '%(levelname)s_%(name)s-%(funcName)s(): - %(message)s'\n",
    "logging.basicConfig(level=logging.INFO, format=fmt)\n",
    "logger = logging.getLogger(__name__)\n"
   ]
  },
  {
   "cell_type": "code",
   "execution_count": 2,
   "metadata": {},
   "outputs": [
    {
     "data": {
      "text/plain": [
       "['2018-4-30-13-49',\n",
       " '2018-4-26-11-31',\n",
       " '2018-4-27-12-32',\n",
       " '2018-4-30-15-4',\n",
       " '2018-4-26-15-49',\n",
       " '2018-4-27-11-16',\n",
       " '2018-4-26-12-30',\n",
       " '2018-4-27-13-41']"
      ]
     },
     "execution_count": 2,
     "metadata": {},
     "output_type": "execute_result"
    }
   ],
   "source": [
    "fileTimeList = [];\n",
    "[fileTimeList.append(name) for name in os.listdir(\"../Data/\") if name[0] is not '.'];\n",
    "fileTimeList"
   ]
  },
  {
   "cell_type": "code",
   "execution_count": 3,
   "metadata": {},
   "outputs": [],
   "source": [
    "# fileTimeList = [fileTimeList[1]]\n",
    "# fileTimeList"
   ]
  },
  {
   "cell_type": "code",
   "execution_count": null,
   "metadata": {},
   "outputs": [
    {
     "data": {
      "text/plain": [
       "'2018-4-30-13-49'"
      ]
     },
     "execution_count": 4,
     "metadata": {},
     "output_type": "execute_result"
    }
   ],
   "source": [
    "fileTimeList[0]"
   ]
  },
  {
   "cell_type": "code",
   "execution_count": null,
   "metadata": {
    "scrolled": false
   },
   "outputs": [
    {
     "name": "stderr",
     "output_type": "stream",
     "text": [
      "INFO_loadDataE1-loadSessionDict(): - Parsing raw data: exp_data-2018-4-30-13-49 ***\n"
     ]
    }
   ],
   "source": [
    "from analysisParameters import loadParameters\n",
    "from loadDataE1 import loadSessionDict\n",
    "\n",
    "from processDataE1 import projectTrajectories, vectorMovementModel, calcCatchingError, calcTrackingError\n",
    "sessionFiles = []\n",
    "\n",
    "subNum = 0\n",
    "fileName = fileTimeList[0]\n",
    "#for subNum, fileName in enumerate(fileTimeList):\n",
    "\n",
    "analysisParameters = loadParameters(fileName)\n",
    "\n",
    "# set loadProcessedData to True if you want to reprocess the file.  \n",
    "sessionDict = loadSessionDict(analysisParameters,\n",
    "                              loadParsedData = False,\n",
    "                              loadProcessedData = False,\n",
    "                                )\n",
    "\n",
    "sessionDict['trialInfo']['subjectNumber'] = subNum\n"
   ]
  },
  {
   "cell_type": "code",
   "execution_count": null,
   "metadata": {},
   "outputs": [],
   "source": [
    "# sessionDict['trialInfo']['trialNumber']\n",
    "#sessionDict['raw'].eventFlag \n",
    "a = sessionDict['raw'].eventFlag.shift(-1)\n",
    "a.iloc[-1] = 'trialEnd'"
   ]
  },
  {
   "cell_type": "code",
   "execution_count": null,
   "metadata": {},
   "outputs": [],
   "source": [
    "expansionGain_tr = [np.nan] * len(sessionDict['trialInfo'])\n",
    "passingLocX_tr = [np.nan] * len(sessionDict['trialInfo'])\n",
    "\n",
    "for (blockNum,trialNum), trialData in sessionDict['processed'].groupby(('blockNumber','trialNumber')):\n",
    "\n",
    "    tInfoIloc = np.intersect1d(np.where(sessionDict['trialInfo']['blockNumber']==blockNum),\n",
    "                           np.where(sessionDict['trialInfo']['trialNumber']==trialNum))[0]\n",
    "\n",
    "    tt = trialData.trialType.iloc[1]\n",
    "    expansionGain_tr[tInfoIloc] = sessionDict['expConfig']['trialTypes'][tt]['expansionGain']\n",
    "    passingLocX_tr[tInfoIloc] = sessionDict['expConfig']['trialTypes'][tt]['passingLocNormX']\n",
    "\n",
    "sessionDict['trialInfo']['expansionGain'] = np.array(expansionGain_tr,dtype=np.float)\n",
    "sessionDict['trialInfo']['passingLocX'] = np.array(passingLocX_tr,dtype=np.float)\n",
    "\n",
    "logger.info('Added sessionDict[\\'trialInfo\\'][\\'expansionGain\\']')\n",
    "logger.info('Added sessionDict[\\'trialInfo\\'][\\'passingLocX\\']')"
   ]
  },
  {
   "cell_type": "code",
   "execution_count": null,
   "metadata": {
    "scrolled": true
   },
   "outputs": [],
   "source": [
    "#def calcTrackingError(sessionDict):\n",
    "\n",
    "from processDataE1 import findAnalysisWindow\n",
    "meanEyeToBallEdgeAz_tr = [np.nan] * len(sessionDict['trialInfo'])\n",
    "meanEyeToBallCenterAz_tr = [np.nan] * len(sessionDict['trialInfo'])\n",
    "\n",
    "meanEyeToBallEdge_tr = [np.nan] * len(sessionDict['trialInfo'])\n",
    "meanEyeToBallCenter_tr = [np.nan] * len(sessionDict['trialInfo'])\n",
    "\n",
    "ballChangeInRadiusDegs_tr = [np.nan] * len(sessionDict['trialInfo'])\n",
    "\n",
    "for (blockNum,trialNum), trialData in sessionDict['processed'].groupby(('blockNumber','trialNumber')):\n",
    "\n",
    "    tInfoIloc = np.intersect1d(np.where(sessionDict['trialInfo']['blockNumber']==blockNum),\n",
    "                           np.where(sessionDict['trialInfo']['trialNumber']==trialNum))[0]\n",
    "\n",
    "    def calcEyeToBallCenter(row):\n",
    "        # The difference along az and el\n",
    "        azimuthalDist = row['cycGIW_az'] - row['ball_az']\n",
    "        elevationDist = row['cycGIW_el'] - row['ball_el']\n",
    "        return (azimuthalDist,elevationDist)\n",
    "\n",
    "    def calcEyeToBallEdge(row):\n",
    "        # The difference along az and el\n",
    "        azimuthalDist = row['cycGIW_az'] - row['ball_az']\n",
    "        elevationDist = row['cycGIW_el'] - row['ball_el']\n",
    "\n",
    "        ballRadiusDegs = np.float(row['ballRadiusDegs'])\n",
    "\n",
    "        if np.float(azimuthalDist) > 0:\n",
    "            azimuthalDist -= ballRadiusDegs\n",
    "        else:\n",
    "            azimuthalDist += ballRadiusDegs\n",
    "\n",
    "        return (azimuthalDist,elevationDist)\n",
    "\n",
    "    (startFr, endFr) = findAnalysisWindow(trialData)\n",
    "    endFr = endFr-1\n",
    "\n",
    "    absAzEl_XYZ = sessionDict['processed'].iloc[startFr:endFr].apply(lambda row: calcEyeToBallCenter(row), axis=1)\n",
    "    (azDist,elDist) = zip(*absAzEl_XYZ)\n",
    "\n",
    "    meanEyeToBallCenterAz_tr[tInfoIloc] = np.mean(azDist)\n",
    "    meanEyeToBallCenter_tr[tInfoIloc] = np.nanmean([np.sqrt(np.float(fr[0]*fr[0] + fr[1]* fr[1])) for fr in absAzEl_XYZ ])\n",
    "\n",
    "    absAzEl_XYZ = sessionDict['processed'].iloc[startFr:endFr].apply(lambda row: calcEyeToBallEdge(row), axis=1)\n",
    "    (azDist,elDist) = zip(*absAzEl_XYZ)\n",
    "    meanEyeToBallEdgeAz_tr[tInfoIloc] = np.mean(azDist)\n",
    "    meanEyeToBallEdge_tr[tInfoIloc] = np.nanmean([np.sqrt(np.float(fr[0]*fr[0] + fr[1]* fr[1])) for fr in absAzEl_XYZ ])\n",
    "\n",
    "    radiusAtStart = sessionDict['processed']['ballRadiusDegs'].iloc[startFr]\n",
    "    radiusAtEnd = sessionDict['processed']['ballRadiusDegs'].iloc[endFr]\n",
    "    ballChangeInRadiusDegs_tr[tInfoIloc] = radiusAtEnd - radiusAtStart\n",
    "\n",
    "### Outside trial loop\n",
    "sessionDict['trialInfo']['meanEyeToBallCenterAz'] = meanEyeToBallCenterAz_tr\n",
    "sessionDict['trialInfo']['meanEyeToBallEdgeAz'] = meanEyeToBallEdgeAz_tr\n",
    "\n",
    "sessionDict['trialInfo']['meanEyeToBallCenter'] = meanEyeToBallCenter_tr\n",
    "sessionDict['trialInfo']['meanEyeToBallEdge'] = meanEyeToBallEdge_tr\n",
    "\n",
    "sessionDict['trialInfo']['ballChangeInRadiusDegs'] = ballChangeInRadiusDegs_tr\n"
   ]
  },
  {
   "cell_type": "code",
   "execution_count": null,
   "metadata": {},
   "outputs": [],
   "source": [
    "#sessionDict['raw'].eventFlag = sessionDict['raw'].eventFlag.shift(-1)\n",
    "\n",
    "#sessionDict['raw'].groupby(['trialNumber','blockNumber']).get_group((1,0))\n",
    "#sessionDict['processed'].groupby(('blockNumber','trialNumber')).groups.keys()\n",
    "#sessionDict['raw'].groupby(['blockNumber','trialNumber']).get_group((1,2)).eventFlag\n",
    "# Series.shift(periods=1, freq=None, axis=0, fill_value=None)[source]¶\n"
   ]
  },
  {
   "cell_type": "code",
   "execution_count": null,
   "metadata": {},
   "outputs": [],
   "source": [
    "sessionDict['trialInfo']"
   ]
  },
  {
   "cell_type": "code",
   "execution_count": null,
   "metadata": {},
   "outputs": [],
   "source": [
    "absAzEl_XYZ"
   ]
  }
 ],
 "metadata": {
  "kernelspec": {
   "display_name": "Python 2",
   "language": "python",
   "name": "python2"
  },
  "language_info": {
   "codemirror_mode": {
    "name": "ipython",
    "version": 2
   },
   "file_extension": ".py",
   "mimetype": "text/x-python",
   "name": "python",
   "nbconvert_exporter": "python",
   "pygments_lexer": "ipython2",
   "version": "2.7.14"
  }
 },
 "nbformat": 4,
 "nbformat_minor": 2
}
